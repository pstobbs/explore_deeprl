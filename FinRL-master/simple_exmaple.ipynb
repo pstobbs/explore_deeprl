{
 "cells": [
  {
   "cell_type": "markdown",
   "id": "eb6506a9-746c-4a18-a923-91b783409932",
   "metadata": {},
   "source": [
    "### simple example\n",
    "from https://medium.datadriveninvestor.com/a-data-scientists-approach-for-algorithmic-trading-using-deep-reinforcement-learning-an-be8da40b2230\n"
   ]
  },
  {
   "cell_type": "code",
   "execution_count": 2,
   "id": "015bae01-5cf9-44ec-9143-f0e79a16dacd",
   "metadata": {},
   "outputs": [],
   "source": [
    "#imports\n",
    "import pandas as pd\n",
    "import numpy as np\n",
    "import matplotlib\n",
    "import matplotlib.pyplot as plt\n",
    "# matplotlib.use('Agg')\n",
    "import datetime\n",
    "\n",
    "%matplotlib inline\n",
    "from finrl.meta.preprocessor.yahoodownloader import YahooDownloader\n",
    "from finrl.meta.preprocessor.preprocessors import FeatureEngineer, data_split\n",
    "from finrl.meta.env_stock_trading.env_stocktrading import StockTradingEnv\n",
    "from finrl.agents.stablebaselines3.models import DRLAgent\n",
    "from stable_baselines3.common.logger import configure\n",
    "from finrl.meta.data_processor import DataProcessor\n",
    "\n",
    "from finrl.plot import backtest_stats, backtest_plot, get_daily_return, get_baseline\n",
    "from pprint import pprint\n",
    "\n",
    "import sys\n",
    "sys.path.append(\"../FinRL\")\n",
    "\n",
    "import itertools\n",
    "\n",
    "import json"
   ]
  },
  {
   "cell_type": "code",
   "execution_count": 21,
   "id": "0ffac798-7307-4b9b-a902-590d5d3df7eb",
   "metadata": {},
   "outputs": [
    {
     "data": {
      "text/plain": [
       "['personal', '.DS_Store', 'public', 'work', 'travel']"
      ]
     },
     "execution_count": 21,
     "metadata": {},
     "output_type": "execute_result"
    }
   ],
   "source": [
    "#!cat key_dir+key_file\n",
    "import os\n",
    "\n",
    "tmp = '/Users/piers/Google Drive/My Drive/'\n",
    "#tmp = '/Users/piers/Library/CloudStorage/GoogleDrive-piers.stobbs@gmail.com/My Drive'\n",
    "os.listdir(tmp)\n",
    "#arr = os.listdir('/Users/piers/\\\"Google Drive\\\"/\\\"My Drive\\\"/personal/code/')\n",
    "#arr"
   ]
  },
  {
   "cell_type": "code",
   "execution_count": 37,
   "id": "46f5fb59-e331-478d-b645-40edec5936f2",
   "metadata": {},
   "outputs": [
    {
     "name": "stdout",
     "output_type": "stream",
     "text": [
      "['CAC_40_TICKER', 'CSI_300_TICKER', 'DAX_30_TICKER', 'DOW_30_TICKER', 'FX_TICKER', 'HSI_50_TICKER', 'LQ45_TICKER', 'MDAX_50_TICKER', 'NAS_100_TICKER', 'SDAX_50_TICKER', 'SINGLE_TICKER', 'SP_500_TICKER', 'SRI_KEHATI_TICKER', 'SSE_50_TICKER', 'TECDAX_TICKER', '__builtins__', '__cached__', '__doc__', '__file__', '__loader__', '__name__', '__package__', '__spec__', 'annotations']\n",
      "['AXP', 'AMGN', 'AAPL', 'BA', 'CAT', 'CSCO', 'CVX', 'GS', 'HD', 'HON', 'IBM', 'INTC', 'JNJ', 'KO', 'JPM', 'MCD', 'MMM', 'MRK', 'MSFT', 'NKE', 'PG', 'TRV', 'UNH', 'CRM', 'VZ', 'V', 'WBA', 'WMT', 'DIS', 'DOW']\n",
      "['macd', 'boll_ub', 'boll_lb', 'rsi_30', 'cci_30', 'dx_30', 'close_30_sma', 'close_60_sma']\n"
     ]
    }
   ],
   "source": [
    "#tickers and indicators\n",
    "from finrl import config\n",
    "from finrl import config_tickers\n",
    "print(dir(config_tickers))\n",
    "ticker_list = config_tickers.DOW_30_TICKER\n",
    "print(ticker_list)\n",
    "TECHNICAL_INDICATORS_LIST = config.INDICATORS\n",
    "print(TECHNICAL_INDICATORS_LIST)"
   ]
  },
  {
   "cell_type": "code",
   "execution_count": 25,
   "id": "1bbc7193-953d-4d53-a668-c841442a5bb9",
   "metadata": {},
   "outputs": [],
   "source": [
    "#load key\n",
    "key_dir = '/Users/piers/Google Drive/My Drive/personal/code/'\n",
    "key_file = 'alpaca.json'\n",
    "f = open(key_dir+key_file)\n",
    "key = json.load(f)  \n",
    "# returns JSON object as \n",
    "# a dictionary"
   ]
  },
  {
   "cell_type": "code",
   "execution_count": 26,
   "id": "31be7500-2b2e-4a29-a9ef-df872d7f6133",
   "metadata": {},
   "outputs": [
    {
     "name": "stdout",
     "output_type": "stream",
     "text": [
      "Alpaca successfully connected\n"
     ]
    }
   ],
   "source": [
    "# pick data source\n",
    "API_KEY=key['api_key']\n",
    "API_SECRET=key['api_secret']\n",
    "APCA_API_BASE_URL='https://paper-api.alpaca.markets'\n",
    "\n",
    "DP = DataProcessor(data_source = 'alpaca',\n",
    "                   API_KEY = API_KEY,\n",
    "                   API_SECRET = API_SECRET,\n",
    "                   APCA_API_BASE_URL = APCA_API_BASE_URL)"
   ]
  },
  {
   "cell_type": "code",
   "execution_count": 30,
   "id": "4bb0fa7d-ddb5-4fa5-8b81-9fd007c95d88",
   "metadata": {},
   "outputs": [
    {
     "name": "stderr",
     "output_type": "stream",
     "text": [
      "/Users/piers/gitprojects/explore/explore_deeprl/FinRL-master/finrl/meta/data_processors/processor_alpaca.py:51: FutureWarning: Timedelta.delta is deprecated and will be removed in a future version.\n",
      "  if pd.Timedelta(time_interval).delta < day_delta:\n"
     ]
    }
   ],
   "source": [
    "#get data\n",
    "data = DP.download_data(start_date = '2021-10-01',\n",
    "                        end_date = '2021-10-05',\n",
    "                        ticker_list = ticker_list,\n",
    "                        time_interval= '1Min')"
   ]
  },
  {
   "cell_type": "code",
   "execution_count": 32,
   "id": "de875866-4115-400d-92fb-8a2a8a84d0cf",
   "metadata": {},
   "outputs": [
    {
     "data": {
      "text/html": [
       "<div>\n",
       "<style scoped>\n",
       "    .dataframe tbody tr th:only-of-type {\n",
       "        vertical-align: middle;\n",
       "    }\n",
       "\n",
       "    .dataframe tbody tr th {\n",
       "        vertical-align: top;\n",
       "    }\n",
       "\n",
       "    .dataframe thead th {\n",
       "        text-align: right;\n",
       "    }\n",
       "</style>\n",
       "<table border=\"1\" class=\"dataframe\">\n",
       "  <thead>\n",
       "    <tr style=\"text-align: right;\">\n",
       "      <th></th>\n",
       "      <th>timestamp</th>\n",
       "      <th>open</th>\n",
       "      <th>high</th>\n",
       "      <th>low</th>\n",
       "      <th>close</th>\n",
       "      <th>volume</th>\n",
       "      <th>trade_count</th>\n",
       "      <th>vwap</th>\n",
       "      <th>tic</th>\n",
       "    </tr>\n",
       "  </thead>\n",
       "  <tbody>\n",
       "    <tr>\n",
       "      <th>0</th>\n",
       "      <td>2021-10-01 09:30:00-04:00</td>\n",
       "      <td>141.83</td>\n",
       "      <td>142.040</td>\n",
       "      <td>141.51</td>\n",
       "      <td>141.89</td>\n",
       "      <td>1271789</td>\n",
       "      <td>7488</td>\n",
       "      <td>141.807895</td>\n",
       "      <td>AAPL</td>\n",
       "    </tr>\n",
       "    <tr>\n",
       "      <th>1</th>\n",
       "      <td>2021-10-01 09:31:00-04:00</td>\n",
       "      <td>141.89</td>\n",
       "      <td>141.960</td>\n",
       "      <td>141.41</td>\n",
       "      <td>141.43</td>\n",
       "      <td>523240</td>\n",
       "      <td>4755</td>\n",
       "      <td>141.695800</td>\n",
       "      <td>AAPL</td>\n",
       "    </tr>\n",
       "    <tr>\n",
       "      <th>2</th>\n",
       "      <td>2021-10-01 09:32:00-04:00</td>\n",
       "      <td>141.44</td>\n",
       "      <td>141.530</td>\n",
       "      <td>141.00</td>\n",
       "      <td>141.00</td>\n",
       "      <td>697099</td>\n",
       "      <td>7015</td>\n",
       "      <td>141.271372</td>\n",
       "      <td>AAPL</td>\n",
       "    </tr>\n",
       "    <tr>\n",
       "      <th>3</th>\n",
       "      <td>2021-10-01 09:33:00-04:00</td>\n",
       "      <td>141.01</td>\n",
       "      <td>141.165</td>\n",
       "      <td>140.75</td>\n",
       "      <td>140.79</td>\n",
       "      <td>796857</td>\n",
       "      <td>9188</td>\n",
       "      <td>140.952407</td>\n",
       "      <td>AAPL</td>\n",
       "    </tr>\n",
       "    <tr>\n",
       "      <th>4</th>\n",
       "      <td>2021-10-01 09:34:00-04:00</td>\n",
       "      <td>140.80</td>\n",
       "      <td>140.890</td>\n",
       "      <td>140.58</td>\n",
       "      <td>140.74</td>\n",
       "      <td>586007</td>\n",
       "      <td>4875</td>\n",
       "      <td>140.743007</td>\n",
       "      <td>AAPL</td>\n",
       "    </tr>\n",
       "  </tbody>\n",
       "</table>\n",
       "</div>"
      ],
      "text/plain": [
       "                  timestamp    open     high     low   close   volume  \\\n",
       "0 2021-10-01 09:30:00-04:00  141.83  142.040  141.51  141.89  1271789   \n",
       "1 2021-10-01 09:31:00-04:00  141.89  141.960  141.41  141.43   523240   \n",
       "2 2021-10-01 09:32:00-04:00  141.44  141.530  141.00  141.00   697099   \n",
       "3 2021-10-01 09:33:00-04:00  141.01  141.165  140.75  140.79   796857   \n",
       "4 2021-10-01 09:34:00-04:00  140.80  140.890  140.58  140.74   586007   \n",
       "\n",
       "   trade_count        vwap   tic  \n",
       "0         7488  141.807895  AAPL  \n",
       "1         4755  141.695800  AAPL  \n",
       "2         7015  141.271372  AAPL  \n",
       "3         9188  140.952407  AAPL  \n",
       "4         4875  140.743007  AAPL  "
      ]
     },
     "execution_count": 32,
     "metadata": {},
     "output_type": "execute_result"
    }
   ],
   "source": [
    "data.head()"
   ]
  },
  {
   "cell_type": "code",
   "execution_count": null,
   "id": "042e4682-daa9-4a47-9b28-f22d0c0affb8",
   "metadata": {},
   "outputs": [],
   "source": [
    "# cleanup and features\n",
    "data = DP.clean_data(data)\n",
    "data = DP.add_technical_indicator(data, TECHNICAL_INDICATORS_LIST)\n",
    "data = DP.add_vix(data)"
   ]
  },
  {
   "cell_type": "code",
   "execution_count": 35,
   "id": "c129c2a8-e172-41c8-a721-6c565522e514",
   "metadata": {},
   "outputs": [
    {
     "data": {
      "text/html": [
       "<div>\n",
       "<style scoped>\n",
       "    .dataframe tbody tr th:only-of-type {\n",
       "        vertical-align: middle;\n",
       "    }\n",
       "\n",
       "    .dataframe tbody tr th {\n",
       "        vertical-align: top;\n",
       "    }\n",
       "\n",
       "    .dataframe thead th {\n",
       "        text-align: right;\n",
       "    }\n",
       "</style>\n",
       "<table border=\"1\" class=\"dataframe\">\n",
       "  <thead>\n",
       "    <tr style=\"text-align: right;\">\n",
       "      <th></th>\n",
       "      <th>timestamp</th>\n",
       "      <th>open</th>\n",
       "      <th>high</th>\n",
       "      <th>low</th>\n",
       "      <th>close</th>\n",
       "      <th>volume</th>\n",
       "      <th>tic</th>\n",
       "      <th>macd</th>\n",
       "      <th>boll_ub</th>\n",
       "      <th>boll_lb</th>\n",
       "      <th>rsi_30</th>\n",
       "      <th>cci_30</th>\n",
       "      <th>dx_30</th>\n",
       "      <th>close_30_sma</th>\n",
       "      <th>close_60_sma</th>\n",
       "      <th>VIXY</th>\n",
       "    </tr>\n",
       "  </thead>\n",
       "  <tbody>\n",
       "    <tr>\n",
       "      <th>0</th>\n",
       "      <td>2021-10-01 09:30:00-04:00</td>\n",
       "      <td>141.83</td>\n",
       "      <td>142.04</td>\n",
       "      <td>141.51</td>\n",
       "      <td>141.89</td>\n",
       "      <td>1271789.0</td>\n",
       "      <td>AAPL</td>\n",
       "      <td>0.0</td>\n",
       "      <td>NaN</td>\n",
       "      <td>NaN</td>\n",
       "      <td>NaN</td>\n",
       "      <td>NaN</td>\n",
       "      <td>NaN</td>\n",
       "      <td>141.89</td>\n",
       "      <td>141.89</td>\n",
       "      <td>22.17</td>\n",
       "    </tr>\n",
       "    <tr>\n",
       "      <th>1</th>\n",
       "      <td>2021-10-01 09:30:00-04:00</td>\n",
       "      <td>212.69</td>\n",
       "      <td>214.05</td>\n",
       "      <td>212.68</td>\n",
       "      <td>212.71</td>\n",
       "      <td>41899.0</td>\n",
       "      <td>AMGN</td>\n",
       "      <td>0.0</td>\n",
       "      <td>NaN</td>\n",
       "      <td>NaN</td>\n",
       "      <td>NaN</td>\n",
       "      <td>NaN</td>\n",
       "      <td>NaN</td>\n",
       "      <td>212.71</td>\n",
       "      <td>212.71</td>\n",
       "      <td>22.17</td>\n",
       "    </tr>\n",
       "    <tr>\n",
       "      <th>2</th>\n",
       "      <td>2021-10-01 09:30:00-04:00</td>\n",
       "      <td>168.86</td>\n",
       "      <td>168.86</td>\n",
       "      <td>168.86</td>\n",
       "      <td>168.86</td>\n",
       "      <td>0.0</td>\n",
       "      <td>AXP</td>\n",
       "      <td>0.0</td>\n",
       "      <td>NaN</td>\n",
       "      <td>NaN</td>\n",
       "      <td>NaN</td>\n",
       "      <td>NaN</td>\n",
       "      <td>NaN</td>\n",
       "      <td>168.86</td>\n",
       "      <td>168.86</td>\n",
       "      <td>22.17</td>\n",
       "    </tr>\n",
       "    <tr>\n",
       "      <th>3</th>\n",
       "      <td>2021-10-01 09:30:00-04:00</td>\n",
       "      <td>222.85</td>\n",
       "      <td>223.92</td>\n",
       "      <td>222.85</td>\n",
       "      <td>223.77</td>\n",
       "      <td>189914.0</td>\n",
       "      <td>BA</td>\n",
       "      <td>0.0</td>\n",
       "      <td>NaN</td>\n",
       "      <td>NaN</td>\n",
       "      <td>NaN</td>\n",
       "      <td>NaN</td>\n",
       "      <td>NaN</td>\n",
       "      <td>223.77</td>\n",
       "      <td>223.77</td>\n",
       "      <td>22.17</td>\n",
       "    </tr>\n",
       "    <tr>\n",
       "      <th>4</th>\n",
       "      <td>2021-10-01 09:30:00-04:00</td>\n",
       "      <td>192.90</td>\n",
       "      <td>194.00</td>\n",
       "      <td>192.90</td>\n",
       "      <td>193.73</td>\n",
       "      <td>72151.0</td>\n",
       "      <td>CAT</td>\n",
       "      <td>0.0</td>\n",
       "      <td>NaN</td>\n",
       "      <td>NaN</td>\n",
       "      <td>NaN</td>\n",
       "      <td>NaN</td>\n",
       "      <td>NaN</td>\n",
       "      <td>193.73</td>\n",
       "      <td>193.73</td>\n",
       "      <td>22.17</td>\n",
       "    </tr>\n",
       "  </tbody>\n",
       "</table>\n",
       "</div>"
      ],
      "text/plain": [
       "                  timestamp    open    high     low   close     volume   tic  \\\n",
       "0 2021-10-01 09:30:00-04:00  141.83  142.04  141.51  141.89  1271789.0  AAPL   \n",
       "1 2021-10-01 09:30:00-04:00  212.69  214.05  212.68  212.71    41899.0  AMGN   \n",
       "2 2021-10-01 09:30:00-04:00  168.86  168.86  168.86  168.86        0.0   AXP   \n",
       "3 2021-10-01 09:30:00-04:00  222.85  223.92  222.85  223.77   189914.0    BA   \n",
       "4 2021-10-01 09:30:00-04:00  192.90  194.00  192.90  193.73    72151.0   CAT   \n",
       "\n",
       "   macd  boll_ub  boll_lb  rsi_30  cci_30  dx_30  close_30_sma  close_60_sma  \\\n",
       "0   0.0      NaN      NaN     NaN     NaN    NaN        141.89        141.89   \n",
       "1   0.0      NaN      NaN     NaN     NaN    NaN        212.71        212.71   \n",
       "2   0.0      NaN      NaN     NaN     NaN    NaN        168.86        168.86   \n",
       "3   0.0      NaN      NaN     NaN     NaN    NaN        223.77        223.77   \n",
       "4   0.0      NaN      NaN     NaN     NaN    NaN        193.73        193.73   \n",
       "\n",
       "    VIXY  \n",
       "0  22.17  \n",
       "1  22.17  \n",
       "2  22.17  \n",
       "3  22.17  \n",
       "4  22.17  "
      ]
     },
     "execution_count": 35,
     "metadata": {},
     "output_type": "execute_result"
    }
   ],
   "source": [
    "data.head()"
   ]
  },
  {
   "cell_type": "code",
   "execution_count": 36,
   "id": "89ae8451-9f8e-40ab-9964-0d59dae7db7d",
   "metadata": {},
   "outputs": [
    {
     "name": "stdout",
     "output_type": "stream",
     "text": [
      "Successfully transformed into array\n"
     ]
    }
   ],
   "source": [
    "#transform to numpy\n",
    "price_array, tech_array, turbulence_array = DP.df_to_array(data, if_vix='True')"
   ]
  },
  {
   "cell_type": "code",
   "execution_count": 38,
   "id": "71cf915e-5da3-4699-849f-099a817c731e",
   "metadata": {},
   "outputs": [
    {
     "ename": "NameError",
     "evalue": "name 'train' is not defined",
     "output_type": "error",
     "traceback": [
      "\u001b[0;31m---------------------------------------------------------------------------\u001b[0m",
      "\u001b[0;31mNameError\u001b[0m                                 Traceback (most recent call last)",
      "Cell \u001b[0;32mIn [38], line 8\u001b[0m\n\u001b[1;32m      1\u001b[0m \u001b[38;5;66;03m#train drl agent\u001b[39;00m\n\u001b[1;32m      2\u001b[0m \u001b[38;5;66;03m#demo for elegantrl\u001b[39;00m\n\u001b[1;32m      3\u001b[0m ERL_PARAMS \u001b[38;5;241m=\u001b[39m {\u001b[38;5;124m\"\u001b[39m\u001b[38;5;124mlearning_rate\u001b[39m\u001b[38;5;124m\"\u001b[39m: \u001b[38;5;241m3e-5\u001b[39m,\n\u001b[1;32m      4\u001b[0m               \u001b[38;5;124m\"\u001b[39m\u001b[38;5;124mbatch_size\u001b[39m\u001b[38;5;124m\"\u001b[39m: \u001b[38;5;241m2048\u001b[39m,\n\u001b[1;32m      5\u001b[0m               \u001b[38;5;124m\"\u001b[39m\u001b[38;5;124mgamma\u001b[39m\u001b[38;5;124m\"\u001b[39m: \u001b[38;5;241m0.99\u001b[39m,\n\u001b[1;32m      6\u001b[0m               \u001b[38;5;124m\"\u001b[39m\u001b[38;5;124mseed\u001b[39m\u001b[38;5;124m\"\u001b[39m:\u001b[38;5;241m312\u001b[39m,\n\u001b[1;32m      7\u001b[0m               \u001b[38;5;124m\"\u001b[39m\u001b[38;5;124mnet_dimension\u001b[39m\u001b[38;5;124m\"\u001b[39m:\u001b[38;5;241m512\u001b[39m}\n\u001b[0;32m----> 8\u001b[0m \u001b[43mtrain\u001b[49m(start_date \u001b[38;5;241m=\u001b[39m \u001b[38;5;124m'\u001b[39m\u001b[38;5;124m2021-10-11\u001b[39m\u001b[38;5;124m'\u001b[39m,\n\u001b[1;32m      9\u001b[0m       end_date \u001b[38;5;241m=\u001b[39m \u001b[38;5;124m'\u001b[39m\u001b[38;5;124m2021-10-15\u001b[39m\u001b[38;5;124m'\u001b[39m,\n\u001b[1;32m     10\u001b[0m       ticker_list \u001b[38;5;241m=\u001b[39m ticker_list,\n\u001b[1;32m     11\u001b[0m       data_source \u001b[38;5;241m=\u001b[39m \u001b[38;5;124m'\u001b[39m\u001b[38;5;124malpaca\u001b[39m\u001b[38;5;124m'\u001b[39m,\n\u001b[1;32m     12\u001b[0m       time_interval\u001b[38;5;241m=\u001b[39m \u001b[38;5;124m'\u001b[39m\u001b[38;5;124m1Min\u001b[39m\u001b[38;5;124m'\u001b[39m,\n\u001b[1;32m     13\u001b[0m       technical_indicator_list\u001b[38;5;241m=\u001b[39m TECHNICAL_INDICATORS_LIST,\n\u001b[1;32m     14\u001b[0m       drl_lib\u001b[38;5;241m=\u001b[39m\u001b[38;5;124m'\u001b[39m\u001b[38;5;124melegantrl\u001b[39m\u001b[38;5;124m'\u001b[39m,\n\u001b[1;32m     15\u001b[0m       env\u001b[38;5;241m=\u001b[39menv,\n\u001b[1;32m     16\u001b[0m       model_name\u001b[38;5;241m=\u001b[39m\u001b[38;5;124m'\u001b[39m\u001b[38;5;124mppo\u001b[39m\u001b[38;5;124m'\u001b[39m,\n\u001b[1;32m     17\u001b[0m       API_KEY \u001b[38;5;241m=\u001b[39m API_KEY,\n\u001b[1;32m     18\u001b[0m       API_SECRET \u001b[38;5;241m=\u001b[39m API_SECRET,\n\u001b[1;32m     19\u001b[0m       APCA_API_BASE_URL \u001b[38;5;241m=\u001b[39m APCA_API_BASE_URL,\n\u001b[1;32m     20\u001b[0m       erl_params\u001b[38;5;241m=\u001b[39mERL_PARAMS,\n\u001b[1;32m     21\u001b[0m       cwd\u001b[38;5;241m=\u001b[39m\u001b[38;5;124m'\u001b[39m\u001b[38;5;124m./papertrading_erl\u001b[39m\u001b[38;5;124m'\u001b[39m,\n\u001b[1;32m     22\u001b[0m       total_timesteps\u001b[38;5;241m=\u001b[39m\u001b[38;5;241m1e5\u001b[39m)\n",
      "\u001b[0;31mNameError\u001b[0m: name 'train' is not defined"
     ]
    }
   ],
   "source": [
    "#train drl agent\n",
    "#demo for elegantrl\n",
    "ERL_PARAMS = {\"learning_rate\": 3e-5,\n",
    "              \"batch_size\": 2048,\n",
    "              \"gamma\": 0.99,\n",
    "              \"seed\":312,\n",
    "              \"net_dimension\":512}\n",
    "train(start_date = '2021-10-11',\n",
    "      end_date = '2021-10-15',\n",
    "      ticker_list = ticker_list,\n",
    "      data_source = 'alpaca',\n",
    "      time_interval= '1Min',\n",
    "      technical_indicator_list= TECHNICAL_INDICATORS_LIST,\n",
    "      drl_lib='elegantrl',\n",
    "      env=env,\n",
    "      model_name='ppo',\n",
    "      API_KEY = API_KEY,\n",
    "      API_SECRET = API_SECRET,\n",
    "      APCA_API_BASE_URL = APCA_API_BASE_URL,\n",
    "      erl_params=ERL_PARAMS,\n",
    "      cwd='./papertrading_erl',\n",
    "      total_timesteps=1e5)\n"
   ]
  },
  {
   "cell_type": "code",
   "execution_count": null,
   "id": "f6a4786c-b274-4a41-9d71-f8dc61b51fff",
   "metadata": {},
   "outputs": [],
   "source": []
  }
 ],
 "metadata": {
  "kernelspec": {
   "display_name": "Python 3 (ipykernel)",
   "language": "python",
   "name": "python3"
  },
  "language_info": {
   "codemirror_mode": {
    "name": "ipython",
    "version": 3
   },
   "file_extension": ".py",
   "mimetype": "text/x-python",
   "name": "python",
   "nbconvert_exporter": "python",
   "pygments_lexer": "ipython3",
   "version": "3.9.13"
  }
 },
 "nbformat": 4,
 "nbformat_minor": 5
}
