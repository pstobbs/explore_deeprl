{
 "cells": [
  {
   "cell_type": "markdown",
   "metadata": {
    "id": "yfv52r2G33jY"
   },
   "source": [
    "<a href=\"https://colab.research.google.com/github/AI4Finance-Foundation/FinRL/blob/master/Stock_NeurIPS2018.ipynb\" target=\"_parent\"><img src=\"https://colab.research.google.com/assets/colab-badge.svg\" alt=\"Open In Colab\"/></a>"
   ]
  },
  {
   "cell_type": "markdown",
   "metadata": {
    "id": "gXaoZs2lh1hi"
   },
   "source": [
    "# Deep Reinforcement Learning for Stock Trading from Scratch: Multiple Stock Trading\n",
    "\n",
    "* **Pytorch Version** \n",
    "\n"
   ]
  },
  {
   "cell_type": "markdown",
   "metadata": {
    "id": "lGunVt8oLCVS"
   },
   "source": [
    "# Content"
   ]
  },
  {
   "cell_type": "markdown",
   "metadata": {
    "id": "HOzAKQ-SLGX6"
   },
   "source": [
    "* [1. Task Description](#0)\n",
    "* [2. Install Python packages](#1)\n",
    "    * [2.1. Install Packages](#1.1)    \n",
    "    * [2.2. A List of Python Packages](#1.2)\n",
    "    * [2.3. Import Packages](#1.3)\n",
    "    * [2.4. Create Folders](#1.4)\n",
    "* [3. Download and Preprocess Data](#2)\n",
    "* [4. Preprocess Data](#3)        \n",
    "    * [4.1. Technical Indicators](#3.1)\n",
    "    * [4.2. Perform Feature Engineering](#3.2)\n",
    "* [5. Build Market Environment in OpenAI Gym-style](#4)  \n",
    "    * [5.1. Data Split](#4.1)  \n",
    "    * [5.3. Environment for Training](#4.2)    \n",
    "* [6. Train DRL Agents](#5)\n",
    "* [7. Backtesting Performance](#6)  \n",
    "    * [7.1. BackTestStats](#6.1)\n",
    "    * [7.2. BackTestPlot](#6.2)   \n",
    "  "
   ]
  },
  {
   "cell_type": "markdown",
   "metadata": {
    "id": "sApkDlD9LIZv"
   },
   "source": [
    "<a id='0'></a>\n",
    "# Part 1. Task Discription"
   ]
  },
  {
   "cell_type": "markdown",
   "metadata": {
    "id": "HjLD2TZSLKZ-"
   },
   "source": [
    "We train a DRL agent for stock trading. This task is modeled as a Markov Decision Process (MDP), and the objective function is maximizing (expected) cumulative return.\n",
    "\n",
    "We specify the state-action-reward as follows:\n",
    "\n",
    "* **State s**: The state space represents an agent's perception of the market environment. Just like a human trader analyzing various information, here our agent passively observes many features and learns by interacting with the market environment (usually by replaying historical data).\n",
    "\n",
    "* **Action a**: The action space includes allowed actions that an agent can take at each state. For example, a ∈ {−1, 0, 1}, where −1, 0, 1 represent\n",
    "selling, holding, and buying. When an action operates multiple shares, a ∈{−k, ..., −1, 0, 1, ..., k}, e.g.. \"Buy\n",
    "10 shares of AAPL\" or \"Sell 10 shares of AAPL\" are 10 or −10, respectively\n",
    "\n",
    "* **Reward function r(s, a, s′)**: Reward is an incentive for an agent to learn a better policy. For example, it can be the change of the portfolio value when taking a at state s and arriving at new state s',  i.e., r(s, a, s′) = v′ − v, where v′ and v represent the portfolio values at state s′ and s, respectively\n",
    "\n",
    "\n",
    "**Market environment**: 30 consituent stocks of Dow Jones Industrial Average (DJIA) index. Accessed at the starting date of the testing period.\n",
    "\n",
    "\n",
    "The data for this case study is obtained from Yahoo Finance API. The data contains Open-High-Low-Close price and volume.\n"
   ]
  },
  {
   "cell_type": "markdown",
   "metadata": {
    "id": "Ffsre789LY08"
   },
   "source": [
    "<a id='1'></a>\n",
    "# Part 2. Install Python Packages"
   ]
  },
  {
   "cell_type": "markdown",
   "metadata": {
    "id": "Uy5_PTmOh1hj"
   },
   "source": [
    "<a id='1.1'></a>\n",
    "## 2.1. Install packages\n"
   ]
  },
  {
   "cell_type": "code",
   "execution_count": null,
   "metadata": {
    "colab": {
     "base_uri": "https://localhost:8080/"
    },
    "id": "mPT0ipYE28wL",
    "outputId": "02a8a804-d120-4388-a167-20a81cb33d87"
   },
   "outputs": [],
   "source": [
    "## install finrl library\n",
    "!pip install git+https://github.com/AI4Finance-Foundation/FinRL.git"
   ]
  },
  {
   "cell_type": "markdown",
   "metadata": {
    "id": "osBHhVysOEzi"
   },
   "source": [
    "\n",
    "<a id='1.2'></a>\n",
    "## 2.2. A list of Python packages \n",
    "* Yahoo Finance API\n",
    "* pandas\n",
    "* numpy\n",
    "* matplotlib\n",
    "* stockstats\n",
    "* OpenAI gym\n",
    "* stable-baselines\n",
    "* tensorflow\n",
    "* pyfolio"
   ]
  },
  {
   "cell_type": "markdown",
   "metadata": {
    "id": "nGv01K8Sh1hn"
   },
   "source": [
    "<a id='1.3'></a>\n",
    "## 2.3. Import Packages"
   ]
  },
  {
   "cell_type": "code",
   "execution_count": 1,
   "metadata": {
    "id": "lPqeTTwoh1hn"
   },
   "outputs": [
    {
     "name": "stderr",
     "output_type": "stream",
     "text": [
      "/Users/piers/.local/share/virtualenvs/explore_deeprl-G_e47ABP/lib/python3.9/site-packages/tqdm/auto.py:22: TqdmWarning: IProgress not found. Please update jupyter and ipywidgets. See https://ipywidgets.readthedocs.io/en/stable/user_install.html\n",
      "  from .autonotebook import tqdm as notebook_tqdm\n",
      "/Users/piers/.local/share/virtualenvs/explore_deeprl-G_e47ABP/lib/python3.9/site-packages/pyfolio/pos.py:26: UserWarning: Module \"zipline.assets\" not found; multipliers will not be applied to position notionals.\n",
      "  warnings.warn(\n"
     ]
    }
   ],
   "source": [
    "import pandas as pd\n",
    "import numpy as np\n",
    "import matplotlib\n",
    "import matplotlib.pyplot as plt\n",
    "# matplotlib.use('Agg')\n",
    "import datetime\n",
    "\n",
    "%matplotlib inline\n",
    "from finrl.meta.preprocessor.yahoodownloader import YahooDownloader\n",
    "from finrl.meta.preprocessor.preprocessors import FeatureEngineer, data_split\n",
    "from finrl.meta.env_stock_trading.env_stocktrading import StockTradingEnv\n",
    "from finrl.agents.stablebaselines3.models import DRLAgent\n",
    "from stable_baselines3.common.logger import configure\n",
    "from finrl.meta.data_processor import DataProcessor\n",
    "\n",
    "from finrl.plot import backtest_stats, backtest_plot, get_daily_return, get_baseline\n",
    "from pprint import pprint\n",
    "\n",
    "import sys\n",
    "sys.path.append(\"../FinRL\")\n",
    "\n",
    "import itertools\n",
    "\n"
   ]
  },
  {
   "cell_type": "code",
   "execution_count": 2,
   "metadata": {},
   "outputs": [],
   "source": [
    "import warnings\n",
    "warnings.filterwarnings(\"ignore\")"
   ]
  },
  {
   "cell_type": "markdown",
   "metadata": {
    "id": "T2owTj985RW4"
   },
   "source": [
    "<a id='1.4'></a>\n",
    "## 2.4. Create Folders"
   ]
  },
  {
   "cell_type": "code",
   "execution_count": 3,
   "metadata": {
    "id": "RtUc_ofKmpdy"
   },
   "outputs": [],
   "source": [
    "from finrl import config\n",
    "from finrl import config_tickers\n",
    "import os\n",
    "from finrl.main import check_and_make_directories\n",
    "from finrl.config import (\n",
    "    DATA_SAVE_DIR,\n",
    "    TRAINED_MODEL_DIR,\n",
    "    TENSORBOARD_LOG_DIR,\n",
    "    RESULTS_DIR,\n",
    "    INDICATORS,\n",
    "    TRAIN_START_DATE,\n",
    "    TRAIN_END_DATE,\n",
    "    TEST_START_DATE,\n",
    "    TEST_END_DATE,\n",
    "    TRADE_START_DATE,\n",
    "    TRADE_END_DATE,\n",
    ")\n",
    "check_and_make_directories([DATA_SAVE_DIR, TRAINED_MODEL_DIR, TENSORBOARD_LOG_DIR, RESULTS_DIR])\n",
    "\n"
   ]
  },
  {
   "cell_type": "code",
   "execution_count": 4,
   "metadata": {},
   "outputs": [],
   "source": [
    "#print(dir(config_tickers))\n",
    "#print(config_tickers.SINGLE_TICKER)"
   ]
  },
  {
   "cell_type": "code",
   "execution_count": null,
   "metadata": {},
   "outputs": [],
   "source": []
  },
  {
   "cell_type": "code",
   "execution_count": 5,
   "metadata": {},
   "outputs": [
    {
     "data": {
      "text/plain": [
       "('2014-01-06', '2020-08-01', '2021-11-01')"
      ]
     },
     "execution_count": 5,
     "metadata": {},
     "output_type": "execute_result"
    }
   ],
   "source": [
    "TRAIN_START_DATE, TEST_START_DATE, TRADE_START_DATE"
   ]
  },
  {
   "cell_type": "markdown",
   "metadata": {
    "id": "A289rQWMh1hq"
   },
   "source": [
    "<a id='2'></a>\n",
    "# Part 3. Download Data\n",
    "Yahoo Finance provides stock data, financial news, financial reports, etc. Yahoo Finance is free.\n",
    "* FinRL uses a class **YahooDownloader** in FinRL-Meta to fetch data via Yahoo Finance API\n",
    "* Call Limit: Using the Public API (without authentication), you are limited to 2,000 requests per hour per IP (or up to a total of 48,000 requests a day)."
   ]
  },
  {
   "cell_type": "markdown",
   "metadata": {
    "id": "NPeQ7iS-LoMm"
   },
   "source": [
    "\n",
    "\n",
    "-----\n",
    "class YahooDownloader:\n",
    "    Retrieving daily stock data from\n",
    "    Yahoo Finance API\n",
    "\n",
    "    Attributes\n",
    "    ----------\n",
    "        start_date : str\n",
    "            start date of the data (modified from config.py)\n",
    "        end_date : str\n",
    "            end date of the data (modified from config.py)\n",
    "        ticker_list : list\n",
    "            a list of stock tickers (modified from config.py)\n",
    "\n",
    "    Methods\n",
    "    -------\n",
    "    fetch_data()\n"
   ]
  },
  {
   "cell_type": "code",
   "execution_count": 6,
   "metadata": {
    "colab": {
     "base_uri": "https://localhost:8080/",
     "height": 35
    },
    "id": "h3XJnvrbLp-C",
    "outputId": "3c4dda81-f617-4e9b-f88c-edb502d1500c"
   },
   "outputs": [
    {
     "data": {
      "text/plain": [
       "'2020-07-31'"
      ]
     },
     "execution_count": 6,
     "metadata": {},
     "output_type": "execute_result"
    }
   ],
   "source": [
    "# from config.py, TRAIN_START_DATE is a string\n",
    "TRAIN_START_DATE\n",
    "# from config.py, TRAIN_END_DATE is a string\n",
    "TRAIN_END_DATE"
   ]
  },
  {
   "cell_type": "code",
   "execution_count": 7,
   "metadata": {
    "id": "FUnY8WEfLq3C"
   },
   "outputs": [],
   "source": [
    "TRAIN_START_DATE = '2009-01-01'\n",
    "TRAIN_END_DATE = '2020-07-01'\n",
    "TRADE_START_DATE = '2020-07-01'\n",
    "TRADE_END_DATE = '2021-10-31'\n"
   ]
  },
  {
   "cell_type": "code",
   "execution_count": 15,
   "metadata": {
    "colab": {
     "base_uri": "https://localhost:8080/"
    },
    "id": "yCKm4om-s9kE",
    "outputId": "24dbccc1-190c-4912-b67a-9fe8fd9afbf2"
   },
   "outputs": [
    {
     "name": "stdout",
     "output_type": "stream",
     "text": [
      "[*********************100%***********************]  1 of 1 completed\n",
      "Shape of DataFrame:  (3230, 8)\n"
     ]
    }
   ],
   "source": [
    "# S&P 500: ^GSPC or SPY\n",
    "# Dow Jones Index: ^DJI\n",
    "# NASDAQ 100: ^NDX\n",
    "config_tickers.SINGLE_TICKER=['MCD']\n",
    "df = YahooDownloader(start_date = TRAIN_START_DATE,\n",
    "                     end_date = TRADE_END_DATE,\n",
    "                     ticker_list = config_tickers.SINGLE_TICKER).fetch_data()"
   ]
  },
  {
   "cell_type": "code",
   "execution_count": 16,
   "metadata": {
    "colab": {
     "base_uri": "https://localhost:8080/"
    },
    "id": "JzqRRTOX6aFu",
    "outputId": "85539f72-49fe-4418-9a75-5fa715cbfac9"
   },
   "outputs": [],
   "source": [
    "#print(config_tickers.DOW_30_TICKER)"
   ]
  },
  {
   "cell_type": "code",
   "execution_count": 17,
   "metadata": {
    "colab": {
     "base_uri": "https://localhost:8080/"
    },
    "id": "CV3HrZHLh1hy",
    "outputId": "f1031e65-9b05-4fb4-9128-3b7babd894c5"
   },
   "outputs": [
    {
     "data": {
      "text/plain": [
       "(3230, 8)"
      ]
     },
     "execution_count": 17,
     "metadata": {},
     "output_type": "execute_result"
    }
   ],
   "source": [
    "df.shape"
   ]
  },
  {
   "cell_type": "code",
   "execution_count": 18,
   "metadata": {
    "colab": {
     "base_uri": "https://localhost:8080/",
     "height": 206
    },
    "id": "4hYkeaPiICHS",
    "outputId": "95d13d1e-3c8d-441e-835e-b9c7c121fd9f"
   },
   "outputs": [
    {
     "data": {
      "text/html": [
       "<div>\n",
       "<style scoped>\n",
       "    .dataframe tbody tr th:only-of-type {\n",
       "        vertical-align: middle;\n",
       "    }\n",
       "\n",
       "    .dataframe tbody tr th {\n",
       "        vertical-align: top;\n",
       "    }\n",
       "\n",
       "    .dataframe thead th {\n",
       "        text-align: right;\n",
       "    }\n",
       "</style>\n",
       "<table border=\"1\" class=\"dataframe\">\n",
       "  <thead>\n",
       "    <tr style=\"text-align: right;\">\n",
       "      <th></th>\n",
       "      <th>date</th>\n",
       "      <th>open</th>\n",
       "      <th>high</th>\n",
       "      <th>low</th>\n",
       "      <th>close</th>\n",
       "      <th>volume</th>\n",
       "      <th>tic</th>\n",
       "      <th>day</th>\n",
       "    </tr>\n",
       "  </thead>\n",
       "  <tbody>\n",
       "    <tr>\n",
       "      <th>0</th>\n",
       "      <td>2009-01-02</td>\n",
       "      <td>62.380001</td>\n",
       "      <td>64.129997</td>\n",
       "      <td>62.200001</td>\n",
       "      <td>42.632057</td>\n",
       "      <td>8652700</td>\n",
       "      <td>MCD</td>\n",
       "      <td>4</td>\n",
       "    </tr>\n",
       "    <tr>\n",
       "      <th>1</th>\n",
       "      <td>2009-01-05</td>\n",
       "      <td>63.259998</td>\n",
       "      <td>63.840000</td>\n",
       "      <td>62.889999</td>\n",
       "      <td>42.504997</td>\n",
       "      <td>7692900</td>\n",
       "      <td>MCD</td>\n",
       "      <td>0</td>\n",
       "    </tr>\n",
       "    <tr>\n",
       "      <th>2</th>\n",
       "      <td>2009-01-06</td>\n",
       "      <td>63.990002</td>\n",
       "      <td>64.459999</td>\n",
       "      <td>61.830002</td>\n",
       "      <td>41.555389</td>\n",
       "      <td>10855700</td>\n",
       "      <td>MCD</td>\n",
       "      <td>1</td>\n",
       "    </tr>\n",
       "    <tr>\n",
       "      <th>3</th>\n",
       "      <td>2009-01-07</td>\n",
       "      <td>61.930000</td>\n",
       "      <td>62.570000</td>\n",
       "      <td>60.840000</td>\n",
       "      <td>40.953526</td>\n",
       "      <td>7910400</td>\n",
       "      <td>MCD</td>\n",
       "      <td>2</td>\n",
       "    </tr>\n",
       "    <tr>\n",
       "      <th>4</th>\n",
       "      <td>2009-01-08</td>\n",
       "      <td>60.830002</td>\n",
       "      <td>60.830002</td>\n",
       "      <td>59.700001</td>\n",
       "      <td>40.472027</td>\n",
       "      <td>9382300</td>\n",
       "      <td>MCD</td>\n",
       "      <td>3</td>\n",
       "    </tr>\n",
       "  </tbody>\n",
       "</table>\n",
       "</div>"
      ],
      "text/plain": [
       "         date       open       high        low      close    volume  tic  day\n",
       "0  2009-01-02  62.380001  64.129997  62.200001  42.632057   8652700  MCD    4\n",
       "1  2009-01-05  63.259998  63.840000  62.889999  42.504997   7692900  MCD    0\n",
       "2  2009-01-06  63.990002  64.459999  61.830002  41.555389  10855700  MCD    1\n",
       "3  2009-01-07  61.930000  62.570000  60.840000  40.953526   7910400  MCD    2\n",
       "4  2009-01-08  60.830002  60.830002  59.700001  40.472027   9382300  MCD    3"
      ]
     },
     "execution_count": 18,
     "metadata": {},
     "output_type": "execute_result"
    }
   ],
   "source": [
    "df.sort_values(['date','tic'],ignore_index=True).head()"
   ]
  },
  {
   "cell_type": "markdown",
   "metadata": {
    "id": "uqC6c40Zh1iH"
   },
   "source": [
    "# Part 4: Preprocess Data\n",
    "We need to check for missing data and do feature engineering to convert the data point into a state.\n",
    "* **Adding technical indicators**. In practical trading, various information needs to be taken into account, such as historical prices, current holding shares, technical indicators, etc. Here, we demonstrate two trend-following technical indicators: MACD and RSI.\n",
    "* **Adding turbulence index**. Risk-aversion reflects whether an investor prefers to protect the capital. It also influences one's trading strategy when facing different market volatility level. To control the risk in a worst-case scenario, such as financial crisis of 2007–2008, FinRL employs the turbulence index that measures extreme fluctuation of asset price."
   ]
  },
  {
   "cell_type": "code",
   "execution_count": 19,
   "metadata": {
    "colab": {
     "base_uri": "https://localhost:8080/"
    },
    "id": "PmKP-1ii3RLS",
    "outputId": "9b9facc1-f877-4caa-b66b-a2ce0e023de8"
   },
   "outputs": [
    {
     "name": "stdout",
     "output_type": "stream",
     "text": [
      "Successfully added technical indicators\n",
      "[*********************100%***********************]  1 of 1 completed\n",
      "Shape of DataFrame:  (3229, 8)\n",
      "Successfully added vix\n",
      "Successfully added turbulence index\n"
     ]
    }
   ],
   "source": [
    "fe = FeatureEngineer(\n",
    "                    use_technical_indicator=True,\n",
    "                    tech_indicator_list = INDICATORS,\n",
    "                    use_vix=True,\n",
    "                    use_turbulence=True,\n",
    "                    user_defined_feature = False)\n",
    "\n",
    "processed = fe.preprocess_data(df)"
   ]
  },
  {
   "cell_type": "code",
   "execution_count": 20,
   "metadata": {
    "id": "Kixon2tR3RLT"
   },
   "outputs": [],
   "source": [
    "list_ticker = processed[\"tic\"].unique().tolist()\n",
    "list_date = list(pd.date_range(processed['date'].min(),processed['date'].max()).astype(str))\n",
    "combination = list(itertools.product(list_date,list_ticker))\n",
    "\n",
    "processed_full = pd.DataFrame(combination,columns=[\"date\",\"tic\"]).merge(processed,on=[\"date\",\"tic\"],how=\"left\")\n",
    "processed_full = processed_full[processed_full['date'].isin(processed['date'])]\n",
    "processed_full = processed_full.sort_values(['date','tic'])\n",
    "\n",
    "processed_full = processed_full.fillna(0)\n"
   ]
  },
  {
   "cell_type": "code",
   "execution_count": 21,
   "metadata": {
    "colab": {
     "base_uri": "https://localhost:8080/",
     "height": 407
    },
    "id": "grvhGJJII3Xn",
    "outputId": "8e48188a-d58d-4d2c-dbed-fecacb74984e"
   },
   "outputs": [
    {
     "data": {
      "text/html": [
       "<div>\n",
       "<style scoped>\n",
       "    .dataframe tbody tr th:only-of-type {\n",
       "        vertical-align: middle;\n",
       "    }\n",
       "\n",
       "    .dataframe tbody tr th {\n",
       "        vertical-align: top;\n",
       "    }\n",
       "\n",
       "    .dataframe thead th {\n",
       "        text-align: right;\n",
       "    }\n",
       "</style>\n",
       "<table border=\"1\" class=\"dataframe\">\n",
       "  <thead>\n",
       "    <tr style=\"text-align: right;\">\n",
       "      <th></th>\n",
       "      <th>date</th>\n",
       "      <th>tic</th>\n",
       "      <th>open</th>\n",
       "      <th>high</th>\n",
       "      <th>low</th>\n",
       "      <th>close</th>\n",
       "      <th>volume</th>\n",
       "      <th>day</th>\n",
       "      <th>macd</th>\n",
       "      <th>boll_ub</th>\n",
       "      <th>boll_lb</th>\n",
       "      <th>rsi_30</th>\n",
       "      <th>cci_30</th>\n",
       "      <th>dx_30</th>\n",
       "      <th>close_30_sma</th>\n",
       "      <th>close_60_sma</th>\n",
       "      <th>vix</th>\n",
       "      <th>turbulence</th>\n",
       "    </tr>\n",
       "  </thead>\n",
       "  <tbody>\n",
       "    <tr>\n",
       "      <th>0</th>\n",
       "      <td>2009-01-02</td>\n",
       "      <td>MCD</td>\n",
       "      <td>62.380001</td>\n",
       "      <td>64.129997</td>\n",
       "      <td>62.200001</td>\n",
       "      <td>42.632057</td>\n",
       "      <td>8652700.0</td>\n",
       "      <td>4.0</td>\n",
       "      <td>0.000000</td>\n",
       "      <td>42.748217</td>\n",
       "      <td>42.388837</td>\n",
       "      <td>0.000000</td>\n",
       "      <td>66.666667</td>\n",
       "      <td>100.000000</td>\n",
       "      <td>42.632057</td>\n",
       "      <td>42.632057</td>\n",
       "      <td>39.189999</td>\n",
       "      <td>0.0</td>\n",
       "    </tr>\n",
       "    <tr>\n",
       "      <th>1</th>\n",
       "      <td>2009-01-05</td>\n",
       "      <td>MCD</td>\n",
       "      <td>63.259998</td>\n",
       "      <td>63.840000</td>\n",
       "      <td>62.889999</td>\n",
       "      <td>42.504997</td>\n",
       "      <td>7692900.0</td>\n",
       "      <td>0.0</td>\n",
       "      <td>-0.002851</td>\n",
       "      <td>42.748217</td>\n",
       "      <td>42.388837</td>\n",
       "      <td>0.000000</td>\n",
       "      <td>66.666667</td>\n",
       "      <td>100.000000</td>\n",
       "      <td>42.568527</td>\n",
       "      <td>42.568527</td>\n",
       "      <td>39.080002</td>\n",
       "      <td>0.0</td>\n",
       "    </tr>\n",
       "    <tr>\n",
       "      <th>2</th>\n",
       "      <td>2009-01-06</td>\n",
       "      <td>MCD</td>\n",
       "      <td>63.990002</td>\n",
       "      <td>64.459999</td>\n",
       "      <td>61.830002</td>\n",
       "      <td>41.555389</td>\n",
       "      <td>10855700.0</td>\n",
       "      <td>1.0</td>\n",
       "      <td>-0.033080</td>\n",
       "      <td>43.407565</td>\n",
       "      <td>41.054064</td>\n",
       "      <td>0.000000</td>\n",
       "      <td>-100.000000</td>\n",
       "      <td>100.000000</td>\n",
       "      <td>42.230815</td>\n",
       "      <td>42.230815</td>\n",
       "      <td>38.560001</td>\n",
       "      <td>0.0</td>\n",
       "    </tr>\n",
       "    <tr>\n",
       "      <th>3</th>\n",
       "      <td>2009-01-07</td>\n",
       "      <td>MCD</td>\n",
       "      <td>61.930000</td>\n",
       "      <td>62.570000</td>\n",
       "      <td>60.840000</td>\n",
       "      <td>40.953526</td>\n",
       "      <td>7910400.0</td>\n",
       "      <td>2.0</td>\n",
       "      <td>-0.067748</td>\n",
       "      <td>43.509813</td>\n",
       "      <td>40.313172</td>\n",
       "      <td>0.000000</td>\n",
       "      <td>-133.333333</td>\n",
       "      <td>100.000000</td>\n",
       "      <td>41.911492</td>\n",
       "      <td>41.911492</td>\n",
       "      <td>43.389999</td>\n",
       "      <td>0.0</td>\n",
       "    </tr>\n",
       "    <tr>\n",
       "      <th>4</th>\n",
       "      <td>2009-01-08</td>\n",
       "      <td>MCD</td>\n",
       "      <td>60.830002</td>\n",
       "      <td>60.830002</td>\n",
       "      <td>59.700001</td>\n",
       "      <td>40.472027</td>\n",
       "      <td>9382300.0</td>\n",
       "      <td>3.0</td>\n",
       "      <td>-0.104320</td>\n",
       "      <td>43.514001</td>\n",
       "      <td>39.733197</td>\n",
       "      <td>0.000000</td>\n",
       "      <td>-122.252272</td>\n",
       "      <td>100.000000</td>\n",
       "      <td>41.623599</td>\n",
       "      <td>41.623599</td>\n",
       "      <td>42.560001</td>\n",
       "      <td>0.0</td>\n",
       "    </tr>\n",
       "    <tr>\n",
       "      <th>5</th>\n",
       "      <td>2009-01-09</td>\n",
       "      <td>MCD</td>\n",
       "      <td>60.709999</td>\n",
       "      <td>60.950001</td>\n",
       "      <td>59.849998</td>\n",
       "      <td>40.171097</td>\n",
       "      <td>7150700.0</td>\n",
       "      <td>4.0</td>\n",
       "      <td>-0.137211</td>\n",
       "      <td>43.446801</td>\n",
       "      <td>39.316230</td>\n",
       "      <td>0.000000</td>\n",
       "      <td>-89.829825</td>\n",
       "      <td>91.782636</td>\n",
       "      <td>41.381516</td>\n",
       "      <td>41.381516</td>\n",
       "      <td>42.820000</td>\n",
       "      <td>0.0</td>\n",
       "    </tr>\n",
       "    <tr>\n",
       "      <th>6</th>\n",
       "      <td>2009-01-12</td>\n",
       "      <td>MCD</td>\n",
       "      <td>60.099998</td>\n",
       "      <td>61.230000</td>\n",
       "      <td>59.750000</td>\n",
       "      <td>40.231274</td>\n",
       "      <td>8682900.0</td>\n",
       "      <td>0.0</td>\n",
       "      <td>-0.153215</td>\n",
       "      <td>43.293378</td>\n",
       "      <td>39.141012</td>\n",
       "      <td>2.638058</td>\n",
       "      <td>-71.870808</td>\n",
       "      <td>73.955440</td>\n",
       "      <td>41.217195</td>\n",
       "      <td>41.217195</td>\n",
       "      <td>45.840000</td>\n",
       "      <td>0.0</td>\n",
       "    </tr>\n",
       "    <tr>\n",
       "      <th>7</th>\n",
       "      <td>2009-01-13</td>\n",
       "      <td>MCD</td>\n",
       "      <td>60.310001</td>\n",
       "      <td>60.799999</td>\n",
       "      <td>58.820000</td>\n",
       "      <td>39.669556</td>\n",
       "      <td>9082600.0</td>\n",
       "      <td>1.0</td>\n",
       "      <td>-0.188198</td>\n",
       "      <td>43.235604</td>\n",
       "      <td>38.811877</td>\n",
       "      <td>2.102474</td>\n",
       "      <td>-92.041301</td>\n",
       "      <td>80.418189</td>\n",
       "      <td>41.023740</td>\n",
       "      <td>41.023740</td>\n",
       "      <td>43.270000</td>\n",
       "      <td>0.0</td>\n",
       "    </tr>\n",
       "    <tr>\n",
       "      <th>8</th>\n",
       "      <td>2009-01-14</td>\n",
       "      <td>MCD</td>\n",
       "      <td>58.509998</td>\n",
       "      <td>58.619999</td>\n",
       "      <td>56.410000</td>\n",
       "      <td>38.338745</td>\n",
       "      <td>15340200.0</td>\n",
       "      <td>2.0</td>\n",
       "      <td>-0.275586</td>\n",
       "      <td>43.461259</td>\n",
       "      <td>37.989556</td>\n",
       "      <td>1.403913</td>\n",
       "      <td>-152.846769</td>\n",
       "      <td>88.395149</td>\n",
       "      <td>40.725407</td>\n",
       "      <td>40.725407</td>\n",
       "      <td>49.139999</td>\n",
       "      <td>0.0</td>\n",
       "    </tr>\n",
       "    <tr>\n",
       "      <th>9</th>\n",
       "      <td>2009-01-15</td>\n",
       "      <td>MCD</td>\n",
       "      <td>57.200001</td>\n",
       "      <td>58.590000</td>\n",
       "      <td>56.549999</td>\n",
       "      <td>38.773430</td>\n",
       "      <td>12166300.0</td>\n",
       "      <td>3.0</td>\n",
       "      <td>-0.311177</td>\n",
       "      <td>43.389811</td>\n",
       "      <td>37.670609</td>\n",
       "      <td>11.355798</td>\n",
       "      <td>-120.894812</td>\n",
       "      <td>88.395149</td>\n",
       "      <td>40.530210</td>\n",
       "      <td>40.530210</td>\n",
       "      <td>51.000000</td>\n",
       "      <td>0.0</td>\n",
       "    </tr>\n",
       "  </tbody>\n",
       "</table>\n",
       "</div>"
      ],
      "text/plain": [
       "         date  tic       open       high        low      close      volume  \\\n",
       "0  2009-01-02  MCD  62.380001  64.129997  62.200001  42.632057   8652700.0   \n",
       "1  2009-01-05  MCD  63.259998  63.840000  62.889999  42.504997   7692900.0   \n",
       "2  2009-01-06  MCD  63.990002  64.459999  61.830002  41.555389  10855700.0   \n",
       "3  2009-01-07  MCD  61.930000  62.570000  60.840000  40.953526   7910400.0   \n",
       "4  2009-01-08  MCD  60.830002  60.830002  59.700001  40.472027   9382300.0   \n",
       "5  2009-01-09  MCD  60.709999  60.950001  59.849998  40.171097   7150700.0   \n",
       "6  2009-01-12  MCD  60.099998  61.230000  59.750000  40.231274   8682900.0   \n",
       "7  2009-01-13  MCD  60.310001  60.799999  58.820000  39.669556   9082600.0   \n",
       "8  2009-01-14  MCD  58.509998  58.619999  56.410000  38.338745  15340200.0   \n",
       "9  2009-01-15  MCD  57.200001  58.590000  56.549999  38.773430  12166300.0   \n",
       "\n",
       "   day      macd    boll_ub    boll_lb     rsi_30      cci_30       dx_30  \\\n",
       "0  4.0  0.000000  42.748217  42.388837   0.000000   66.666667  100.000000   \n",
       "1  0.0 -0.002851  42.748217  42.388837   0.000000   66.666667  100.000000   \n",
       "2  1.0 -0.033080  43.407565  41.054064   0.000000 -100.000000  100.000000   \n",
       "3  2.0 -0.067748  43.509813  40.313172   0.000000 -133.333333  100.000000   \n",
       "4  3.0 -0.104320  43.514001  39.733197   0.000000 -122.252272  100.000000   \n",
       "5  4.0 -0.137211  43.446801  39.316230   0.000000  -89.829825   91.782636   \n",
       "6  0.0 -0.153215  43.293378  39.141012   2.638058  -71.870808   73.955440   \n",
       "7  1.0 -0.188198  43.235604  38.811877   2.102474  -92.041301   80.418189   \n",
       "8  2.0 -0.275586  43.461259  37.989556   1.403913 -152.846769   88.395149   \n",
       "9  3.0 -0.311177  43.389811  37.670609  11.355798 -120.894812   88.395149   \n",
       "\n",
       "   close_30_sma  close_60_sma        vix  turbulence  \n",
       "0     42.632057     42.632057  39.189999         0.0  \n",
       "1     42.568527     42.568527  39.080002         0.0  \n",
       "2     42.230815     42.230815  38.560001         0.0  \n",
       "3     41.911492     41.911492  43.389999         0.0  \n",
       "4     41.623599     41.623599  42.560001         0.0  \n",
       "5     41.381516     41.381516  42.820000         0.0  \n",
       "6     41.217195     41.217195  45.840000         0.0  \n",
       "7     41.023740     41.023740  43.270000         0.0  \n",
       "8     40.725407     40.725407  49.139999         0.0  \n",
       "9     40.530210     40.530210  51.000000         0.0  "
      ]
     },
     "execution_count": 21,
     "metadata": {},
     "output_type": "execute_result"
    }
   ],
   "source": [
    "processed_full.sort_values(['date','tic'],ignore_index=True).head(10)"
   ]
  },
  {
   "cell_type": "markdown",
   "metadata": {
    "id": "-QsYaY0Dh1iw"
   },
   "source": [
    "<a id='4'></a>\n",
    "# Part 5. Build A Market Environment in OpenAI Gym-style\n",
    "The training process involves observing stock price change, taking an action and reward's calculation. By interacting with the market environment, the agent will eventually derive a trading strategy that may maximize (expected) rewards.\n",
    "\n",
    "Our market environment, based on OpenAI Gym, simulates stock markets with historical market data."
   ]
  },
  {
   "cell_type": "markdown",
   "metadata": {
    "id": "5TOhcryx44bb"
   },
   "source": [
    "## Data Split\n",
    "We split the data into training set and testing set as follows:\n",
    "\n",
    "Training data period: 2009-01-01 to 2020-07-01\n",
    "\n",
    "Trading data period: 2020-07-01 to 2021-10-31\n"
   ]
  },
  {
   "cell_type": "code",
   "execution_count": 22,
   "metadata": {},
   "outputs": [
    {
     "data": {
      "text/plain": [
       "('2009-01-01', '2020-07-01', '2020-07-01', '2021-10-31')"
      ]
     },
     "execution_count": 22,
     "metadata": {},
     "output_type": "execute_result"
    }
   ],
   "source": [
    "TRAIN_START_DATE, TRAIN_END_DATE, TRADE_START_DATE, TRADE_END_DATE"
   ]
  },
  {
   "cell_type": "code",
   "execution_count": 23,
   "metadata": {
    "colab": {
     "base_uri": "https://localhost:8080/"
    },
    "id": "W0qaVGjLtgbI",
    "outputId": "ac9f2699-65c6-418f-cca4-f0f166973f65"
   },
   "outputs": [
    {
     "name": "stdout",
     "output_type": "stream",
     "text": [
      "2893\n",
      "336\n"
     ]
    }
   ],
   "source": [
    "train = data_split(processed_full, TRAIN_START_DATE,TRAIN_END_DATE)\n",
    "trade = data_split(processed_full, TRADE_START_DATE,TRADE_END_DATE)\n",
    "print(len(train))\n",
    "print(len(trade))"
   ]
  },
  {
   "cell_type": "code",
   "execution_count": 24,
   "metadata": {
    "colab": {
     "base_uri": "https://localhost:8080/",
     "height": 357
    },
    "id": "p52zNCOhTtLR",
    "outputId": "14568787-e92d-4d9b-dbce-9e11b3fb1390"
   },
   "outputs": [
    {
     "data": {
      "text/html": [
       "<div>\n",
       "<style scoped>\n",
       "    .dataframe tbody tr th:only-of-type {\n",
       "        vertical-align: middle;\n",
       "    }\n",
       "\n",
       "    .dataframe tbody tr th {\n",
       "        vertical-align: top;\n",
       "    }\n",
       "\n",
       "    .dataframe thead th {\n",
       "        text-align: right;\n",
       "    }\n",
       "</style>\n",
       "<table border=\"1\" class=\"dataframe\">\n",
       "  <thead>\n",
       "    <tr style=\"text-align: right;\">\n",
       "      <th></th>\n",
       "      <th>date</th>\n",
       "      <th>tic</th>\n",
       "      <th>open</th>\n",
       "      <th>high</th>\n",
       "      <th>low</th>\n",
       "      <th>close</th>\n",
       "      <th>volume</th>\n",
       "      <th>day</th>\n",
       "      <th>macd</th>\n",
       "      <th>boll_ub</th>\n",
       "      <th>boll_lb</th>\n",
       "      <th>rsi_30</th>\n",
       "      <th>cci_30</th>\n",
       "      <th>dx_30</th>\n",
       "      <th>close_30_sma</th>\n",
       "      <th>close_60_sma</th>\n",
       "      <th>vix</th>\n",
       "      <th>turbulence</th>\n",
       "    </tr>\n",
       "  </thead>\n",
       "  <tbody>\n",
       "    <tr>\n",
       "      <th>2888</th>\n",
       "      <td>2020-06-24</td>\n",
       "      <td>MCD</td>\n",
       "      <td>184.960007</td>\n",
       "      <td>185.710007</td>\n",
       "      <td>181.339996</td>\n",
       "      <td>174.158173</td>\n",
       "      <td>4146600.0</td>\n",
       "      <td>2.0</td>\n",
       "      <td>0.715475</td>\n",
       "      <td>189.350962</td>\n",
       "      <td>170.906736</td>\n",
       "      <td>49.206463</td>\n",
       "      <td>-44.927598</td>\n",
       "      <td>8.471895</td>\n",
       "      <td>176.649213</td>\n",
       "      <td>172.284480</td>\n",
       "      <td>33.840000</td>\n",
       "      <td>0.247741</td>\n",
       "    </tr>\n",
       "    <tr>\n",
       "      <th>2889</th>\n",
       "      <td>2020-06-25</td>\n",
       "      <td>MCD</td>\n",
       "      <td>183.509995</td>\n",
       "      <td>184.080002</td>\n",
       "      <td>180.330002</td>\n",
       "      <td>172.712326</td>\n",
       "      <td>3145200.0</td>\n",
       "      <td>3.0</td>\n",
       "      <td>0.233978</td>\n",
       "      <td>189.630961</td>\n",
       "      <td>170.180684</td>\n",
       "      <td>48.326506</td>\n",
       "      <td>-72.462581</td>\n",
       "      <td>10.883005</td>\n",
       "      <td>176.998388</td>\n",
       "      <td>172.575943</td>\n",
       "      <td>32.220001</td>\n",
       "      <td>0.107812</td>\n",
       "    </tr>\n",
       "    <tr>\n",
       "      <th>2890</th>\n",
       "      <td>2020-06-26</td>\n",
       "      <td>MCD</td>\n",
       "      <td>182.369995</td>\n",
       "      <td>182.809998</td>\n",
       "      <td>178.880005</td>\n",
       "      <td>169.858353</td>\n",
       "      <td>5107400.0</td>\n",
       "      <td>4.0</td>\n",
       "      <td>-0.373597</td>\n",
       "      <td>190.193842</td>\n",
       "      <td>168.995979</td>\n",
       "      <td>46.623957</td>\n",
       "      <td>-109.484537</td>\n",
       "      <td>14.345772</td>\n",
       "      <td>177.171382</td>\n",
       "      <td>172.932178</td>\n",
       "      <td>34.730000</td>\n",
       "      <td>0.427658</td>\n",
       "    </tr>\n",
       "    <tr>\n",
       "      <th>2891</th>\n",
       "      <td>2020-06-29</td>\n",
       "      <td>MCD</td>\n",
       "      <td>180.570007</td>\n",
       "      <td>182.830002</td>\n",
       "      <td>179.169998</td>\n",
       "      <td>172.750107</td>\n",
       "      <td>2622200.0</td>\n",
       "      <td>0.0</td>\n",
       "      <td>-0.614678</td>\n",
       "      <td>190.363326</td>\n",
       "      <td>168.390836</td>\n",
       "      <td>48.524803</td>\n",
       "      <td>-103.425708</td>\n",
       "      <td>14.280285</td>\n",
       "      <td>177.490836</td>\n",
       "      <td>173.284509</td>\n",
       "      <td>31.780001</td>\n",
       "      <td>0.462314</td>\n",
       "    </tr>\n",
       "    <tr>\n",
       "      <th>2892</th>\n",
       "      <td>2020-06-30</td>\n",
       "      <td>MCD</td>\n",
       "      <td>182.919998</td>\n",
       "      <td>185.199997</td>\n",
       "      <td>181.889999</td>\n",
       "      <td>174.328308</td>\n",
       "      <td>3163100.0</td>\n",
       "      <td>1.0</td>\n",
       "      <td>-0.670658</td>\n",
       "      <td>190.411953</td>\n",
       "      <td>168.047365</td>\n",
       "      <td>49.539362</td>\n",
       "      <td>-71.554578</td>\n",
       "      <td>6.551999</td>\n",
       "      <td>177.674518</td>\n",
       "      <td>173.681448</td>\n",
       "      <td>30.430000</td>\n",
       "      <td>0.133518</td>\n",
       "    </tr>\n",
       "  </tbody>\n",
       "</table>\n",
       "</div>"
      ],
      "text/plain": [
       "            date  tic        open        high         low       close  \\\n",
       "2888  2020-06-24  MCD  184.960007  185.710007  181.339996  174.158173   \n",
       "2889  2020-06-25  MCD  183.509995  184.080002  180.330002  172.712326   \n",
       "2890  2020-06-26  MCD  182.369995  182.809998  178.880005  169.858353   \n",
       "2891  2020-06-29  MCD  180.570007  182.830002  179.169998  172.750107   \n",
       "2892  2020-06-30  MCD  182.919998  185.199997  181.889999  174.328308   \n",
       "\n",
       "         volume  day      macd     boll_ub     boll_lb     rsi_30      cci_30  \\\n",
       "2888  4146600.0  2.0  0.715475  189.350962  170.906736  49.206463  -44.927598   \n",
       "2889  3145200.0  3.0  0.233978  189.630961  170.180684  48.326506  -72.462581   \n",
       "2890  5107400.0  4.0 -0.373597  190.193842  168.995979  46.623957 -109.484537   \n",
       "2891  2622200.0  0.0 -0.614678  190.363326  168.390836  48.524803 -103.425708   \n",
       "2892  3163100.0  1.0 -0.670658  190.411953  168.047365  49.539362  -71.554578   \n",
       "\n",
       "          dx_30  close_30_sma  close_60_sma        vix  turbulence  \n",
       "2888   8.471895    176.649213    172.284480  33.840000    0.247741  \n",
       "2889  10.883005    176.998388    172.575943  32.220001    0.107812  \n",
       "2890  14.345772    177.171382    172.932178  34.730000    0.427658  \n",
       "2891  14.280285    177.490836    173.284509  31.780001    0.462314  \n",
       "2892   6.551999    177.674518    173.681448  30.430000    0.133518  "
      ]
     },
     "execution_count": 24,
     "metadata": {},
     "output_type": "execute_result"
    }
   ],
   "source": [
    "train.tail()"
   ]
  },
  {
   "cell_type": "code",
   "execution_count": 25,
   "metadata": {
    "colab": {
     "base_uri": "https://localhost:8080/",
     "height": 357
    },
    "id": "k9zU9YaTTvFq",
    "outputId": "80e64947-4c5c-428f-a98c-6b344d816783"
   },
   "outputs": [
    {
     "data": {
      "text/html": [
       "<div>\n",
       "<style scoped>\n",
       "    .dataframe tbody tr th:only-of-type {\n",
       "        vertical-align: middle;\n",
       "    }\n",
       "\n",
       "    .dataframe tbody tr th {\n",
       "        vertical-align: top;\n",
       "    }\n",
       "\n",
       "    .dataframe thead th {\n",
       "        text-align: right;\n",
       "    }\n",
       "</style>\n",
       "<table border=\"1\" class=\"dataframe\">\n",
       "  <thead>\n",
       "    <tr style=\"text-align: right;\">\n",
       "      <th></th>\n",
       "      <th>date</th>\n",
       "      <th>tic</th>\n",
       "      <th>open</th>\n",
       "      <th>high</th>\n",
       "      <th>low</th>\n",
       "      <th>close</th>\n",
       "      <th>volume</th>\n",
       "      <th>day</th>\n",
       "      <th>macd</th>\n",
       "      <th>boll_ub</th>\n",
       "      <th>boll_lb</th>\n",
       "      <th>rsi_30</th>\n",
       "      <th>cci_30</th>\n",
       "      <th>dx_30</th>\n",
       "      <th>close_30_sma</th>\n",
       "      <th>close_60_sma</th>\n",
       "      <th>vix</th>\n",
       "      <th>turbulence</th>\n",
       "    </tr>\n",
       "  </thead>\n",
       "  <tbody>\n",
       "    <tr>\n",
       "      <th>0</th>\n",
       "      <td>2020-07-01</td>\n",
       "      <td>MCD</td>\n",
       "      <td>184.949997</td>\n",
       "      <td>186.440002</td>\n",
       "      <td>183.720001</td>\n",
       "      <td>174.507858</td>\n",
       "      <td>2193800.0</td>\n",
       "      <td>2.0</td>\n",
       "      <td>-0.692551</td>\n",
       "      <td>190.071555</td>\n",
       "      <td>167.572211</td>\n",
       "      <td>49.656143</td>\n",
       "      <td>-58.579242</td>\n",
       "      <td>2.668794</td>\n",
       "      <td>177.872322</td>\n",
       "      <td>173.819935</td>\n",
       "      <td>28.620001</td>\n",
       "      <td>0.001759</td>\n",
       "    </tr>\n",
       "    <tr>\n",
       "      <th>1</th>\n",
       "      <td>2020-07-02</td>\n",
       "      <td>MCD</td>\n",
       "      <td>187.000000</td>\n",
       "      <td>187.000000</td>\n",
       "      <td>182.860001</td>\n",
       "      <td>173.430511</td>\n",
       "      <td>2690200.0</td>\n",
       "      <td>3.0</td>\n",
       "      <td>-0.787754</td>\n",
       "      <td>189.709649</td>\n",
       "      <td>167.015554</td>\n",
       "      <td>48.952923</td>\n",
       "      <td>-68.599755</td>\n",
       "      <td>5.229391</td>\n",
       "      <td>177.892462</td>\n",
       "      <td>173.963152</td>\n",
       "      <td>27.680000</td>\n",
       "      <td>0.058148</td>\n",
       "    </tr>\n",
       "    <tr>\n",
       "      <th>2</th>\n",
       "      <td>2020-07-06</td>\n",
       "      <td>MCD</td>\n",
       "      <td>186.000000</td>\n",
       "      <td>188.720001</td>\n",
       "      <td>184.139999</td>\n",
       "      <td>178.136749</td>\n",
       "      <td>3171500.0</td>\n",
       "      <td>0.0</td>\n",
       "      <td>-0.477939</td>\n",
       "      <td>188.664551</td>\n",
       "      <td>167.242265</td>\n",
       "      <td>52.023291</td>\n",
       "      <td>-25.078841</td>\n",
       "      <td>0.374055</td>\n",
       "      <td>178.038809</td>\n",
       "      <td>174.155079</td>\n",
       "      <td>27.940001</td>\n",
       "      <td>1.172653</td>\n",
       "    </tr>\n",
       "    <tr>\n",
       "      <th>3</th>\n",
       "      <td>2020-07-07</td>\n",
       "      <td>MCD</td>\n",
       "      <td>187.369995</td>\n",
       "      <td>187.850006</td>\n",
       "      <td>185.250000</td>\n",
       "      <td>175.604080</td>\n",
       "      <td>2399600.0</td>\n",
       "      <td>1.0</td>\n",
       "      <td>-0.431797</td>\n",
       "      <td>185.792044</td>\n",
       "      <td>168.524298</td>\n",
       "      <td>50.337743</td>\n",
       "      <td>-41.207933</td>\n",
       "      <td>0.374055</td>\n",
       "      <td>178.121699</td>\n",
       "      <td>174.207633</td>\n",
       "      <td>29.430000</td>\n",
       "      <td>0.314803</td>\n",
       "    </tr>\n",
       "    <tr>\n",
       "      <th>4</th>\n",
       "      <td>2020-07-08</td>\n",
       "      <td>MCD</td>\n",
       "      <td>185.500000</td>\n",
       "      <td>187.229996</td>\n",
       "      <td>184.750000</td>\n",
       "      <td>175.632462</td>\n",
       "      <td>2776400.0</td>\n",
       "      <td>2.0</td>\n",
       "      <td>-0.388460</td>\n",
       "      <td>183.291046</td>\n",
       "      <td>169.733453</td>\n",
       "      <td>50.356389</td>\n",
       "      <td>-47.737054</td>\n",
       "      <td>1.370535</td>\n",
       "      <td>178.192080</td>\n",
       "      <td>174.316673</td>\n",
       "      <td>28.080000</td>\n",
       "      <td>0.000116</td>\n",
       "    </tr>\n",
       "  </tbody>\n",
       "</table>\n",
       "</div>"
      ],
      "text/plain": [
       "         date  tic        open        high         low       close     volume  \\\n",
       "0  2020-07-01  MCD  184.949997  186.440002  183.720001  174.507858  2193800.0   \n",
       "1  2020-07-02  MCD  187.000000  187.000000  182.860001  173.430511  2690200.0   \n",
       "2  2020-07-06  MCD  186.000000  188.720001  184.139999  178.136749  3171500.0   \n",
       "3  2020-07-07  MCD  187.369995  187.850006  185.250000  175.604080  2399600.0   \n",
       "4  2020-07-08  MCD  185.500000  187.229996  184.750000  175.632462  2776400.0   \n",
       "\n",
       "   day      macd     boll_ub     boll_lb     rsi_30     cci_30     dx_30  \\\n",
       "0  2.0 -0.692551  190.071555  167.572211  49.656143 -58.579242  2.668794   \n",
       "1  3.0 -0.787754  189.709649  167.015554  48.952923 -68.599755  5.229391   \n",
       "2  0.0 -0.477939  188.664551  167.242265  52.023291 -25.078841  0.374055   \n",
       "3  1.0 -0.431797  185.792044  168.524298  50.337743 -41.207933  0.374055   \n",
       "4  2.0 -0.388460  183.291046  169.733453  50.356389 -47.737054  1.370535   \n",
       "\n",
       "   close_30_sma  close_60_sma        vix  turbulence  \n",
       "0    177.872322    173.819935  28.620001    0.001759  \n",
       "1    177.892462    173.963152  27.680000    0.058148  \n",
       "2    178.038809    174.155079  27.940001    1.172653  \n",
       "3    178.121699    174.207633  29.430000    0.314803  \n",
       "4    178.192080    174.316673  28.080000    0.000116  "
      ]
     },
     "execution_count": 25,
     "metadata": {},
     "output_type": "execute_result"
    }
   ],
   "source": [
    "trade.head()"
   ]
  },
  {
   "cell_type": "code",
   "execution_count": 26,
   "metadata": {
    "colab": {
     "base_uri": "https://localhost:8080/"
    },
    "id": "zYN573SOHhxG",
    "outputId": "460cd177-65d2-46f8-eb40-eaeda045c4bb"
   },
   "outputs": [
    {
     "data": {
      "text/plain": [
       "['macd',\n",
       " 'boll_ub',\n",
       " 'boll_lb',\n",
       " 'rsi_30',\n",
       " 'cci_30',\n",
       " 'dx_30',\n",
       " 'close_30_sma',\n",
       " 'close_60_sma']"
      ]
     },
     "execution_count": 26,
     "metadata": {},
     "output_type": "execute_result"
    }
   ],
   "source": [
    "INDICATORS"
   ]
  },
  {
   "cell_type": "code",
   "execution_count": 27,
   "metadata": {
    "colab": {
     "base_uri": "https://localhost:8080/"
    },
    "id": "Q2zqII8rMIqn",
    "outputId": "d2e2b678-04f8-44be-96ea-3523903780eb"
   },
   "outputs": [
    {
     "name": "stdout",
     "output_type": "stream",
     "text": [
      "Stock Dimension: 1, State Space: 11\n"
     ]
    }
   ],
   "source": [
    "stock_dimension = len(train.tic.unique())\n",
    "#2stock dimension: price plus holding for each stock\n",
    "state_space = 1 + 2*stock_dimension + len(INDICATORS)*stock_dimension\n",
    "print(f\"Stock Dimension: {stock_dimension}, State Space: {state_space}\")\n"
   ]
  },
  {
   "cell_type": "code",
   "execution_count": 40,
   "metadata": {
    "id": "AWyp84Ltto19"
   },
   "outputs": [],
   "source": [
    "#make costs larger\n",
    "base_cost = 0.005\n",
    "\n",
    "buy_cost_list = sell_cost_list = [base_cost] * stock_dimension\n",
    "num_stock_shares = [0] * stock_dimension\n",
    "\n",
    "env_kwargs = {\n",
    "    \"hmax\": 100,\n",
    "    \"initial_amount\": 1000000,\n",
    "    \"num_stock_shares\": num_stock_shares,\n",
    "    \"buy_cost_pct\": buy_cost_list,\n",
    "    \"sell_cost_pct\": sell_cost_list,\n",
    "    \"state_space\": state_space,\n",
    "    \"stock_dim\": stock_dimension,\n",
    "    \"tech_indicator_list\": INDICATORS,\n",
    "    \"action_space\": stock_dimension,\n",
    "    \"reward_scaling\": 1e-4\n",
    "}\n",
    "\n",
    "\n",
    "e_train_gym = StockTradingEnv(df = train, **env_kwargs)\n",
    "#Instantiate the trading environment\n",
    "e_trade_gym = StockTradingEnv(df = trade, turbulence_threshold = None, **env_kwargs)"
   ]
  },
  {
   "cell_type": "code",
   "execution_count": 41,
   "metadata": {},
   "outputs": [],
   "source": [
    "import optuna\n",
    "from optuna.integration import PyTorchLightningPruningCallback\n",
    "import joblib\n",
    "from pprint import pprint\n",
    "\n",
    "from typing import Any\n",
    "from typing import Dict\n",
    "\n",
    "from IPython.display import clear_output\n"
   ]
  },
  {
   "cell_type": "code",
   "execution_count": 42,
   "metadata": {},
   "outputs": [
    {
     "name": "stdout",
     "output_type": "stream",
     "text": [
      "<class 'stable_baselines3.common.vec_env.dummy_vec_env.DummyVecEnv'>\n"
     ]
    }
   ],
   "source": [
    "#Instantiate the training environment\n",
    "# Also instantiate our training gent\n",
    "env_train, _ = e_train_gym.get_sb_env()\n",
    "print(type(env_train))\n",
    "agent = DRLAgent(env = env_train)"
   ]
  },
  {
   "cell_type": "code",
   "execution_count": 49,
   "metadata": {},
   "outputs": [],
   "source": [
    "def sample_a2c_params(trial: optuna.Trial) -> Dict[str, Any]:\n",
    "    \"\"\"Sampler for A2C hyperparameters.\"\"\"\n",
    "    gamma = 1.0 - trial.suggest_float(\"gamma\", 0.0001, 0.1, log=True)\n",
    "    max_grad_norm = trial.suggest_float(\"max_grad_norm\", 0.3, 5.0, log=True)\n",
    "    gae_lambda = 1.0 - trial.suggest_float(\"gae_lambda\", 0.001, 0.2, log=True)\n",
    "    n_steps = 2 ** trial.suggest_int(\"exponent_n_steps\", 3, 10)\n",
    "    learning_rate = trial.suggest_float(\"lr\", 1e-5, 1, log=True)\n",
    "    ent_coef = trial.suggest_float(\"ent_coef\", 0.00000001, 0.1, log=True)\n",
    "    #ortho_init = trial.suggest_categorical(\"ortho_init\", [False, True])\n",
    "    #net_arch = trial.suggest_categorical(\"net_arch\", [\"tiny\", \"small\"])\n",
    "    #activation_fn = trial.suggest_categorical(\"activation_fn\", [\"tanh\", \"relu\"])\n",
    "\n",
    "    # Display true values\n",
    "    trial.set_user_attr(\"gamma_\", gamma)\n",
    "    trial.set_user_attr(\"gae_lambda_\", gae_lambda)\n",
    "    trial.set_user_attr(\"n_steps\", n_steps)\n",
    "    trial.set_user_attr(\"learning_rate\", learning_rate)\n",
    "    trial.set_user_attr(\"ent_coef\", ent_coef)\n",
    "    trial.set_user_attr(\"max_grad_norm\", max_grad_norm)\n",
    "\n",
    "    #net_arch = [\n",
    "    #    {\"pi\": [64], \"vf\": [64]} if net_arch == \"tiny\" else {\"pi\": [64, 64], \"vf\": [64, 64]}\n",
    "    #]\n",
    "\n",
    "    #activation_fn = {\"tanh\": nn.Tanh, \"relu\": nn.ReLU}[activation_fn]\n",
    "\n",
    "    return {\n",
    "        \"n_steps\": n_steps,\n",
    "        \"gamma\": gamma,\n",
    "        \"gae_lambda\": gae_lambda,\n",
    "        \"learning_rate\": learning_rate,\n",
    "        \"ent_coef\": ent_coef,\n",
    "        \"max_grad_norm\": max_grad_norm,\n",
    "        #\"policy_kwargs\": {\n",
    "        #    \"net_arch\": net_arch,\n",
    "        #    \"activation_fn\": activation_fn,\n",
    "        #    \"ortho_init\": ortho_init,\n",
    "        #},\n",
    "    }\n"
   ]
  },
  {
   "cell_type": "code",
   "execution_count": 50,
   "metadata": {},
   "outputs": [],
   "source": [
    "#Calculate the Sharpe ratio\n",
    "#This is our objective for tuning\n",
    "def calculate_sharpe(df):\n",
    "    df['daily_return'] = df['account_value'].pct_change(1)\n",
    "    if df['daily_return'].std() !=0:\n",
    "        sharpe = (252**0.5)*df['daily_return'].mean()/ \\\n",
    "              df['daily_return'].std()\n",
    "        return sharpe\n",
    "    else:\n",
    "        return 0"
   ]
  },
  {
   "cell_type": "markdown",
   "metadata": {},
   "source": [
    "## Callbacks\n",
    "1. The callback will terminate if the improvement margin is below certain point\n",
    "2. It will terminate after certain number of trial_number are reached, not before that\n",
    "3. It will hold its patience to reach the threshold"
   ]
  },
  {
   "cell_type": "code",
   "execution_count": 53,
   "metadata": {},
   "outputs": [],
   "source": [
    "class LoggingCallback:\n",
    "    def __init__(self,threshold,trial_number,patience):\n",
    "        '''\n",
    "        threshold:int tolerance for increase in sharpe ratio\n",
    "        trial_number: int Prune after minimum number of trials\n",
    "        patience: int patience for the threshold\n",
    "        '''\n",
    "        self.threshold = threshold\n",
    "        self.trial_number  = trial_number\n",
    "        self.patience = patience\n",
    "        self.cb_list = [] #Trials list for which threshold is reached\n",
    "    def __call__(self,study:optuna.study, frozen_trial:optuna.Trial):\n",
    "        #Setting the best value in the current trial\n",
    "        study.set_user_attr(\"previous_best_value\", study.best_value)\n",
    "\n",
    "        #Checking if the minimum number of trials have pass\n",
    "        if frozen_trial.number >self.trial_number:\n",
    "            previous_best_value = study.user_attrs.get(\"previous_best_value\",None)\n",
    "            #Checking if the previous and current objective values have the same sign\n",
    "            if previous_best_value * study.best_value >=0:\n",
    "                #Checking for the threshold condition\n",
    "                if abs(previous_best_value-study.best_value) < self.threshold: \n",
    "                    self.cb_list.append(frozen_trial.number)\n",
    "                    #If threshold is achieved for the patience amount of time\n",
    "                    if len(self.cb_list)>self.patience:\n",
    "                        print('The study stops now...')\n",
    "                        print('With number',frozen_trial.number ,'and value ',frozen_trial.value)\n",
    "                        print('The previous and current best values are {} and {} respectively'\n",
    "                              .format(previous_best_value, study.best_value))\n",
    "                        study.stop()\n",
    "                        "
   ]
  },
  {
   "cell_type": "code",
   "execution_count": 54,
   "metadata": {},
   "outputs": [],
   "source": [
    "def objective(trial:optuna.Trial):\n",
    "    #Trial will suggest a set of hyperparamters from the specified range\n",
    "    hyperparameters = sample_a2c_params(trial)\n",
    "    model_a2c = agent.get_model(\"a2c\", model_kwargs = hyperparameters)\n",
    "    #You can increase it for better comparison\n",
    "    trained_a2c = agent.train_model(model=model_a2c,\n",
    "                                    tb_log_name=\"a2c\",\n",
    "                                    total_timesteps=50000)\n",
    "    trained_a2c.save('models/a2c_{}.pth'.format(trial.number))\n",
    "    clear_output(wait=True)\n",
    "    \n",
    "    #For the given hyperparamters, determine the account value in the trading period\n",
    "    df_account_value, df_actions = DRLAgent.DRL_prediction(\n",
    "                                        model=trained_a2c, \n",
    "                                        environment = e_train_gym\n",
    "                                        #environment = e_trade_gym\n",
    "                                    )\n",
    "    #Calculate sharpe from the account value\n",
    "    sharpe = calculate_sharpe(df_account_value)\n",
    "    print(trial.number,\" Sharpe=:\",sharpe)\n",
    "\n",
    "    return sharpe\n"
   ]
  },
  {
   "cell_type": "code",
   "execution_count": 55,
   "metadata": {},
   "outputs": [
    {
     "name": "stderr",
     "output_type": "stream",
     "text": [
      "\u001b[32m[I 2022-12-21 18:39:31,545]\u001b[0m Trial 29 finished with value: 0.7900924659384965 and parameters: {'gamma': 0.06699932454106995, 'max_grad_norm': 1.4559957341794554, 'gae_lambda': 0.01872825479429275, 'exponent_n_steps': 5, 'lr': 0.005081415928101521, 'ent_coef': 5.237937215569122e-07}. Best is trial 26 with value: 0.7901374848443632.\u001b[0m\n"
     ]
    },
    {
     "name": "stdout",
     "output_type": "stream",
     "text": [
      "hit end!\n",
      "29  Sharpe=: 0.7900924659384965\n"
     ]
    }
   ],
   "source": [
    "#Create a study object and specify the direction as 'maximize'\n",
    "#As you want to maximize sharpe\n",
    "#Pruner stops not promising iterations\n",
    "#Use a pruner, else you will get error related to divergence of model\n",
    "#You can also use Multivariate samplere\n",
    "#sampler = optuna.samplers.TPESampler(multivarite=True,seed=42)\n",
    "\n",
    "sampler = optuna.samplers.TPESampler(seed=1234)\n",
    "study = optuna.create_study(study_name=\"a2c_study\",direction='maximize',\n",
    "                            sampler = sampler, pruner=optuna.pruners.HyperbandPruner())\n",
    "\n",
    "logging_callback = LoggingCallback(threshold=1e-5,patience=30,trial_number=5)\n",
    "#You can increase the n_trials for a better search space scanning\n",
    "study.optimize(objective, n_trials=30,catch=(ValueError,),callbacks=[logging_callback])"
   ]
  },
  {
   "cell_type": "code",
   "execution_count": null,
   "metadata": {},
   "outputs": [],
   "source": []
  },
  {
   "cell_type": "code",
   "execution_count": 136,
   "metadata": {},
   "outputs": [
    {
     "data": {
      "text/plain": [
       "'MCD'"
      ]
     },
     "execution_count": 136,
     "metadata": {},
     "output_type": "execute_result"
    }
   ],
   "source": [
    "len(tics)\n",
    "tics[0]"
   ]
  },
  {
   "cell_type": "markdown",
   "metadata": {},
   "source": [
    "### Advanced"
   ]
  },
  {
   "cell_type": "code",
   "execution_count": 178,
   "metadata": {},
   "outputs": [],
   "source": [
    "#Main method\n",
    "# Calculates Trade Performance for Objective\n",
    "# Called from objective method\n",
    "# Returns selected trade perf metric(s)\n",
    "# Requires actions and associated prices\n",
    "\n",
    "def calc_trade_perf_metric(df_actions, \n",
    "                           df_prices_trade,\n",
    "                           tp_metric,\n",
    "                           dbg=False):\n",
    "  \n",
    "    #print(df_prices_trade.head)\n",
    "    \n",
    "    df_actions_p, df_prices_p, tics = prep_data(df_actions.copy(),\n",
    "                                                df_prices_trade.copy())\n",
    "    \n",
    "    #fix action column name if only one ticker\n",
    "    if len(tics)==1:\n",
    "        df_actions_p.rename(columns={'actions': tics[0]}, inplace=True)\n",
    "    \n",
    "    # actions predicted by trained model on trade data\n",
    "    df_actions_p.to_csv('df_actions.csv') \n",
    "\n",
    "    \n",
    "    # Confirms that actions, prices and tics are consistent\n",
    "    df_actions_s, df_prices_s, tics_prtfl = \\\n",
    "        sync_tickers(df_actions_p.copy(),df_prices_p.copy(),tics)\n",
    "    \n",
    "    # copy to ensure that tics from portfolio remains unchanged\n",
    "    tics = tics_prtfl.copy()\n",
    "    \n",
    "    # Analysis is performed on each portfolio ticker\n",
    "    perf_data= collect_performance_data(df_actions_s, df_prices_s, tics)\n",
    "    # profit/loss for each ticker\n",
    "    pnl_all = calc_pnl_all(perf_data, tics)\n",
    "    # values for trade performance metrics\n",
    "    perf_results = calc_trade_perf(pnl_all)\n",
    "    df = pd.DataFrame.from_dict(perf_results, orient='index')\n",
    "    \n",
    "    # calculate and return trade metric value as objective\n",
    "    m = calc_trade_metric(df,tp_metric)\n",
    "    print(f'Ratio Avg Win/Avg Loss: {m}')\n",
    "    #k = str(len(tpm_hist)+1)\n",
    "    ## save metric value\n",
    "    # tpm_hist[k] = m\n",
    "    \n",
    "    return m"
   ]
  },
  {
   "cell_type": "code",
   "execution_count": 181,
   "metadata": {},
   "outputs": [],
   "source": [
    "# Supporting methods\n",
    "def calc_trade_metric(df,metric='avgwl'):\n",
    "    '''# trades', '# wins', '# losses', 'wins total value', 'wins avg value',\n",
    "       'losses total value', 'losses avg value'''\n",
    "    # For this tutorial, the only metric available is the ratio of \n",
    "    #  average values of winning to losing trades. Others are in development.\n",
    "    \n",
    "    # some test cases produce no losing trades.\n",
    "    # The code below assigns a value as a multiple of the highest value during\n",
    "    # previous hp optimization runs. If the first run experiences no losses,\n",
    "    # a fixed value is assigned for the ratio\n",
    "    tpm_mult = 1.0\n",
    "    avgwl_no_losses = 25\n",
    "    if metric == 'avgwl':\n",
    "        if sum(df['# losses']) == 0:\n",
    "            try:\n",
    "                return avgwl_no_losses #max(tpm_hist.values())*tpm_mult\n",
    "            except ValueError:\n",
    "                return avgwl_no_losses\n",
    "        avg_w = sum(df['wins total value'])/sum(df['# wins'])\n",
    "        avg_l = sum(df['losses total value'])/sum(df['# losses'])\n",
    "        m = abs(avg_w/avg_l)\n",
    "\n",
    "    return m\n",
    "\n",
    "\n",
    "def prep_data(df_actions,\n",
    "              df_prices_trade):\n",
    "    \n",
    "    df=df_prices_trade[['date','close','tic']]\n",
    "    df['Date'] = pd.to_datetime(df['date'])\n",
    "    #df = df.set_index('Date', append=True)\n",
    "    df = df.set_index('Date')\n",
    "    df['date'] = df.index\n",
    "    # set indices on both df to datetime\n",
    "    #idx = pd.to_datetime(df_actions.index, infer_datetime_format=True)\n",
    "    #df_actions.index=idx\n",
    "    df_actions['Date'] = pd.to_datetime(df_actions['date'])\n",
    "    #df_actions = df_actions.set_index('Date', append=True)\n",
    "    df_actions = df_actions.set_index('Date')\n",
    "    df_actions['date'] = df_actions.index\n",
    "    tics = np.unique(df.tic)\n",
    "    n_tics = len(tics)\n",
    "    print(f'Number of tickers: {n_tics}')\n",
    "    print(f'Tickers: {tics}')\n",
    "    dategr = df.groupby('tic')\n",
    "    p_d={t:dategr.get_group(t).loc[:,'close'] for t in tics}\n",
    "    df_prices = pd.DataFrame.from_dict(p_d)\n",
    "    df_prices.index = df_prices.index.normalize()\n",
    "    df_prices['date'] = df_prices.index\n",
    "    \n",
    "    return df_actions, df_prices, tics\n",
    "\n",
    "\n",
    "# prepares for integrating action and price files\n",
    "def link_prices_actions(df_a,\n",
    "                        df_p):\n",
    "    cols_a = [t + '_a' for t in df_a.columns]\n",
    "    df_a.columns = cols_a\n",
    "    cols_p = [t + '_p' for t in df_p.columns]\n",
    "    df_p.columns = cols_p\n",
    "    return df_a, df_p\n",
    "\n",
    "\n",
    "def sync_tickers(df_actions,df_tickers_p,tickers):\n",
    "    # Some DOW30 components may not be included in portfolio\n",
    "    # passed tickers includes all DOW30 components\n",
    "    # actions and ticker files may have different length indices\n",
    "    if len(df_actions) != len(df_tickers_p):\n",
    "        msng_dates = set(df_actions.index)^set(df_tickers_p.index)\n",
    "        try:\n",
    "            #assumption is prices has one additional timestamp (row)\n",
    "            df_tickers_p.drop(msng_dates,inplace=True)\n",
    "        except:\n",
    "            df_actions.drop(msng_dates,inplace=True)\n",
    "    df_actions, df_tickers_p = link_prices_actions(df_actions,df_tickers_p)\n",
    "    # identify any DOW components not in portfolio\n",
    "    t_not_in_a = [t for t in tickers if t + '_a' not in list(df_actions.columns)]\n",
    "  \n",
    "    # remove t_not_in_a from df_tickers_p\n",
    "    drop_cols = [t + '_p' for t in t_not_in_a]\n",
    "    df_tickers_p.drop(columns=drop_cols,inplace=True)\n",
    "    \n",
    "    # Tickers in portfolio\n",
    "    tickers_prtfl = [c.split('_')[0] for c in df_actions.columns]\n",
    "    remove_item = 'date'\n",
    "    if remove_item in tickers_prtfl: tickers_prtfl.remove(remove_item)\n",
    "    \n",
    "    return df_actions,df_tickers_p, tickers_prtfl\n",
    "\n",
    "def collect_performance_data(dfa,dfp,tics, dbg=False):\n",
    "    \n",
    "    perf_data = {}\n",
    "    # In current version, files columns include secondary identifier\n",
    "    for t in tics:\n",
    "        # actions: purchase/sale of DOW equities\n",
    "        acts = dfa['_'.join([t,'a'])].values\n",
    "        # ticker prices\n",
    "        prices = dfp['_'.join([t,'p'])].values\n",
    "        # market value of purchases/sales\n",
    "        tvals_init = np.multiply(acts,prices)\n",
    "        d={'actions':acts, 'prices':prices,'init_values':tvals_init}\n",
    "        perf_data[t]=d\n",
    "\n",
    "    return perf_data\n",
    "\n",
    "\n",
    "def calc_pnl_all(perf_dict, tics_all):\n",
    "    # calculate profit/loss for each ticker\n",
    "    print(f'Calculating profit/loss for each ticker')\n",
    "    pnl_all = {}\n",
    "    for tic in tics_all:\n",
    "        pnl_t = []\n",
    "        tic_data = perf_dict[tic]\n",
    "        init_values = tic_data['init_values']\n",
    "        acts = tic_data['actions']\n",
    "        prices = tic_data['prices']\n",
    "        cs = np.cumsum(acts)\n",
    "        args_s = [i + 1 for i in range(len(cs) - 1) if cs[i + 1] < cs[i]]\n",
    "        # tic actions with no sales\n",
    "        if not args_s:\n",
    "            pnl = complete_calc_buyonly(acts, prices, init_values)\n",
    "            pnl_all[tic] = pnl\n",
    "            continue\n",
    "        # copy acts: acts_rev will be revised based on closing/reducing init positions\n",
    "        pnl_all = execute_position_sales(tic,acts,prices,args_s,pnl_all)\n",
    "\n",
    "    return pnl_all\n",
    "\n",
    "\n",
    "def complete_calc_buyonly(actions, prices, init_values):\n",
    "    # calculate final pnl for each ticker assuming no sales\n",
    "    fnl_price = prices[-1]\n",
    "    final_values = np.multiply(fnl_price, actions)\n",
    "    pnl = np.subtract(final_values, init_values)\n",
    "    return pnl\n",
    "\n",
    "\n",
    "def execute_position_sales(tic,acts,prices,args_s,pnl_all):\n",
    "  # calculate final pnl for each ticker with sales\n",
    "    pnl_t = []\n",
    "    acts_rev = acts.copy()\n",
    "    # location of sales transactions\n",
    "    for s in args_s:  # s is scaler\n",
    "        # price_s = [prices[s]]\n",
    "        act_s = [acts_rev[s]]\n",
    "        args_b = [i for i in range(s) if acts_rev[i] > 0]\n",
    "        prcs_init_trades = prices[args_b]\n",
    "        acts_init_trades = acts_rev[args_b]\n",
    "  \n",
    "        # update actions for sales\n",
    "        # reduce/eliminate init values through trades\n",
    "        # always start with earliest purchase that has not been closed through sale\n",
    "        # selectors for purchase and sales trades\n",
    "        # find earliest remaining purchase\n",
    "        arg_sel = min(args_b)\n",
    "        # sel_s = len(acts_trades) - 1\n",
    "\n",
    "        # closing part/all of earliest init trade not yet closed\n",
    "        # sales actions are negative\n",
    "        # in this test case, abs_val of init and sales share counts are same\n",
    "        # zero-out sales actions\n",
    "        # market value of sale\n",
    "        # max number of shares to be closed: may be less than # originally purchased\n",
    "        acts_shares = min(abs(act_s.pop()), acts_rev[arg_sel])\n",
    "\n",
    "        # mv of shares when purchased\n",
    "        mv_p = abs(acts_shares * prices[arg_sel])\n",
    "        # mv of sold shares\n",
    "        mv_s = abs(acts_shares * prices[s])\n",
    "\n",
    "        # calc pnl\n",
    "        pnl = mv_s - mv_p\n",
    "        # reduce init share count\n",
    "        # close all/part of init purchase\n",
    "        acts_rev[arg_sel] -= acts_shares\n",
    "        acts_rev[s] += acts_shares\n",
    "        # calculate pnl for trade\n",
    "        # value of associated purchase\n",
    "        \n",
    "        # find earliest non-zero positive act in acts_revs\n",
    "        pnl_t.append(pnl)\n",
    "    \n",
    "    pnl_op = calc_pnl_for_open_positions(acts_rev, prices)\n",
    "    #pnl_op is list\n",
    "    # add pnl_op results (if any) to pnl_t (both lists)\n",
    "    pnl_t.extend(pnl_op)\n",
    "    #print(f'Total pnl for {tic}: {np.sum(pnl_t)}')\n",
    "    pnl_all[tic] = np.array(pnl_t)\n",
    "    return pnl_all\n",
    "\n",
    "\n",
    "def calc_pnl_for_open_positions(acts,prices):\n",
    "    # identify any positive share values after accounting for sales\n",
    "    pnl = []\n",
    "    fp = prices[-1] # last price\n",
    "    open_pos_arg = np.argwhere(acts>0)\n",
    "    if len(open_pos_arg)==0:return pnl # no open positions\n",
    "\n",
    "    mkt_vals_open = np.multiply(acts[open_pos_arg], prices[open_pos_arg])\n",
    "    # mkt val at end of testing period\n",
    "    # treat as trades for purposes of calculating pnl at end of testing period\n",
    "    mkt_vals_final = np.multiply(fp, acts[open_pos_arg])\n",
    "    pnl_a = np.subtract(mkt_vals_final, mkt_vals_open)\n",
    "    #convert to list\n",
    "    pnl = [i[0] for i in pnl_a.tolist()]\n",
    "    #print(f'Market value of open positions at end of testing {pnl}')\n",
    "    return pnl\n",
    "\n",
    "\n",
    "def calc_trade_perf(pnl_d):\n",
    "    # calculate trade performance metrics\n",
    "    perf_results = {}\n",
    "    for t,pnl in pnl_d.items():\n",
    "        wins = pnl[pnl>0]  # total val\n",
    "        losses = pnl[pnl<0]\n",
    "        n_wins = len(wins)\n",
    "        n_losses = len(losses)\n",
    "        n_trades = n_wins + n_losses\n",
    "        wins_val = np.sum(wins)\n",
    "        losses_val = np.sum(losses)\n",
    "        wins_avg = 0 if n_wins==0 else np.mean(wins)\n",
    "        #print(f'{t} n_wins: {n_wins} n_losses: {n_losses}')\n",
    "        losses_avg = 0 if n_losses==0 else np.mean(losses)\n",
    "        d = {'# trades':n_trades,'# wins':n_wins,'# losses':n_losses,\n",
    "             'wins total value':wins_val, 'wins avg value':wins_avg,\n",
    "             'losses total value':losses_val, 'losses avg value':losses_avg,}\n",
    "        perf_results[t] = d\n",
    "    return perf_results"
   ]
  },
  {
   "cell_type": "code",
   "execution_count": 208,
   "metadata": {},
   "outputs": [],
   "source": [
    "def objective_adv(trial:optuna.Trial):\n",
    "    #Trial will suggest a set of hyperparamters from the specified range\n",
    "    use_sharpe=1\n",
    "    \n",
    "    hyperparameters = sample_a2c_params(trial)\n",
    "    model_a2c = agent.get_model(\"a2c\", model_kwargs = hyperparameters)\n",
    "    #You can increase it for better comparison\n",
    "    trained_a2c = agent.train_model(model=model_a2c,\n",
    "                                    tb_log_name=\"a2c\",\n",
    "                                    total_timesteps=50000)\n",
    "    trained_a2c.save('models/a2c_{}.pth'.format(trial.number))\n",
    "    clear_output(wait=True)\n",
    "    \n",
    "    #For the given hyperparamters, determine the account value in the trading period\n",
    "    df_account_value, df_actions = DRLAgent.DRL_prediction(\n",
    "                                        model=trained_a2c, \n",
    "                                        environment = e_train_gym\n",
    "                                        #environment = e_trade_gym\n",
    "                                    )\n",
    "    #Calculate sharpe from the account value\n",
    "    sharpe = calculate_sharpe(df_account_value)\n",
    "    #print(trial.number,\" Sharpe=:\",sharpe)\n",
    "    \n",
    "    # Calculate trade performance metric\n",
    "    tp_metric = 'avgwl'\n",
    "    if sharpe!=0:\n",
    "        # Currently ratio of average win and loss market values\n",
    "        #tpm = calc_trade_perf_metric(df_actions,trade,tp_metric)\n",
    "        tpm = calc_trade_perf_metric(df_actions,train,tp_metric)\n",
    "    else:\n",
    "        tpm=0\n",
    "    print(trial.number,\" avgwl=:\",tpm, \" Sharpe=:\",sharpe)\n",
    "    #return tpm, sharpe\n",
    "    \n",
    "    if use_sharpe:\n",
    "        return sharpe\n",
    "    else:\n",
    "        return tpm\n",
    "    \n",
    "    #return sharpe"
   ]
  },
  {
   "cell_type": "code",
   "execution_count": 213,
   "metadata": {},
   "outputs": [],
   "source": [
    "#dir(e_train_gym)\n",
    "e_train_gym.print_verbosity=1000"
   ]
  },
  {
   "cell_type": "code",
   "execution_count": 214,
   "metadata": {},
   "outputs": [
    {
     "name": "stderr",
     "output_type": "stream",
     "text": [
      "\u001b[32m[I 2022-12-22 19:36:08,292]\u001b[0m Trial 29 finished with value: 0.7376920901063914 and parameters: {'gamma': 0.0255145003027164, 'max_grad_norm': 0.9627946490107754, 'gae_lambda': 0.0030667256752371663, 'exponent_n_steps': 8, 'lr': 0.0003633542477576644, 'ent_coef': 0.001110719943532686}. Best is trial 24 with value: 0.7868820857909196.\u001b[0m\n"
     ]
    },
    {
     "name": "stdout",
     "output_type": "stream",
     "text": [
      "hit end!\n",
      "Number of tickers: 1\n",
      "Tickers: ['MCD']\n",
      "Calculating profit/loss for each ticker\n",
      "Ratio Avg Win/Avg Loss: 25\n",
      "29  avgwl=: 25  Sharpe=: 0.7376920901063914\n"
     ]
    }
   ],
   "source": [
    "sampler = optuna.samplers.TPESampler()\n",
    "study = optuna.create_study(study_name=\"a2c_study\",direction='maximize',\n",
    "                            sampler = sampler, pruner=optuna.pruners.HyperbandPruner())\n",
    "\n",
    "\n",
    "\n",
    "lc_threshold=1e-5\n",
    "lc_patience=30\n",
    "lc_trial_number=5\n",
    "n_trials=30\n",
    "use_sharpe=1\n",
    "\n",
    "logging_callback = LoggingCallback(threshold=lc_threshold,\n",
    "                                   patience=lc_patience,\n",
    "                                   trial_number=lc_trial_number)\n",
    "\n",
    "#You can increase the n_trials for a better search space scanning\n",
    "study.optimize(objective_adv, n_trials=n_trials,catch=(ValueError,),callbacks=[logging_callback])\n",
    "\n",
    "\n"
   ]
  },
  {
   "cell_type": "code",
   "execution_count": 215,
   "metadata": {},
   "outputs": [
    {
     "name": "stdout",
     "output_type": "stream",
     "text": [
      "Hyperparameters after tuning {'gamma': 0.026172210945216465, 'max_grad_norm': 0.6554091564663616, 'gae_lambda': 0.0036896190826114133, 'exponent_n_steps': 9, 'lr': 0.0009727070393990225, 'ent_coef': 3.192281149687314e-05}\n",
      "Hyperparameters before tuning {'n_steps': 5, 'ent_coef': 0.01, 'learning_rate': 0.0007}\n"
     ]
    }
   ],
   "source": [
    "#e_train_gym.print_verbosity\n",
    "#Get the best hyperparamters\n",
    "print('Hyperparameters after tuning',study.best_params)\n",
    "print('Hyperparameters before tuning',config.A2C_PARAMS)"
   ]
  },
  {
   "cell_type": "code",
   "execution_count": 216,
   "metadata": {},
   "outputs": [
    {
     "data": {
      "text/plain": [
       "FrozenTrial(number=24, values=[0.7868820857909196], datetime_start=datetime.datetime(2022, 12, 22, 19, 25, 52, 376054), datetime_complete=datetime.datetime(2022, 12, 22, 19, 27, 50, 877168), params={'gamma': 0.026172210945216465, 'max_grad_norm': 0.6554091564663616, 'gae_lambda': 0.0036896190826114133, 'exponent_n_steps': 9, 'lr': 0.0009727070393990225, 'ent_coef': 3.192281149687314e-05}, distributions={'gamma': FloatDistribution(high=0.1, log=True, low=0.0001, step=None), 'max_grad_norm': FloatDistribution(high=5.0, log=True, low=0.3, step=None), 'gae_lambda': FloatDistribution(high=0.2, log=True, low=0.001, step=None), 'exponent_n_steps': IntDistribution(high=10, log=False, low=3, step=1), 'lr': FloatDistribution(high=1.0, log=True, low=1e-05, step=None), 'ent_coef': FloatDistribution(high=0.1, log=True, low=1e-08, step=None)}, user_attrs={'gamma_': 0.9738277890547835, 'gae_lambda_': 0.9963103809173885, 'n_steps': 512, 'learning_rate': 0.0009727070393990225, 'ent_coef': 3.192281149687314e-05, 'max_grad_norm': 0.6554091564663616}, system_attrs={}, intermediate_values={}, trial_id=24, state=TrialState.COMPLETE, value=None)"
      ]
     },
     "execution_count": 216,
     "metadata": {},
     "output_type": "execute_result"
    }
   ],
   "source": [
    "study.best_trial"
   ]
  },
  {
   "cell_type": "code",
   "execution_count": 217,
   "metadata": {},
   "outputs": [],
   "source": [
    "from stable_baselines3 import A2C\n",
    "tuned_model_a2c = A2C.load('models/a2c_{}.pth'.format(study.best_trial.number),env=env_train)\n"
   ]
  },
  {
   "cell_type": "code",
   "execution_count": 218,
   "metadata": {},
   "outputs": [
    {
     "name": "stdout",
     "output_type": "stream",
     "text": [
      "hit end!\n"
     ]
    }
   ],
   "source": [
    "#Trading period account value with tuned model\n",
    "df_account_value_tuned, df_actions_tuned = DRLAgent.DRL_prediction(\n",
    "    model=tuned_model_a2c, \n",
    "    environment = e_train_gym)\n"
   ]
  },
  {
   "cell_type": "code",
   "execution_count": 219,
   "metadata": {},
   "outputs": [],
   "source": [
    "tp_metric = 'avgwl'\n",
    "def add_trade_perf_metric(df_actions, \n",
    "                          perf_stats_all,\n",
    "                          train, \n",
    "                          tp_metric):\n",
    "    tpm = calc_trade_perf_metric(df_actions,train,tp_metric)\n",
    "    trp_metric = {'Value':tpm}\n",
    "    df2 = pd.DataFrame(trp_metric,index=['Trade_Perf'])\n",
    "    perf_stats_all = perf_stats_all.append(df2)\n",
    "    return perf_stats_all"
   ]
  },
  {
   "cell_type": "code",
   "execution_count": 220,
   "metadata": {},
   "outputs": [
    {
     "name": "stdout",
     "output_type": "stream",
     "text": [
      "==============Get Backtest Results===========\n",
      "==============Pruned Model===========\n",
      "Annual return          0.136908\n",
      "Cumulative returns     3.362522\n",
      "Annual volatility      0.184816\n",
      "Sharpe ratio           0.786882\n",
      "Calmar ratio           0.372263\n",
      "Stability              0.956768\n",
      "Max drawdown          -0.367773\n",
      "Omega ratio            1.172068\n",
      "Sortino ratio          1.159708\n",
      "Skew                        NaN\n",
      "Kurtosis                    NaN\n",
      "Tail ratio             1.043043\n",
      "Daily value at risk   -0.022708\n",
      "dtype: float64\n",
      "Number of tickers: 1\n",
      "Tickers: ['MCD']\n",
      "Calculating profit/loss for each ticker\n",
      "Ratio Avg Win/Avg Loss: 5.409992145574935\n"
     ]
    }
   ],
   "source": [
    "#Backtesting with our pruned model\n",
    "print(\"==============Get Backtest Results===========\")\n",
    "print(\"==============Pruned Model===========\")\n",
    "now = datetime.datetime.now().strftime('%Y%m%d-%Hh%M')\n",
    "\n",
    "perf_stats_all_tuned = backtest_stats(account_value=df_account_value_tuned)\n",
    "perf_stats_all_tuned = pd.DataFrame(perf_stats_all_tuned)\n",
    "perf_stats_all_tuned.columns = ['Value']\n",
    "# add trade performance metric\n",
    "perf_stats_all_tuned = \\\n",
    "    add_trade_perf_metric(df_actions_tuned,\n",
    "                        perf_stats_all_tuned,\n",
    "                        train,\n",
    "                        tp_metric)"
   ]
  },
  {
   "cell_type": "code",
   "execution_count": 221,
   "metadata": {},
   "outputs": [
    {
     "name": "stdout",
     "output_type": "stream",
     "text": [
      "{'n_steps': 5, 'ent_coef': 0.01, 'learning_rate': 0.0007}\n",
      "Using cpu device\n",
      "------------------------------------\n",
      "| time/                 |          |\n",
      "|    fps                | 437      |\n",
      "|    iterations         | 100      |\n",
      "|    time_elapsed       | 1        |\n",
      "|    total_timesteps    | 500      |\n",
      "| train/                |          |\n",
      "|    entropy_loss       | -1.5     |\n",
      "|    explained_variance | 0        |\n",
      "|    learning_rate      | 0.0007   |\n",
      "|    n_updates          | 99       |\n",
      "|    policy_loss        | -0.00664 |\n",
      "|    reward             | 0.0      |\n",
      "|    std                | 1.09     |\n",
      "|    value_loss         | 1.94e-05 |\n",
      "------------------------------------\n",
      "-----------------------------------------\n",
      "| time/                 |               |\n",
      "|    fps                | 480           |\n",
      "|    iterations         | 200           |\n",
      "|    time_elapsed       | 2             |\n",
      "|    total_timesteps    | 1000          |\n",
      "| train/                |               |\n",
      "|    entropy_loss       | -1.58         |\n",
      "|    explained_variance | 0             |\n",
      "|    learning_rate      | 0.0007        |\n",
      "|    n_updates          | 199           |\n",
      "|    policy_loss        | -7.75e-08     |\n",
      "|    reward             | -0.0017924921 |\n",
      "|    std                | 1.17          |\n",
      "|    value_loss         | 2.41e-14      |\n",
      "-----------------------------------------\n",
      "------------------------------------\n",
      "| time/                 |          |\n",
      "|    fps                | 494      |\n",
      "|    iterations         | 300      |\n",
      "|    time_elapsed       | 3        |\n",
      "|    total_timesteps    | 1500     |\n",
      "| train/                |          |\n",
      "|    entropy_loss       | -1.65    |\n",
      "|    explained_variance | 0        |\n",
      "|    learning_rate      | 0.0007   |\n",
      "|    n_updates          | 299      |\n",
      "|    policy_loss        | 4.16e-06 |\n",
      "|    reward             | 0.0      |\n",
      "|    std                | 1.26     |\n",
      "|    value_loss         | 1.03e-11 |\n",
      "------------------------------------\n",
      "-------------------------------------\n",
      "| time/                 |           |\n",
      "|    fps                | 500       |\n",
      "|    iterations         | 400       |\n",
      "|    time_elapsed       | 3         |\n",
      "|    total_timesteps    | 2000      |\n",
      "| train/                |           |\n",
      "|    entropy_loss       | -1.71     |\n",
      "|    explained_variance | 0         |\n",
      "|    learning_rate      | 0.0007    |\n",
      "|    n_updates          | 399       |\n",
      "|    policy_loss        | -1.67e-07 |\n",
      "|    reward             | 0.0       |\n",
      "|    std                | 1.34      |\n",
      "|    value_loss         | 2.01e-14  |\n",
      "-------------------------------------\n",
      "-------------------------------------\n",
      "| time/                 |           |\n",
      "|    fps                | 500       |\n",
      "|    iterations         | 500       |\n",
      "|    time_elapsed       | 4         |\n",
      "|    total_timesteps    | 2500      |\n",
      "| train/                |           |\n",
      "|    entropy_loss       | -1.77     |\n",
      "|    explained_variance | -1.19e-07 |\n",
      "|    learning_rate      | 0.0007    |\n",
      "|    n_updates          | 499       |\n",
      "|    policy_loss        | 1.99e-07  |\n",
      "|    reward             | 0.0       |\n",
      "|    std                | 1.42      |\n",
      "|    value_loss         | 2.16e-14  |\n",
      "-------------------------------------\n",
      "------------------------------------\n",
      "| time/                 |          |\n",
      "|    fps                | 489      |\n",
      "|    iterations         | 600      |\n",
      "|    time_elapsed       | 6        |\n",
      "|    total_timesteps    | 3000     |\n",
      "| train/                |          |\n",
      "|    entropy_loss       | -1.83    |\n",
      "|    explained_variance | 1.19e-07 |\n",
      "|    learning_rate      | 0.0007   |\n",
      "|    n_updates          | 599      |\n",
      "|    policy_loss        | 1.38e-07 |\n",
      "|    reward             | 0.0      |\n",
      "|    std                | 1.51     |\n",
      "|    value_loss         | 6.29e-15 |\n",
      "------------------------------------\n",
      "------------------------------------\n",
      "| time/                 |          |\n",
      "|    fps                | 487      |\n",
      "|    iterations         | 700      |\n",
      "|    time_elapsed       | 7        |\n",
      "|    total_timesteps    | 3500     |\n",
      "| train/                |          |\n",
      "|    entropy_loss       | -1.89    |\n",
      "|    explained_variance | 0        |\n",
      "|    learning_rate      | 0.0007   |\n",
      "|    n_updates          | 699      |\n",
      "|    policy_loss        | 2.08e-07 |\n",
      "|    reward             | 0.0      |\n",
      "|    std                | 1.61     |\n",
      "|    value_loss         | 3.6e-15  |\n",
      "------------------------------------\n",
      "------------------------------------\n",
      "| time/                 |          |\n",
      "|    fps                | 488      |\n",
      "|    iterations         | 800      |\n",
      "|    time_elapsed       | 8        |\n",
      "|    total_timesteps    | 4000     |\n",
      "| train/                |          |\n",
      "|    entropy_loss       | -1.96    |\n",
      "|    explained_variance | 0        |\n",
      "|    learning_rate      | 0.0007   |\n",
      "|    n_updates          | 799      |\n",
      "|    policy_loss        | 2.34e-06 |\n",
      "|    reward             | 0.0      |\n",
      "|    std                | 1.72     |\n",
      "|    value_loss         | 2.18e-12 |\n",
      "------------------------------------\n",
      "------------------------------------\n",
      "| time/                 |          |\n",
      "|    fps                | 483      |\n",
      "|    iterations         | 900      |\n",
      "|    time_elapsed       | 9        |\n",
      "|    total_timesteps    | 4500     |\n",
      "| train/                |          |\n",
      "|    entropy_loss       | -2.03    |\n",
      "|    explained_variance | 5.96e-08 |\n",
      "|    learning_rate      | 0.0007   |\n",
      "|    n_updates          | 899      |\n",
      "|    policy_loss        | 0.000124 |\n",
      "|    reward             | 0.0      |\n",
      "|    std                | 1.85     |\n",
      "|    value_loss         | 3.81e-09 |\n",
      "------------------------------------\n",
      "-------------------------------------\n",
      "| time/                 |           |\n",
      "|    fps                | 483       |\n",
      "|    iterations         | 1000      |\n",
      "|    time_elapsed       | 10        |\n",
      "|    total_timesteps    | 5000      |\n",
      "| train/                |           |\n",
      "|    entropy_loss       | -2.09     |\n",
      "|    explained_variance | 0         |\n",
      "|    learning_rate      | 0.0007    |\n",
      "|    n_updates          | 999       |\n",
      "|    policy_loss        | -2.26e-07 |\n",
      "|    reward             | 0.0       |\n",
      "|    std                | 1.95      |\n",
      "|    value_loss         | 4.06e-15  |\n",
      "-------------------------------------\n",
      "------------------------------------\n",
      "| time/                 |          |\n",
      "|    fps                | 477      |\n",
      "|    iterations         | 1100     |\n",
      "|    time_elapsed       | 11       |\n",
      "|    total_timesteps    | 5500     |\n",
      "| train/                |          |\n",
      "|    entropy_loss       | -2.15    |\n",
      "|    explained_variance | 0        |\n",
      "|    learning_rate      | 0.0007   |\n",
      "|    n_updates          | 1099     |\n",
      "|    policy_loss        | 4.01e-05 |\n",
      "|    reward             | 0.0      |\n",
      "|    std                | 2.08     |\n",
      "|    value_loss         | 2.02e-10 |\n",
      "------------------------------------\n",
      "-------------------------------------\n",
      "| time/                 |           |\n",
      "|    fps                | 479       |\n",
      "|    iterations         | 1200      |\n",
      "|    time_elapsed       | 12        |\n",
      "|    total_timesteps    | 6000      |\n",
      "| train/                |           |\n",
      "|    entropy_loss       | -2.22     |\n",
      "|    explained_variance | -1.19e-07 |\n",
      "|    learning_rate      | 0.0007    |\n",
      "|    n_updates          | 1199      |\n",
      "|    policy_loss        | 8.35e-07  |\n",
      "|    reward             | 0.0       |\n",
      "|    std                | 2.23      |\n",
      "|    value_loss         | 2.18e-13  |\n",
      "-------------------------------------\n",
      "-------------------------------------\n",
      "| time/                 |           |\n",
      "|    fps                | 480       |\n",
      "|    iterations         | 1300      |\n",
      "|    time_elapsed       | 13        |\n",
      "|    total_timesteps    | 6500      |\n",
      "| train/                |           |\n",
      "|    entropy_loss       | -2.29     |\n",
      "|    explained_variance | 0         |\n",
      "|    learning_rate      | 0.0007    |\n",
      "|    n_updates          | 1299      |\n",
      "|    policy_loss        | -9.28e-06 |\n",
      "|    reward             | 0.0       |\n",
      "|    std                | 2.38      |\n",
      "|    value_loss         | 2.3e-11   |\n",
      "-------------------------------------\n",
      "-------------------------------------\n",
      "| time/                 |           |\n",
      "|    fps                | 490       |\n",
      "|    iterations         | 1400      |\n",
      "|    time_elapsed       | 14        |\n",
      "|    total_timesteps    | 7000      |\n",
      "| train/                |           |\n",
      "|    entropy_loss       | -2.35     |\n",
      "|    explained_variance | -1.19e-07 |\n",
      "|    learning_rate      | 0.0007    |\n",
      "|    n_updates          | 1399      |\n",
      "|    policy_loss        | 0.00104   |\n",
      "|    reward             | 0.0       |\n",
      "|    std                | 2.55      |\n",
      "|    value_loss         | 2.41e-07  |\n",
      "-------------------------------------\n",
      "-------------------------------------\n",
      "| time/                 |           |\n",
      "|    fps                | 499       |\n",
      "|    iterations         | 1500      |\n",
      "|    time_elapsed       | 15        |\n",
      "|    total_timesteps    | 7500      |\n",
      "| train/                |           |\n",
      "|    entropy_loss       | -2.42     |\n",
      "|    explained_variance | 0         |\n",
      "|    learning_rate      | 0.0007    |\n",
      "|    n_updates          | 1499      |\n",
      "|    policy_loss        | -2.91e-07 |\n",
      "|    reward             | 0.0       |\n",
      "|    std                | 2.72      |\n",
      "|    value_loss         | 8.91e-15  |\n",
      "-------------------------------------\n",
      "-------------------------------------\n",
      "| time/                 |           |\n",
      "|    fps                | 507       |\n",
      "|    iterations         | 1600      |\n",
      "|    time_elapsed       | 15        |\n",
      "|    total_timesteps    | 8000      |\n",
      "| train/                |           |\n",
      "|    entropy_loss       | -2.48     |\n",
      "|    explained_variance | 0         |\n",
      "|    learning_rate      | 0.0007    |\n",
      "|    n_updates          | 1599      |\n",
      "|    policy_loss        | -4.96e-08 |\n",
      "|    reward             | 0.0       |\n",
      "|    std                | 2.9       |\n",
      "|    value_loss         | 2.7e-15   |\n",
      "-------------------------------------\n",
      "-------------------------------------\n",
      "| time/                 |           |\n",
      "|    fps                | 510       |\n",
      "|    iterations         | 1700      |\n",
      "|    time_elapsed       | 16        |\n",
      "|    total_timesteps    | 8500      |\n",
      "| train/                |           |\n",
      "|    entropy_loss       | -2.54     |\n",
      "|    explained_variance | -1.19e-07 |\n",
      "|    learning_rate      | 0.0007    |\n",
      "|    n_updates          | 1699      |\n",
      "|    policy_loss        | 3.7e-08   |\n",
      "|    reward             | 0.0       |\n",
      "|    std                | 3.08      |\n",
      "|    value_loss         | 5.8e-15   |\n",
      "-------------------------------------\n",
      "------------------------------------\n",
      "| time/                 |          |\n",
      "|    fps                | 506      |\n",
      "|    iterations         | 1800     |\n",
      "|    time_elapsed       | 17       |\n",
      "|    total_timesteps    | 9000     |\n",
      "| train/                |          |\n",
      "|    entropy_loss       | -2.61    |\n",
      "|    explained_variance | 0        |\n",
      "|    learning_rate      | 0.0007   |\n",
      "|    n_updates          | 1799     |\n",
      "|    policy_loss        | 5.3e-08  |\n",
      "|    reward             | 0.0      |\n",
      "|    std                | 3.29     |\n",
      "|    value_loss         | 1.46e-15 |\n",
      "------------------------------------\n",
      "-------------------------------------\n",
      "| time/                 |           |\n",
      "|    fps                | 504       |\n",
      "|    iterations         | 1900      |\n",
      "|    time_elapsed       | 18        |\n",
      "|    total_timesteps    | 9500      |\n",
      "| train/                |           |\n",
      "|    entropy_loss       | -2.68     |\n",
      "|    explained_variance | -1.19e-07 |\n",
      "|    learning_rate      | 0.0007    |\n",
      "|    n_updates          | 1899      |\n",
      "|    policy_loss        | -6.44e-10 |\n",
      "|    reward             | 0.0       |\n",
      "|    std                | 3.52      |\n",
      "|    value_loss         | 4.21e-20  |\n",
      "-------------------------------------\n",
      "-------------------------------------\n",
      "| time/                 |           |\n",
      "|    fps                | 506       |\n",
      "|    iterations         | 2000      |\n",
      "|    time_elapsed       | 19        |\n",
      "|    total_timesteps    | 10000     |\n",
      "| train/                |           |\n",
      "|    entropy_loss       | -2.74     |\n",
      "|    explained_variance | 0         |\n",
      "|    learning_rate      | 0.0007    |\n",
      "|    n_updates          | 1999      |\n",
      "|    policy_loss        | -2.04e-07 |\n",
      "|    reward             | 0.0       |\n",
      "|    std                | 3.76      |\n",
      "|    value_loss         | 2.96e-14  |\n",
      "-------------------------------------\n",
      "------------------------------------\n",
      "| time/                 |          |\n",
      "|    fps                | 508      |\n",
      "|    iterations         | 2100     |\n",
      "|    time_elapsed       | 20       |\n",
      "|    total_timesteps    | 10500    |\n",
      "| train/                |          |\n",
      "|    entropy_loss       | -2.81    |\n",
      "|    explained_variance | 0        |\n",
      "|    learning_rate      | 0.0007   |\n",
      "|    n_updates          | 2099     |\n",
      "|    policy_loss        | 6.16e-07 |\n",
      "|    reward             | 0.0      |\n",
      "|    std                | 4.03     |\n",
      "|    value_loss         | 6.84e-14 |\n",
      "------------------------------------\n",
      "-------------------------------------\n",
      "| time/                 |           |\n",
      "|    fps                | 502       |\n",
      "|    iterations         | 2200      |\n",
      "|    time_elapsed       | 21        |\n",
      "|    total_timesteps    | 11000     |\n",
      "| train/                |           |\n",
      "|    entropy_loss       | -2.88     |\n",
      "|    explained_variance | 0         |\n",
      "|    learning_rate      | 0.0007    |\n",
      "|    n_updates          | 2199      |\n",
      "|    policy_loss        | -7.09e-09 |\n",
      "|    reward             | 0.0       |\n",
      "|    std                | 4.31      |\n",
      "|    value_loss         | 1.35e-14  |\n",
      "-------------------------------------\n",
      "-------------------------------------\n",
      "| time/                 |           |\n",
      "|    fps                | 500       |\n",
      "|    iterations         | 2300      |\n",
      "|    time_elapsed       | 22        |\n",
      "|    total_timesteps    | 11500     |\n",
      "| train/                |           |\n",
      "|    entropy_loss       | -2.94     |\n",
      "|    explained_variance | -1.19e-07 |\n",
      "|    learning_rate      | 0.0007    |\n",
      "|    n_updates          | 2299      |\n",
      "|    policy_loss        | -8.99e-09 |\n",
      "|    reward             | 0.0       |\n",
      "|    std                | 4.56      |\n",
      "|    value_loss         | 1.07e-15  |\n",
      "-------------------------------------\n",
      "------------------------------------\n",
      "| time/                 |          |\n",
      "|    fps                | 499      |\n",
      "|    iterations         | 2400     |\n",
      "|    time_elapsed       | 24       |\n",
      "|    total_timesteps    | 12000    |\n",
      "| train/                |          |\n",
      "|    entropy_loss       | -3       |\n",
      "|    explained_variance | 0        |\n",
      "|    learning_rate      | 0.0007   |\n",
      "|    n_updates          | 2399     |\n",
      "|    policy_loss        | 2.03e-06 |\n",
      "|    reward             | 0.0      |\n",
      "|    std                | 4.85     |\n",
      "|    value_loss         | 6.14e-13 |\n",
      "------------------------------------\n",
      "-------------------------------------\n",
      "| time/                 |           |\n",
      "|    fps                | 497       |\n",
      "|    iterations         | 2500      |\n",
      "|    time_elapsed       | 25        |\n",
      "|    total_timesteps    | 12500     |\n",
      "| train/                |           |\n",
      "|    entropy_loss       | -3.06     |\n",
      "|    explained_variance | 0         |\n",
      "|    learning_rate      | 0.0007    |\n",
      "|    n_updates          | 2499      |\n",
      "|    policy_loss        | -4.86e-08 |\n",
      "|    reward             | 0.0       |\n",
      "|    std                | 5.19      |\n",
      "|    value_loss         | 3.36e-16  |\n",
      "-------------------------------------\n",
      "------------------------------------\n",
      "| time/                 |          |\n",
      "|    fps                | 497      |\n",
      "|    iterations         | 2600     |\n",
      "|    time_elapsed       | 26       |\n",
      "|    total_timesteps    | 13000    |\n",
      "| train/                |          |\n",
      "|    entropy_loss       | -3.13    |\n",
      "|    explained_variance | 0        |\n",
      "|    learning_rate      | 0.0007   |\n",
      "|    n_updates          | 2599     |\n",
      "|    policy_loss        | 0.00224  |\n",
      "|    reward             | 0.0      |\n",
      "|    std                | 5.53     |\n",
      "|    value_loss         | 7.17e-07 |\n",
      "------------------------------------\n",
      "------------------------------------\n",
      "| time/                 |          |\n",
      "|    fps                | 488      |\n",
      "|    iterations         | 2700     |\n",
      "|    time_elapsed       | 27       |\n",
      "|    total_timesteps    | 13500    |\n",
      "| train/                |          |\n",
      "|    entropy_loss       | -3.2     |\n",
      "|    explained_variance | 0        |\n",
      "|    learning_rate      | 0.0007   |\n",
      "|    n_updates          | 2699     |\n",
      "|    policy_loss        | 4.98e-06 |\n",
      "|    reward             | 0.0      |\n",
      "|    std                | 5.93     |\n",
      "|    value_loss         | 2.86e-12 |\n",
      "------------------------------------\n",
      "-------------------------------------\n",
      "| time/                 |           |\n",
      "|    fps                | 490       |\n",
      "|    iterations         | 2800      |\n",
      "|    time_elapsed       | 28        |\n",
      "|    total_timesteps    | 14000     |\n",
      "| train/                |           |\n",
      "|    entropy_loss       | -3.27     |\n",
      "|    explained_variance | 0         |\n",
      "|    learning_rate      | 0.0007    |\n",
      "|    n_updates          | 2799      |\n",
      "|    policy_loss        | -4.06e-08 |\n",
      "|    reward             | 0.0       |\n",
      "|    std                | 6.34      |\n",
      "|    value_loss         | 1.28e-16  |\n",
      "-------------------------------------\n",
      "------------------------------------\n",
      "| time/                 |          |\n",
      "|    fps                | 491      |\n",
      "|    iterations         | 2900     |\n",
      "|    time_elapsed       | 29       |\n",
      "|    total_timesteps    | 14500    |\n",
      "| train/                |          |\n",
      "|    entropy_loss       | -3.33    |\n",
      "|    explained_variance | 0        |\n",
      "|    learning_rate      | 0.0007   |\n",
      "|    n_updates          | 2899     |\n",
      "|    policy_loss        | -0.00388 |\n",
      "|    reward             | 0.0      |\n",
      "|    std                | 6.74     |\n",
      "|    value_loss         | 1.93e-06 |\n",
      "------------------------------------\n",
      "------------------------------------\n",
      "| time/                 |          |\n",
      "|    fps                | 494      |\n",
      "|    iterations         | 3000     |\n",
      "|    time_elapsed       | 30       |\n",
      "|    total_timesteps    | 15000    |\n",
      "| train/                |          |\n",
      "|    entropy_loss       | -3.39    |\n",
      "|    explained_variance | 1.19e-07 |\n",
      "|    learning_rate      | 0.0007   |\n",
      "|    n_updates          | 2999     |\n",
      "|    policy_loss        | 0.000879 |\n",
      "|    reward             | 0.0      |\n",
      "|    std                | 7.18     |\n",
      "|    value_loss         | 9.86e-08 |\n",
      "------------------------------------\n",
      "----------------------------------------\n",
      "| time/                 |              |\n",
      "|    fps                | 496          |\n",
      "|    iterations         | 3100         |\n",
      "|    time_elapsed       | 31           |\n",
      "|    total_timesteps    | 15500        |\n",
      "| train/                |              |\n",
      "|    entropy_loss       | -3.46        |\n",
      "|    explained_variance | 0            |\n",
      "|    learning_rate      | 0.0007       |\n",
      "|    n_updates          | 3099         |\n",
      "|    policy_loss        | 0.00634      |\n",
      "|    reward             | -0.010181824 |\n",
      "|    std                | 7.68         |\n",
      "|    value_loss         | 4.13e-06     |\n",
      "----------------------------------------\n",
      "------------------------------------\n",
      "| time/                 |          |\n",
      "|    fps                | 498      |\n",
      "|    iterations         | 3200     |\n",
      "|    time_elapsed       | 32       |\n",
      "|    total_timesteps    | 16000    |\n",
      "| train/                |          |\n",
      "|    entropy_loss       | -3.53    |\n",
      "|    explained_variance | 0        |\n",
      "|    learning_rate      | 0.0007   |\n",
      "|    n_updates          | 3199     |\n",
      "|    policy_loss        | 0.0752   |\n",
      "|    reward             | 0.0      |\n",
      "|    std                | 8.25     |\n",
      "|    value_loss         | 0.000512 |\n",
      "------------------------------------\n",
      "------------------------------------\n",
      "| time/                 |          |\n",
      "|    fps                | 500      |\n",
      "|    iterations         | 3300     |\n",
      "|    time_elapsed       | 32       |\n",
      "|    total_timesteps    | 16500    |\n",
      "| train/                |          |\n",
      "|    entropy_loss       | -3.58    |\n",
      "|    explained_variance | 0        |\n",
      "|    learning_rate      | 0.0007   |\n",
      "|    n_updates          | 3299     |\n",
      "|    policy_loss        | -0.0404  |\n",
      "|    reward             | 0.0      |\n",
      "|    std                | 8.71     |\n",
      "|    value_loss         | 0.000106 |\n",
      "------------------------------------\n",
      "------------------------------------\n",
      "| time/                 |          |\n",
      "|    fps                | 501      |\n",
      "|    iterations         | 3400     |\n",
      "|    time_elapsed       | 33       |\n",
      "|    total_timesteps    | 17000    |\n",
      "| train/                |          |\n",
      "|    entropy_loss       | -3.64    |\n",
      "|    explained_variance | 0        |\n",
      "|    learning_rate      | 0.0007   |\n",
      "|    n_updates          | 3399     |\n",
      "|    policy_loss        | 3.59e-06 |\n",
      "|    reward             | 0.0      |\n",
      "|    std                | 9.2      |\n",
      "|    value_loss         | 1.05e-12 |\n",
      "------------------------------------\n",
      "-------------------------------------\n",
      "| time/                 |           |\n",
      "|    fps                | 501       |\n",
      "|    iterations         | 3500      |\n",
      "|    time_elapsed       | 34        |\n",
      "|    total_timesteps    | 17500     |\n",
      "| train/                |           |\n",
      "|    entropy_loss       | -3.69     |\n",
      "|    explained_variance | 0         |\n",
      "|    learning_rate      | 0.0007    |\n",
      "|    n_updates          | 3499      |\n",
      "|    policy_loss        | -0.000946 |\n",
      "|    reward             | 0.0       |\n",
      "|    std                | 9.67      |\n",
      "|    value_loss         | 8.53e-08  |\n",
      "-------------------------------------\n",
      "------------------------------------\n",
      "| time/                 |          |\n",
      "|    fps                | 503      |\n",
      "|    iterations         | 3600     |\n",
      "|    time_elapsed       | 35       |\n",
      "|    total_timesteps    | 18000    |\n",
      "| train/                |          |\n",
      "|    entropy_loss       | -3.75    |\n",
      "|    explained_variance | 0        |\n",
      "|    learning_rate      | 0.0007   |\n",
      "|    n_updates          | 3599     |\n",
      "|    policy_loss        | 0.00196  |\n",
      "|    reward             | 0.0      |\n",
      "|    std                | 10.3     |\n",
      "|    value_loss         | 1.4e-07  |\n",
      "------------------------------------\n",
      "------------------------------------\n",
      "| time/                 |          |\n",
      "|    fps                | 504      |\n",
      "|    iterations         | 3700     |\n",
      "|    time_elapsed       | 36       |\n",
      "|    total_timesteps    | 18500    |\n",
      "| train/                |          |\n",
      "|    entropy_loss       | -3.81    |\n",
      "|    explained_variance | 0        |\n",
      "|    learning_rate      | 0.0007   |\n",
      "|    n_updates          | 3699     |\n",
      "|    policy_loss        | 0.00565  |\n",
      "|    reward             | 0.0      |\n",
      "|    std                | 10.9     |\n",
      "|    value_loss         | 2.74e-06 |\n",
      "------------------------------------\n",
      "------------------------------------\n",
      "| time/                 |          |\n",
      "|    fps                | 504      |\n",
      "|    iterations         | 3800     |\n",
      "|    time_elapsed       | 37       |\n",
      "|    total_timesteps    | 19000    |\n",
      "| train/                |          |\n",
      "|    entropy_loss       | -3.88    |\n",
      "|    explained_variance | 0        |\n",
      "|    learning_rate      | 0.0007   |\n",
      "|    n_updates          | 3799     |\n",
      "|    policy_loss        | 0.000243 |\n",
      "|    reward             | 0.0      |\n",
      "|    std                | 11.7     |\n",
      "|    value_loss         | 4.13e-09 |\n",
      "------------------------------------\n",
      "---------------------------------------\n",
      "| time/                 |             |\n",
      "|    fps                | 500         |\n",
      "|    iterations         | 3900        |\n",
      "|    time_elapsed       | 38          |\n",
      "|    total_timesteps    | 19500       |\n",
      "| train/                |             |\n",
      "|    entropy_loss       | -3.94       |\n",
      "|    explained_variance | -1.19e-07   |\n",
      "|    learning_rate      | 0.0007      |\n",
      "|    n_updates          | 3899        |\n",
      "|    policy_loss        | 0.0274      |\n",
      "|    reward             | 0.021198455 |\n",
      "|    std                | 12.5        |\n",
      "|    value_loss         | 5.82e-05    |\n",
      "---------------------------------------\n",
      "-------------------------------------\n",
      "| time/                 |           |\n",
      "|    fps                | 499       |\n",
      "|    iterations         | 4000      |\n",
      "|    time_elapsed       | 40        |\n",
      "|    total_timesteps    | 20000     |\n",
      "| train/                |           |\n",
      "|    entropy_loss       | -4        |\n",
      "|    explained_variance | 0         |\n",
      "|    learning_rate      | 0.0007    |\n",
      "|    n_updates          | 3999      |\n",
      "|    policy_loss        | -1.53e-05 |\n",
      "|    reward             | 0.0       |\n",
      "|    std                | 13.2      |\n",
      "|    value_loss         | 1.61e-11  |\n",
      "-------------------------------------\n",
      "----------------------------------------\n",
      "| time/                 |              |\n",
      "|    fps                | 499          |\n",
      "|    iterations         | 4100         |\n",
      "|    time_elapsed       | 41           |\n",
      "|    total_timesteps    | 20500        |\n",
      "| train/                |              |\n",
      "|    entropy_loss       | -4.05        |\n",
      "|    explained_variance | 1.79e-07     |\n",
      "|    learning_rate      | 0.0007       |\n",
      "|    n_updates          | 4099         |\n",
      "|    policy_loss        | 0.00434      |\n",
      "|    reward             | -0.002202331 |\n",
      "|    std                | 13.9         |\n",
      "|    value_loss         | 1.69e-06     |\n",
      "----------------------------------------\n",
      "------------------------------------\n",
      "| time/                 |          |\n",
      "|    fps                | 499      |\n",
      "|    iterations         | 4200     |\n",
      "|    time_elapsed       | 42       |\n",
      "|    total_timesteps    | 21000    |\n",
      "| train/                |          |\n",
      "|    entropy_loss       | -4.11    |\n",
      "|    explained_variance | 0        |\n",
      "|    learning_rate      | 0.0007   |\n",
      "|    n_updates          | 4199     |\n",
      "|    policy_loss        | 0.00774  |\n",
      "|    reward             | 0.0      |\n",
      "|    std                | 14.7     |\n",
      "|    value_loss         | 4.85e-06 |\n",
      "------------------------------------\n",
      "------------------------------------\n",
      "| time/                 |          |\n",
      "|    fps                | 500      |\n",
      "|    iterations         | 4300     |\n",
      "|    time_elapsed       | 42       |\n",
      "|    total_timesteps    | 21500    |\n",
      "| train/                |          |\n",
      "|    entropy_loss       | -4.17    |\n",
      "|    explained_variance | 0        |\n",
      "|    learning_rate      | 0.0007   |\n",
      "|    n_updates          | 4299     |\n",
      "|    policy_loss        | 0.00114  |\n",
      "|    reward             | 0.0      |\n",
      "|    std                | 15.7     |\n",
      "|    value_loss         | 1.11e-07 |\n",
      "------------------------------------\n",
      "------------------------------------\n",
      "| time/                 |          |\n",
      "|    fps                | 500      |\n",
      "|    iterations         | 4400     |\n",
      "|    time_elapsed       | 43       |\n",
      "|    total_timesteps    | 22000    |\n",
      "| train/                |          |\n",
      "|    entropy_loss       | -4.23    |\n",
      "|    explained_variance | 0        |\n",
      "|    learning_rate      | 0.0007   |\n",
      "|    n_updates          | 4399     |\n",
      "|    policy_loss        | 0.00242  |\n",
      "|    reward             | 0.0      |\n",
      "|    std                | 16.7     |\n",
      "|    value_loss         | 4.52e-07 |\n",
      "------------------------------------\n",
      "------------------------------------\n",
      "| time/                 |          |\n",
      "|    fps                | 503      |\n",
      "|    iterations         | 4500     |\n",
      "|    time_elapsed       | 44       |\n",
      "|    total_timesteps    | 22500    |\n",
      "| train/                |          |\n",
      "|    entropy_loss       | -4.29    |\n",
      "|    explained_variance | 0        |\n",
      "|    learning_rate      | 0.0007   |\n",
      "|    n_updates          | 4499     |\n",
      "|    policy_loss        | 0.0247   |\n",
      "|    reward             | 0.0      |\n",
      "|    std                | 17.7     |\n",
      "|    value_loss         | 4.51e-05 |\n",
      "------------------------------------\n",
      "------------------------------------\n",
      "| time/                 |          |\n",
      "|    fps                | 505      |\n",
      "|    iterations         | 4600     |\n",
      "|    time_elapsed       | 45       |\n",
      "|    total_timesteps    | 23000    |\n",
      "| train/                |          |\n",
      "|    entropy_loss       | -4.34    |\n",
      "|    explained_variance | 0        |\n",
      "|    learning_rate      | 0.0007   |\n",
      "|    n_updates          | 4599     |\n",
      "|    policy_loss        | 0.00188  |\n",
      "|    reward             | 0.0      |\n",
      "|    std                | 18.6     |\n",
      "|    value_loss         | 2.26e-07 |\n",
      "------------------------------------\n",
      "------------------------------------\n",
      "| time/                 |          |\n",
      "|    fps                | 506      |\n",
      "|    iterations         | 4700     |\n",
      "|    time_elapsed       | 46       |\n",
      "|    total_timesteps    | 23500    |\n",
      "| train/                |          |\n",
      "|    entropy_loss       | -4.37    |\n",
      "|    explained_variance | 0        |\n",
      "|    learning_rate      | 0.0007   |\n",
      "|    n_updates          | 4699     |\n",
      "|    policy_loss        | 0.00334  |\n",
      "|    reward             | 0.0      |\n",
      "|    std                | 19.1     |\n",
      "|    value_loss         | 6.08e-07 |\n",
      "------------------------------------\n",
      "------------------------------------\n",
      "| time/                 |          |\n",
      "|    fps                | 506      |\n",
      "|    iterations         | 4800     |\n",
      "|    time_elapsed       | 47       |\n",
      "|    total_timesteps    | 24000    |\n",
      "| train/                |          |\n",
      "|    entropy_loss       | -4.4     |\n",
      "|    explained_variance | 0        |\n",
      "|    learning_rate      | 0.0007   |\n",
      "|    n_updates          | 4799     |\n",
      "|    policy_loss        | 0.00993  |\n",
      "|    reward             | 0.0      |\n",
      "|    std                | 19.7     |\n",
      "|    value_loss         | 7.23e-06 |\n",
      "------------------------------------\n",
      "----------------------------------------\n",
      "| time/                 |              |\n",
      "|    fps                | 505          |\n",
      "|    iterations         | 4900         |\n",
      "|    time_elapsed       | 48           |\n",
      "|    total_timesteps    | 24500        |\n",
      "| train/                |              |\n",
      "|    entropy_loss       | -4.45        |\n",
      "|    explained_variance | 0            |\n",
      "|    learning_rate      | 0.0007       |\n",
      "|    n_updates          | 4899         |\n",
      "|    policy_loss        | 0.0071       |\n",
      "|    reward             | -0.007619266 |\n",
      "|    std                | 20.7         |\n",
      "|    value_loss         | 3.66e-06     |\n",
      "----------------------------------------\n",
      "------------------------------------\n",
      "| time/                 |          |\n",
      "|    fps                | 502      |\n",
      "|    iterations         | 5000     |\n",
      "|    time_elapsed       | 49       |\n",
      "|    total_timesteps    | 25000    |\n",
      "| train/                |          |\n",
      "|    entropy_loss       | -4.51    |\n",
      "|    explained_variance | 0        |\n",
      "|    learning_rate      | 0.0007   |\n",
      "|    n_updates          | 4999     |\n",
      "|    policy_loss        | 0.00856  |\n",
      "|    reward             | 0.0      |\n",
      "|    std                | 22       |\n",
      "|    value_loss         | 4.54e-06 |\n",
      "------------------------------------\n",
      "------------------------------------\n",
      "| time/                 |          |\n",
      "|    fps                | 502      |\n",
      "|    iterations         | 5100     |\n",
      "|    time_elapsed       | 50       |\n",
      "|    total_timesteps    | 25500    |\n",
      "| train/                |          |\n",
      "|    entropy_loss       | -4.57    |\n",
      "|    explained_variance | 0        |\n",
      "|    learning_rate      | 0.0007   |\n",
      "|    n_updates          | 5099     |\n",
      "|    policy_loss        | 0.002    |\n",
      "|    reward             | 0.0      |\n",
      "|    std                | 23.4     |\n",
      "|    value_loss         | 2.58e-07 |\n",
      "------------------------------------\n",
      "-------------------------------------\n",
      "| time/                 |           |\n",
      "|    fps                | 503       |\n",
      "|    iterations         | 5200      |\n",
      "|    time_elapsed       | 51        |\n",
      "|    total_timesteps    | 26000     |\n",
      "| train/                |           |\n",
      "|    entropy_loss       | -4.62     |\n",
      "|    explained_variance | -1.19e-07 |\n",
      "|    learning_rate      | 0.0007    |\n",
      "|    n_updates          | 5199      |\n",
      "|    policy_loss        | 0.0698    |\n",
      "|    reward             | 0.0       |\n",
      "|    std                | 24.6      |\n",
      "|    value_loss         | 0.000318  |\n",
      "-------------------------------------\n",
      "------------------------------------\n",
      "| time/                 |          |\n",
      "|    fps                | 501      |\n",
      "|    iterations         | 5300     |\n",
      "|    time_elapsed       | 52       |\n",
      "|    total_timesteps    | 26500    |\n",
      "| train/                |          |\n",
      "|    entropy_loss       | -4.65    |\n",
      "|    explained_variance | 0        |\n",
      "|    learning_rate      | 0.0007   |\n",
      "|    n_updates          | 5299     |\n",
      "|    policy_loss        | 0.00633  |\n",
      "|    reward             | 0.0      |\n",
      "|    std                | 25.4     |\n",
      "|    value_loss         | 2.28e-06 |\n",
      "------------------------------------\n",
      "------------------------------------\n",
      "| time/                 |          |\n",
      "|    fps                | 502      |\n",
      "|    iterations         | 5400     |\n",
      "|    time_elapsed       | 53       |\n",
      "|    total_timesteps    | 27000    |\n",
      "| train/                |          |\n",
      "|    entropy_loss       | -4.7     |\n",
      "|    explained_variance | 0        |\n",
      "|    learning_rate      | 0.0007   |\n",
      "|    n_updates          | 5399     |\n",
      "|    policy_loss        | -0.145   |\n",
      "|    reward             | 0.0      |\n",
      "|    std                | 26.6     |\n",
      "|    value_loss         | 0.00105  |\n",
      "------------------------------------\n",
      "----------------------------------------\n",
      "| time/                 |              |\n",
      "|    fps                | 503          |\n",
      "|    iterations         | 5500         |\n",
      "|    time_elapsed       | 54           |\n",
      "|    total_timesteps    | 27500        |\n",
      "| train/                |              |\n",
      "|    entropy_loss       | -4.76        |\n",
      "|    explained_variance | -1.19e-07    |\n",
      "|    learning_rate      | 0.0007       |\n",
      "|    n_updates          | 5499         |\n",
      "|    policy_loss        | 0.00161      |\n",
      "|    reward             | 0.0015693279 |\n",
      "|    std                | 28.1         |\n",
      "|    value_loss         | 1.58e-07     |\n",
      "----------------------------------------\n",
      "-----------------------------------------\n",
      "| time/                 |               |\n",
      "|    fps                | 501           |\n",
      "|    iterations         | 5600          |\n",
      "|    time_elapsed       | 55            |\n",
      "|    total_timesteps    | 28000         |\n",
      "| train/                |               |\n",
      "|    entropy_loss       | -4.81         |\n",
      "|    explained_variance | 0             |\n",
      "|    learning_rate      | 0.0007        |\n",
      "|    n_updates          | 5599          |\n",
      "|    policy_loss        | 0.0044        |\n",
      "|    reward             | -0.0047806306 |\n",
      "|    std                | 29.7          |\n",
      "|    value_loss         | 1.11e-06      |\n",
      "-----------------------------------------\n",
      "------------------------------------\n",
      "| time/                 |          |\n",
      "|    fps                | 499      |\n",
      "|    iterations         | 5700     |\n",
      "|    time_elapsed       | 57       |\n",
      "|    total_timesteps    | 28500    |\n",
      "| train/                |          |\n",
      "|    entropy_loss       | -4.85    |\n",
      "|    explained_variance | 1.19e-07 |\n",
      "|    learning_rate      | 0.0007   |\n",
      "|    n_updates          | 5699     |\n",
      "|    policy_loss        | 0.011    |\n",
      "|    reward             | 0.0      |\n",
      "|    std                | 30.8     |\n",
      "|    value_loss         | 5.36e-06 |\n",
      "------------------------------------\n",
      "------------------------------------\n",
      "| time/                 |          |\n",
      "|    fps                | 499      |\n",
      "|    iterations         | 5800     |\n",
      "|    time_elapsed       | 58       |\n",
      "|    total_timesteps    | 29000    |\n",
      "| train/                |          |\n",
      "|    entropy_loss       | -4.88    |\n",
      "|    explained_variance | 0        |\n",
      "|    learning_rate      | 0.0007   |\n",
      "|    n_updates          | 5799     |\n",
      "|    policy_loss        | -0.0569  |\n",
      "|    reward             | 0.0      |\n",
      "|    std                | 31.8     |\n",
      "|    value_loss         | 0.000133 |\n",
      "------------------------------------\n",
      "------------------------------------\n",
      "| time/                 |          |\n",
      "|    fps                | 499      |\n",
      "|    iterations         | 5900     |\n",
      "|    time_elapsed       | 59       |\n",
      "|    total_timesteps    | 29500    |\n",
      "| train/                |          |\n",
      "|    entropy_loss       | -4.92    |\n",
      "|    explained_variance | 0        |\n",
      "|    learning_rate      | 0.0007   |\n",
      "|    n_updates          | 5899     |\n",
      "|    policy_loss        | 0.00584  |\n",
      "|    reward             | 0.0      |\n",
      "|    std                | 33.3     |\n",
      "|    value_loss         | 1.87e-06 |\n",
      "------------------------------------\n",
      "------------------------------------\n",
      "| time/                 |          |\n",
      "|    fps                | 500      |\n",
      "|    iterations         | 6000     |\n",
      "|    time_elapsed       | 59       |\n",
      "|    total_timesteps    | 30000    |\n",
      "| train/                |          |\n",
      "|    entropy_loss       | -4.97    |\n",
      "|    explained_variance | 0        |\n",
      "|    learning_rate      | 0.0007   |\n",
      "|    n_updates          | 5999     |\n",
      "|    policy_loss        | 0.0154   |\n",
      "|    reward             | 0.0      |\n",
      "|    std                | 35       |\n",
      "|    value_loss         | 1.3e-05  |\n",
      "------------------------------------\n",
      "------------------------------------\n",
      "| time/                 |          |\n",
      "|    fps                | 501      |\n",
      "|    iterations         | 6100     |\n",
      "|    time_elapsed       | 60       |\n",
      "|    total_timesteps    | 30500    |\n",
      "| train/                |          |\n",
      "|    entropy_loss       | -5.03    |\n",
      "|    explained_variance | 0        |\n",
      "|    learning_rate      | 0.0007   |\n",
      "|    n_updates          | 6099     |\n",
      "|    policy_loss        | 0.00654  |\n",
      "|    reward             | 0.0      |\n",
      "|    std                | 37       |\n",
      "|    value_loss         | 2.15e-06 |\n",
      "------------------------------------\n",
      "-------------------------------------\n",
      "| time/                 |           |\n",
      "|    fps                | 503       |\n",
      "|    iterations         | 6200      |\n",
      "|    time_elapsed       | 61        |\n",
      "|    total_timesteps    | 31000     |\n",
      "| train/                |           |\n",
      "|    entropy_loss       | -5.08     |\n",
      "|    explained_variance | -1.19e-07 |\n",
      "|    learning_rate      | 0.0007    |\n",
      "|    n_updates          | 6199      |\n",
      "|    policy_loss        | 0.0207    |\n",
      "|    reward             | 0.0       |\n",
      "|    std                | 38.9      |\n",
      "|    value_loss         | 2.28e-05  |\n",
      "-------------------------------------\n",
      "------------------------------------\n",
      "| time/                 |          |\n",
      "|    fps                | 503      |\n",
      "|    iterations         | 6300     |\n",
      "|    time_elapsed       | 62       |\n",
      "|    total_timesteps    | 31500    |\n",
      "| train/                |          |\n",
      "|    entropy_loss       | -5.13    |\n",
      "|    explained_variance | 0        |\n",
      "|    learning_rate      | 0.0007   |\n",
      "|    n_updates          | 6299     |\n",
      "|    policy_loss        | 0.0361   |\n",
      "|    reward             | 0.0      |\n",
      "|    std                | 40.8     |\n",
      "|    value_loss         | 6.01e-05 |\n",
      "------------------------------------\n",
      "---------------------------------------\n",
      "| time/                 |             |\n",
      "|    fps                | 505         |\n",
      "|    iterations         | 6400        |\n",
      "|    time_elapsed       | 63          |\n",
      "|    total_timesteps    | 32000       |\n",
      "| train/                |             |\n",
      "|    entropy_loss       | -5.17       |\n",
      "|    explained_variance | 0           |\n",
      "|    learning_rate      | 0.0007      |\n",
      "|    n_updates          | 6399        |\n",
      "|    policy_loss        | 0.00916     |\n",
      "|    reward             | 0.008342083 |\n",
      "|    std                | 42.7        |\n",
      "|    value_loss         | 4.43e-06    |\n",
      "---------------------------------------\n",
      "-------------------------------------\n",
      "| time/                 |           |\n",
      "|    fps                | 506       |\n",
      "|    iterations         | 6500      |\n",
      "|    time_elapsed       | 64        |\n",
      "|    total_timesteps    | 32500     |\n",
      "| train/                |           |\n",
      "|    entropy_loss       | -5.23     |\n",
      "|    explained_variance | -1.19e-07 |\n",
      "|    learning_rate      | 0.0007    |\n",
      "|    n_updates          | 6499      |\n",
      "|    policy_loss        | 0.0108    |\n",
      "|    reward             | 0.0       |\n",
      "|    std                | 45.4      |\n",
      "|    value_loss         | 5.94e-06  |\n",
      "-------------------------------------\n",
      "------------------------------------\n",
      "| time/                 |          |\n",
      "|    fps                | 508      |\n",
      "|    iterations         | 6600     |\n",
      "|    time_elapsed       | 64       |\n",
      "|    total_timesteps    | 33000    |\n",
      "| train/                |          |\n",
      "|    entropy_loss       | -5.29    |\n",
      "|    explained_variance | 0        |\n",
      "|    learning_rate      | 0.0007   |\n",
      "|    n_updates          | 6599     |\n",
      "|    policy_loss        | 0.0339   |\n",
      "|    reward             | 0.0      |\n",
      "|    std                | 48.2     |\n",
      "|    value_loss         | 6.17e-05 |\n",
      "------------------------------------\n",
      "----------------------------------------\n",
      "| time/                 |              |\n",
      "|    fps                | 509          |\n",
      "|    iterations         | 6700         |\n",
      "|    time_elapsed       | 65           |\n",
      "|    total_timesteps    | 33500        |\n",
      "| train/                |              |\n",
      "|    entropy_loss       | -5.36        |\n",
      "|    explained_variance | 0            |\n",
      "|    learning_rate      | 0.0007       |\n",
      "|    n_updates          | 6699         |\n",
      "|    policy_loss        | 0.0268       |\n",
      "|    reward             | -0.016882978 |\n",
      "|    std                | 51.4         |\n",
      "|    value_loss         | 3.13e-05     |\n",
      "----------------------------------------\n",
      "----------------------------------------\n",
      "| time/                 |              |\n",
      "|    fps                | 511          |\n",
      "|    iterations         | 6800         |\n",
      "|    time_elapsed       | 66           |\n",
      "|    total_timesteps    | 34000        |\n",
      "| train/                |              |\n",
      "|    entropy_loss       | -5.42        |\n",
      "|    explained_variance | 0            |\n",
      "|    learning_rate      | 0.0007       |\n",
      "|    n_updates          | 6799         |\n",
      "|    policy_loss        | 0.0188       |\n",
      "|    reward             | 0.0038451669 |\n",
      "|    std                | 54.5         |\n",
      "|    value_loss         | 1.76e-05     |\n",
      "----------------------------------------\n",
      "------------------------------------\n",
      "| time/                 |          |\n",
      "|    fps                | 512      |\n",
      "|    iterations         | 6900     |\n",
      "|    time_elapsed       | 67       |\n",
      "|    total_timesteps    | 34500    |\n",
      "| train/                |          |\n",
      "|    entropy_loss       | -5.45    |\n",
      "|    explained_variance | 0        |\n",
      "|    learning_rate      | 0.0007   |\n",
      "|    n_updates          | 6899     |\n",
      "|    policy_loss        | 0.0482   |\n",
      "|    reward             | 0.0      |\n",
      "|    std                | 56.4     |\n",
      "|    value_loss         | 0.000144 |\n",
      "------------------------------------\n",
      "------------------------------------\n",
      "| time/                 |          |\n",
      "|    fps                | 512      |\n",
      "|    iterations         | 7000     |\n",
      "|    time_elapsed       | 68       |\n",
      "|    total_timesteps    | 35000    |\n",
      "| train/                |          |\n",
      "|    entropy_loss       | -5.47    |\n",
      "|    explained_variance | 5.96e-08 |\n",
      "|    learning_rate      | 0.0007   |\n",
      "|    n_updates          | 6999     |\n",
      "|    policy_loss        | -0.00728 |\n",
      "|    reward             | 0.0      |\n",
      "|    std                | 57.7     |\n",
      "|    value_loss         | 1.21e-05 |\n",
      "------------------------------------\n",
      "----------------------------------------\n",
      "| time/                 |              |\n",
      "|    fps                | 511          |\n",
      "|    iterations         | 7100         |\n",
      "|    time_elapsed       | 69           |\n",
      "|    total_timesteps    | 35500        |\n",
      "| train/                |              |\n",
      "|    entropy_loss       | -5.52        |\n",
      "|    explained_variance | 0            |\n",
      "|    learning_rate      | 0.0007       |\n",
      "|    n_updates          | 7099         |\n",
      "|    policy_loss        | -0.0663      |\n",
      "|    reward             | -0.001011657 |\n",
      "|    std                | 60.3         |\n",
      "|    value_loss         | 0.000166     |\n",
      "----------------------------------------\n",
      "----------------------------------------\n",
      "| time/                 |              |\n",
      "|    fps                | 512          |\n",
      "|    iterations         | 7200         |\n",
      "|    time_elapsed       | 70           |\n",
      "|    total_timesteps    | 36000        |\n",
      "| train/                |              |\n",
      "|    entropy_loss       | -5.57        |\n",
      "|    explained_variance | 0            |\n",
      "|    learning_rate      | 0.0007       |\n",
      "|    n_updates          | 7199         |\n",
      "|    policy_loss        | 0.011        |\n",
      "|    reward             | -0.003765573 |\n",
      "|    std                | 63.6         |\n",
      "|    value_loss         | 7.19e-06     |\n",
      "----------------------------------------\n",
      "---------------------------------------\n",
      "| time/                 |             |\n",
      "|    fps                | 513         |\n",
      "|    iterations         | 7300        |\n",
      "|    time_elapsed       | 71          |\n",
      "|    total_timesteps    | 36500       |\n",
      "| train/                |             |\n",
      "|    entropy_loss       | -5.63       |\n",
      "|    explained_variance | 0           |\n",
      "|    learning_rate      | 0.0007      |\n",
      "|    n_updates          | 7299        |\n",
      "|    policy_loss        | -0.0216     |\n",
      "|    reward             | -0.01190882 |\n",
      "|    std                | 67.2        |\n",
      "|    value_loss         | 1.88e-05    |\n",
      "---------------------------------------\n",
      "------------------------------------\n",
      "| time/                 |          |\n",
      "|    fps                | 514      |\n",
      "|    iterations         | 7400     |\n",
      "|    time_elapsed       | 71       |\n",
      "|    total_timesteps    | 37000    |\n",
      "| train/                |          |\n",
      "|    entropy_loss       | -5.67    |\n",
      "|    explained_variance | 1.19e-07 |\n",
      "|    learning_rate      | 0.0007   |\n",
      "|    n_updates          | 7399     |\n",
      "|    policy_loss        | -0.0111  |\n",
      "|    reward             | 0.0      |\n",
      "|    std                | 70.5     |\n",
      "|    value_loss         | 3.35e-05 |\n",
      "------------------------------------\n",
      "----------------------------------------\n",
      "| time/                 |              |\n",
      "|    fps                | 515          |\n",
      "|    iterations         | 7500         |\n",
      "|    time_elapsed       | 72           |\n",
      "|    total_timesteps    | 37500        |\n",
      "| train/                |              |\n",
      "|    entropy_loss       | -5.71        |\n",
      "|    explained_variance | 5.96e-08     |\n",
      "|    learning_rate      | 0.0007       |\n",
      "|    n_updates          | 7499         |\n",
      "|    policy_loss        | 0.0969       |\n",
      "|    reward             | -0.009853556 |\n",
      "|    std                | 73           |\n",
      "|    value_loss         | 0.000234     |\n",
      "----------------------------------------\n",
      "------------------------------------\n",
      "| time/                 |          |\n",
      "|    fps                | 515      |\n",
      "|    iterations         | 7600     |\n",
      "|    time_elapsed       | 73       |\n",
      "|    total_timesteps    | 38000    |\n",
      "| train/                |          |\n",
      "|    entropy_loss       | -5.75    |\n",
      "|    explained_variance | 0        |\n",
      "|    learning_rate      | 0.0007   |\n",
      "|    n_updates          | 7599     |\n",
      "|    policy_loss        | 0.0124   |\n",
      "|    reward             | 0.0      |\n",
      "|    std                | 75.9     |\n",
      "|    value_loss         | 9.11e-06 |\n",
      "------------------------------------\n",
      "------------------------------------\n",
      "| time/                 |          |\n",
      "|    fps                | 517      |\n",
      "|    iterations         | 7700     |\n",
      "|    time_elapsed       | 74       |\n",
      "|    total_timesteps    | 38500    |\n",
      "| train/                |          |\n",
      "|    entropy_loss       | -5.79    |\n",
      "|    explained_variance | 0        |\n",
      "|    learning_rate      | 0.0007   |\n",
      "|    n_updates          | 7699     |\n",
      "|    policy_loss        | 0.0383   |\n",
      "|    reward             | 0.0      |\n",
      "|    std                | 79.4     |\n",
      "|    value_loss         | 5.01e-05 |\n",
      "------------------------------------\n",
      "-------------------------------------\n",
      "| time/                 |           |\n",
      "|    fps                | 517       |\n",
      "|    iterations         | 7800      |\n",
      "|    time_elapsed       | 75        |\n",
      "|    total_timesteps    | 39000     |\n",
      "| train/                |           |\n",
      "|    entropy_loss       | -5.85     |\n",
      "|    explained_variance | -1.19e-07 |\n",
      "|    learning_rate      | 0.0007    |\n",
      "|    n_updates          | 7799      |\n",
      "|    policy_loss        | 0.018     |\n",
      "|    reward             | 0.0       |\n",
      "|    std                | 84        |\n",
      "|    value_loss         | 1.08e-05  |\n",
      "-------------------------------------\n",
      "------------------------------------\n",
      "| time/                 |          |\n",
      "|    fps                | 518      |\n",
      "|    iterations         | 7900     |\n",
      "|    time_elapsed       | 76       |\n",
      "|    total_timesteps    | 39500    |\n",
      "| train/                |          |\n",
      "|    entropy_loss       | -5.9     |\n",
      "|    explained_variance | 0        |\n",
      "|    learning_rate      | 0.0007   |\n",
      "|    n_updates          | 7899     |\n",
      "|    policy_loss        | 0.0461   |\n",
      "|    reward             | 0.0      |\n",
      "|    std                | 88.5     |\n",
      "|    value_loss         | 8.06e-05 |\n",
      "------------------------------------\n",
      "----------------------------------------\n",
      "| time/                 |              |\n",
      "|    fps                | 518          |\n",
      "|    iterations         | 8000         |\n",
      "|    time_elapsed       | 77           |\n",
      "|    total_timesteps    | 40000        |\n",
      "| train/                |              |\n",
      "|    entropy_loss       | -5.94        |\n",
      "|    explained_variance | 0            |\n",
      "|    learning_rate      | 0.0007       |\n",
      "|    n_updates          | 7999         |\n",
      "|    policy_loss        | 0.0433       |\n",
      "|    reward             | -0.021093369 |\n",
      "|    std                | 91.8         |\n",
      "|    value_loss         | 7.36e-05     |\n",
      "----------------------------------------\n",
      "----------------------------------------\n",
      "| time/                 |              |\n",
      "|    fps                | 518          |\n",
      "|    iterations         | 8100         |\n",
      "|    time_elapsed       | 78           |\n",
      "|    total_timesteps    | 40500        |\n",
      "| train/                |              |\n",
      "|    entropy_loss       | -5.97        |\n",
      "|    explained_variance | 1.19e-07     |\n",
      "|    learning_rate      | 0.0007       |\n",
      "|    n_updates          | 8099         |\n",
      "|    policy_loss        | 0.0282       |\n",
      "|    reward             | -0.008492918 |\n",
      "|    std                | 94.5         |\n",
      "|    value_loss         | 2.49e-05     |\n",
      "----------------------------------------\n",
      "-----------------------------------------\n",
      "| time/                 |               |\n",
      "|    fps                | 519           |\n",
      "|    iterations         | 8200          |\n",
      "|    time_elapsed       | 78            |\n",
      "|    total_timesteps    | 41000         |\n",
      "| train/                |               |\n",
      "|    entropy_loss       | -5.99         |\n",
      "|    explained_variance | -1.19e-07     |\n",
      "|    learning_rate      | 0.0007        |\n",
      "|    n_updates          | 8199          |\n",
      "|    policy_loss        | -0.00206      |\n",
      "|    reward             | -0.0034683957 |\n",
      "|    std                | 96.8          |\n",
      "|    value_loss         | 5.46e-06      |\n",
      "-----------------------------------------\n",
      "------------------------------------\n",
      "| time/                 |          |\n",
      "|    fps                | 519      |\n",
      "|    iterations         | 8300     |\n",
      "|    time_elapsed       | 79       |\n",
      "|    total_timesteps    | 41500    |\n",
      "| train/                |          |\n",
      "|    entropy_loss       | -6.03    |\n",
      "|    explained_variance | 0        |\n",
      "|    learning_rate      | 0.0007   |\n",
      "|    n_updates          | 8299     |\n",
      "|    policy_loss        | 0.051    |\n",
      "|    reward             | 0.0      |\n",
      "|    std                | 100      |\n",
      "|    value_loss         | 8.68e-05 |\n",
      "------------------------------------\n",
      "------------------------------------\n",
      "| time/                 |          |\n",
      "|    fps                | 520      |\n",
      "|    iterations         | 8400     |\n",
      "|    time_elapsed       | 80       |\n",
      "|    total_timesteps    | 42000    |\n",
      "| train/                |          |\n",
      "|    entropy_loss       | -6.07    |\n",
      "|    explained_variance | 2.38e-07 |\n",
      "|    learning_rate      | 0.0007   |\n",
      "|    n_updates          | 8399     |\n",
      "|    policy_loss        | 0.0352   |\n",
      "|    reward             | 0.0      |\n",
      "|    std                | 105      |\n",
      "|    value_loss         | 4.49e-05 |\n",
      "------------------------------------\n",
      "------------------------------------------\n",
      "| time/                 |                |\n",
      "|    fps                | 521            |\n",
      "|    iterations         | 8500           |\n",
      "|    time_elapsed       | 81             |\n",
      "|    total_timesteps    | 42500          |\n",
      "| train/                |                |\n",
      "|    entropy_loss       | -6.12          |\n",
      "|    explained_variance | 0              |\n",
      "|    learning_rate      | 0.0007         |\n",
      "|    n_updates          | 8499           |\n",
      "|    policy_loss        | -0.191         |\n",
      "|    reward             | -0.00060289114 |\n",
      "|    std                | 110            |\n",
      "|    value_loss         | 0.00121        |\n",
      "------------------------------------------\n",
      "----------------------------------------\n",
      "| time/                 |              |\n",
      "|    fps                | 521          |\n",
      "|    iterations         | 8600         |\n",
      "|    time_elapsed       | 82           |\n",
      "|    total_timesteps    | 43000        |\n",
      "| train/                |              |\n",
      "|    entropy_loss       | -6.17        |\n",
      "|    explained_variance | -1.19e-07    |\n",
      "|    learning_rate      | 0.0007       |\n",
      "|    n_updates          | 8599         |\n",
      "|    policy_loss        | -0.0239      |\n",
      "|    reward             | -0.011449646 |\n",
      "|    std                | 115          |\n",
      "|    value_loss         | 4.37e-05     |\n",
      "----------------------------------------\n",
      "----------------------------------------\n",
      "| time/                 |              |\n",
      "|    fps                | 521          |\n",
      "|    iterations         | 8700         |\n",
      "|    time_elapsed       | 83           |\n",
      "|    total_timesteps    | 43500        |\n",
      "| train/                |              |\n",
      "|    entropy_loss       | -6.19        |\n",
      "|    explained_variance | 0            |\n",
      "|    learning_rate      | 0.0007       |\n",
      "|    n_updates          | 8699         |\n",
      "|    policy_loss        | 0.0423       |\n",
      "|    reward             | -0.005460448 |\n",
      "|    std                | 119          |\n",
      "|    value_loss         | 9.62e-05     |\n",
      "----------------------------------------\n",
      "----------------------------------------\n",
      "| time/                 |              |\n",
      "|    fps                | 522          |\n",
      "|    iterations         | 8800         |\n",
      "|    time_elapsed       | 84           |\n",
      "|    total_timesteps    | 44000        |\n",
      "| train/                |              |\n",
      "|    entropy_loss       | -6.23        |\n",
      "|    explained_variance | 0            |\n",
      "|    learning_rate      | 0.0007       |\n",
      "|    n_updates          | 8799         |\n",
      "|    policy_loss        | 0.0761       |\n",
      "|    reward             | -0.005875977 |\n",
      "|    std                | 124          |\n",
      "|    value_loss         | 0.000158     |\n",
      "----------------------------------------\n",
      "----------------------------------------\n",
      "| time/                 |              |\n",
      "|    fps                | 523          |\n",
      "|    iterations         | 8900         |\n",
      "|    time_elapsed       | 85           |\n",
      "|    total_timesteps    | 44500        |\n",
      "| train/                |              |\n",
      "|    entropy_loss       | -6.27        |\n",
      "|    explained_variance | 0            |\n",
      "|    learning_rate      | 0.0007       |\n",
      "|    n_updates          | 8899         |\n",
      "|    policy_loss        | 0.0445       |\n",
      "|    reward             | -0.015215144 |\n",
      "|    std                | 128          |\n",
      "|    value_loss         | 6.6e-05      |\n",
      "----------------------------------------\n",
      "----------------------------------------\n",
      "| time/                 |              |\n",
      "|    fps                | 523          |\n",
      "|    iterations         | 9000         |\n",
      "|    time_elapsed       | 85           |\n",
      "|    total_timesteps    | 45000        |\n",
      "| train/                |              |\n",
      "|    entropy_loss       | -6.32        |\n",
      "|    explained_variance | 0            |\n",
      "|    learning_rate      | 0.0007       |\n",
      "|    n_updates          | 8999         |\n",
      "|    policy_loss        | -0.0159      |\n",
      "|    reward             | -0.004124286 |\n",
      "|    std                | 135          |\n",
      "|    value_loss         | 3.08e-05     |\n",
      "----------------------------------------\n",
      "----------------------------------------\n",
      "| time/                 |              |\n",
      "|    fps                | 524          |\n",
      "|    iterations         | 9100         |\n",
      "|    time_elapsed       | 86           |\n",
      "|    total_timesteps    | 45500        |\n",
      "| train/                |              |\n",
      "|    entropy_loss       | -6.39        |\n",
      "|    explained_variance | 0            |\n",
      "|    learning_rate      | 0.0007       |\n",
      "|    n_updates          | 9099         |\n",
      "|    policy_loss        | 0.0187       |\n",
      "|    reward             | 0.0016858818 |\n",
      "|    std                | 144          |\n",
      "|    value_loss         | 6.45e-05     |\n",
      "----------------------------------------\n",
      "---------------------------------------\n",
      "| time/                 |             |\n",
      "|    fps                | 524         |\n",
      "|    iterations         | 9200        |\n",
      "|    time_elapsed       | 87          |\n",
      "|    total_timesteps    | 46000       |\n",
      "| train/                |             |\n",
      "|    entropy_loss       | -6.42       |\n",
      "|    explained_variance | 0           |\n",
      "|    learning_rate      | 0.0007      |\n",
      "|    n_updates          | 9199        |\n",
      "|    policy_loss        | 0.171       |\n",
      "|    reward             | 0.053092714 |\n",
      "|    std                | 148         |\n",
      "|    value_loss         | 0.00469     |\n",
      "---------------------------------------\n",
      "------------------------------------\n",
      "| time/                 |          |\n",
      "|    fps                | 524      |\n",
      "|    iterations         | 9300     |\n",
      "|    time_elapsed       | 88       |\n",
      "|    total_timesteps    | 46500    |\n",
      "| train/                |          |\n",
      "|    entropy_loss       | -6.45    |\n",
      "|    explained_variance | 0        |\n",
      "|    learning_rate      | 0.0007   |\n",
      "|    n_updates          | 9299     |\n",
      "|    policy_loss        | 0.0164   |\n",
      "|    reward             | 0.0      |\n",
      "|    std                | 153      |\n",
      "|    value_loss         | 2.31e-05 |\n",
      "------------------------------------\n",
      "-----------------------------------------\n",
      "| time/                 |               |\n",
      "|    fps                | 525           |\n",
      "|    iterations         | 9400          |\n",
      "|    time_elapsed       | 89            |\n",
      "|    total_timesteps    | 47000         |\n",
      "| train/                |               |\n",
      "|    entropy_loss       | -6.49         |\n",
      "|    explained_variance | -1.19e-07     |\n",
      "|    learning_rate      | 0.0007        |\n",
      "|    n_updates          | 9399          |\n",
      "|    policy_loss        | -0.0283       |\n",
      "|    reward             | -0.0066358624 |\n",
      "|    std                | 159           |\n",
      "|    value_loss         | 0.000131      |\n",
      "-----------------------------------------\n",
      "------------------------------------\n",
      "| time/                 |          |\n",
      "|    fps                | 526      |\n",
      "|    iterations         | 9500     |\n",
      "|    time_elapsed       | 90       |\n",
      "|    total_timesteps    | 47500    |\n",
      "| train/                |          |\n",
      "|    entropy_loss       | -6.54    |\n",
      "|    explained_variance | 0        |\n",
      "|    learning_rate      | 0.0007   |\n",
      "|    n_updates          | 9499     |\n",
      "|    policy_loss        | 0.0429   |\n",
      "|    reward             | 0.0      |\n",
      "|    std                | 168      |\n",
      "|    value_loss         | 4.73e-05 |\n",
      "------------------------------------\n",
      "----------------------------------------\n",
      "| time/                 |              |\n",
      "|    fps                | 527          |\n",
      "|    iterations         | 9600         |\n",
      "|    time_elapsed       | 91           |\n",
      "|    total_timesteps    | 48000        |\n",
      "| train/                |              |\n",
      "|    entropy_loss       | -6.59        |\n",
      "|    explained_variance | -1.19e-07    |\n",
      "|    learning_rate      | 0.0007       |\n",
      "|    n_updates          | 9599         |\n",
      "|    policy_loss        | 0.0182       |\n",
      "|    reward             | -0.015166359 |\n",
      "|    std                | 177          |\n",
      "|    value_loss         | 1.05e-05     |\n",
      "----------------------------------------\n",
      "---------------------------------------\n",
      "| time/                 |             |\n",
      "|    fps                | 527         |\n",
      "|    iterations         | 9700        |\n",
      "|    time_elapsed       | 91          |\n",
      "|    total_timesteps    | 48500       |\n",
      "| train/                |             |\n",
      "|    entropy_loss       | -6.64       |\n",
      "|    explained_variance | 5.96e-08    |\n",
      "|    learning_rate      | 0.0007      |\n",
      "|    n_updates          | 9699        |\n",
      "|    policy_loss        | 0.0714      |\n",
      "|    reward             | -0.01048201 |\n",
      "|    std                | 185         |\n",
      "|    value_loss         | 0.000124    |\n",
      "---------------------------------------\n",
      "----------------------------------------\n",
      "| time/                 |              |\n",
      "|    fps                | 528          |\n",
      "|    iterations         | 9800         |\n",
      "|    time_elapsed       | 92           |\n",
      "|    total_timesteps    | 49000        |\n",
      "| train/                |              |\n",
      "|    entropy_loss       | -6.66        |\n",
      "|    explained_variance | -1.19e-07    |\n",
      "|    learning_rate      | 0.0007       |\n",
      "|    n_updates          | 9799         |\n",
      "|    policy_loss        | -0.0699      |\n",
      "|    reward             | -0.035214238 |\n",
      "|    std                | 189          |\n",
      "|    value_loss         | 0.000297     |\n",
      "----------------------------------------\n",
      "-----------------------------------------\n",
      "| time/                 |               |\n",
      "|    fps                | 529           |\n",
      "|    iterations         | 9900          |\n",
      "|    time_elapsed       | 93            |\n",
      "|    total_timesteps    | 49500         |\n",
      "| train/                |               |\n",
      "|    entropy_loss       | -6.69         |\n",
      "|    explained_variance | 1.19e-07      |\n",
      "|    learning_rate      | 0.0007        |\n",
      "|    n_updates          | 9899          |\n",
      "|    policy_loss        | -0.0181       |\n",
      "|    reward             | -0.0034456304 |\n",
      "|    std                | 194           |\n",
      "|    value_loss         | 1.62e-05      |\n",
      "-----------------------------------------\n",
      "---------------------------------------\n",
      "| time/                 |             |\n",
      "|    fps                | 531         |\n",
      "|    iterations         | 10000       |\n",
      "|    time_elapsed       | 94          |\n",
      "|    total_timesteps    | 50000       |\n",
      "| train/                |             |\n",
      "|    entropy_loss       | -6.73       |\n",
      "|    explained_variance | 5.96e-08    |\n",
      "|    learning_rate      | 0.0007      |\n",
      "|    n_updates          | 9999        |\n",
      "|    policy_loss        | -0.0601     |\n",
      "|    reward             | 0.011781338 |\n",
      "|    std                | 202         |\n",
      "|    value_loss         | 0.000183    |\n",
      "---------------------------------------\n"
     ]
    }
   ],
   "source": [
    "#Now train with not tuned hyperaparameters\n",
    "#Default config.ddpg_PARAMS\n",
    "\n",
    "total_timesteps=50000\n",
    "non_tuned_model_a2c = agent.get_model(\"a2c\",model_kwargs = config.A2C_PARAMS )\n",
    "trained_a2c = agent.train_model(model=non_tuned_model_a2c, \n",
    "                             tb_log_name='a2c',\n",
    "                             total_timesteps=total_timesteps)\n"
   ]
  },
  {
   "cell_type": "code",
   "execution_count": 222,
   "metadata": {},
   "outputs": [
    {
     "name": "stdout",
     "output_type": "stream",
     "text": [
      "hit end!\n"
     ]
    }
   ],
   "source": [
    "df_account_value, df_actions = DRLAgent.DRL_prediction(\n",
    "    model=trained_a2c, \n",
    "    environment = e_train_gym)"
   ]
  },
  {
   "cell_type": "code",
   "execution_count": 223,
   "metadata": {},
   "outputs": [
    {
     "name": "stdout",
     "output_type": "stream",
     "text": [
      "==============Get Backtest Results===========\n",
      "============Default Hyperparameters==========\n",
      "Annual return          0.0\n",
      "Cumulative returns     0.0\n",
      "Annual volatility      0.0\n",
      "Sharpe ratio           NaN\n",
      "Calmar ratio           NaN\n",
      "Stability              0.0\n",
      "Max drawdown           0.0\n",
      "Omega ratio            NaN\n",
      "Sortino ratio          NaN\n",
      "Skew                   NaN\n",
      "Kurtosis               NaN\n",
      "Tail ratio             NaN\n",
      "Daily value at risk    0.0\n",
      "dtype: float64\n",
      "Number of tickers: 1\n",
      "Tickers: ['MCD']\n",
      "Calculating profit/loss for each ticker\n",
      "Ratio Avg Win/Avg Loss: 25\n"
     ]
    }
   ],
   "source": [
    "#Backtesting for not tuned hyperparamters\n",
    "print(\"==============Get Backtest Results===========\")\n",
    "print(\"============Default Hyperparameters==========\")\n",
    "now = datetime.datetime.now().strftime('%Y%m%d-%Hh%M')\n",
    "\n",
    "perf_stats_all = backtest_stats(account_value=df_account_value)\n",
    "perf_stats_all = pd.DataFrame(perf_stats_all)\n",
    "perf_stats_all.columns = ['Value']\n",
    "# add trade performance metric\n",
    "perf_stats_all = add_trade_perf_metric(df_actions,\n",
    "                        perf_stats_all,\n",
    "                        train,\n",
    "                        tp_metric)"
   ]
  },
  {
   "cell_type": "code",
   "execution_count": 224,
   "metadata": {},
   "outputs": [
    {
     "data": {
      "application/vnd.plotly.v1+json": {
       "config": {
        "plotlyServerURL": "https://plot.ly"
       },
       "data": [
        {
         "mode": "markers",
         "name": "Objective Value",
         "type": "scatter",
         "x": [
          0,
          1,
          2,
          3,
          4,
          5,
          6,
          7,
          8,
          9,
          10,
          11,
          12,
          13,
          14,
          15,
          16,
          17,
          18,
          19,
          20,
          21,
          22,
          23,
          24,
          25,
          26,
          27,
          28,
          29
         ],
         "y": [
          0,
          0,
          0,
          0,
          0,
          0,
          0.5106567150981924,
          0,
          0,
          0,
          0,
          0.5944655467681905,
          0.36527776249608274,
          0.469055413865261,
          0.40168724320617993,
          0,
          0,
          0.5525052132919629,
          0.707394623225894,
          0,
          0,
          0.43217480439067263,
          0.5958544073061428,
          0,
          0.7868820857909196,
          0,
          0,
          0,
          0,
          0.7376920901063914
         ]
        },
        {
         "name": "Best Value",
         "type": "scatter",
         "x": [
          0,
          1,
          2,
          3,
          4,
          5,
          6,
          7,
          8,
          9,
          10,
          11,
          12,
          13,
          14,
          15,
          16,
          17,
          18,
          19,
          20,
          21,
          22,
          23,
          24,
          25,
          26,
          27,
          28,
          29
         ],
         "y": [
          0,
          0,
          0,
          0,
          0,
          0,
          0.5106567150981924,
          0.5106567150981924,
          0.5106567150981924,
          0.5106567150981924,
          0.5106567150981924,
          0.5944655467681905,
          0.5944655467681905,
          0.5944655467681905,
          0.5944655467681905,
          0.5944655467681905,
          0.5944655467681905,
          0.5944655467681905,
          0.707394623225894,
          0.707394623225894,
          0.707394623225894,
          0.707394623225894,
          0.707394623225894,
          0.707394623225894,
          0.7868820857909196,
          0.7868820857909196,
          0.7868820857909196,
          0.7868820857909196,
          0.7868820857909196,
          0.7868820857909196
         ]
        }
       ],
       "layout": {
        "autosize": true,
        "template": {
         "data": {
          "bar": [
           {
            "error_x": {
             "color": "#2a3f5f"
            },
            "error_y": {
             "color": "#2a3f5f"
            },
            "marker": {
             "line": {
              "color": "#E5ECF6",
              "width": 0.5
             },
             "pattern": {
              "fillmode": "overlay",
              "size": 10,
              "solidity": 0.2
             }
            },
            "type": "bar"
           }
          ],
          "barpolar": [
           {
            "marker": {
             "line": {
              "color": "#E5ECF6",
              "width": 0.5
             },
             "pattern": {
              "fillmode": "overlay",
              "size": 10,
              "solidity": 0.2
             }
            },
            "type": "barpolar"
           }
          ],
          "carpet": [
           {
            "aaxis": {
             "endlinecolor": "#2a3f5f",
             "gridcolor": "white",
             "linecolor": "white",
             "minorgridcolor": "white",
             "startlinecolor": "#2a3f5f"
            },
            "baxis": {
             "endlinecolor": "#2a3f5f",
             "gridcolor": "white",
             "linecolor": "white",
             "minorgridcolor": "white",
             "startlinecolor": "#2a3f5f"
            },
            "type": "carpet"
           }
          ],
          "choropleth": [
           {
            "colorbar": {
             "outlinewidth": 0,
             "ticks": ""
            },
            "type": "choropleth"
           }
          ],
          "contour": [
           {
            "colorbar": {
             "outlinewidth": 0,
             "ticks": ""
            },
            "colorscale": [
             [
              0,
              "#0d0887"
             ],
             [
              0.1111111111111111,
              "#46039f"
             ],
             [
              0.2222222222222222,
              "#7201a8"
             ],
             [
              0.3333333333333333,
              "#9c179e"
             ],
             [
              0.4444444444444444,
              "#bd3786"
             ],
             [
              0.5555555555555556,
              "#d8576b"
             ],
             [
              0.6666666666666666,
              "#ed7953"
             ],
             [
              0.7777777777777778,
              "#fb9f3a"
             ],
             [
              0.8888888888888888,
              "#fdca26"
             ],
             [
              1,
              "#f0f921"
             ]
            ],
            "type": "contour"
           }
          ],
          "contourcarpet": [
           {
            "colorbar": {
             "outlinewidth": 0,
             "ticks": ""
            },
            "type": "contourcarpet"
           }
          ],
          "heatmap": [
           {
            "colorbar": {
             "outlinewidth": 0,
             "ticks": ""
            },
            "colorscale": [
             [
              0,
              "#0d0887"
             ],
             [
              0.1111111111111111,
              "#46039f"
             ],
             [
              0.2222222222222222,
              "#7201a8"
             ],
             [
              0.3333333333333333,
              "#9c179e"
             ],
             [
              0.4444444444444444,
              "#bd3786"
             ],
             [
              0.5555555555555556,
              "#d8576b"
             ],
             [
              0.6666666666666666,
              "#ed7953"
             ],
             [
              0.7777777777777778,
              "#fb9f3a"
             ],
             [
              0.8888888888888888,
              "#fdca26"
             ],
             [
              1,
              "#f0f921"
             ]
            ],
            "type": "heatmap"
           }
          ],
          "heatmapgl": [
           {
            "colorbar": {
             "outlinewidth": 0,
             "ticks": ""
            },
            "colorscale": [
             [
              0,
              "#0d0887"
             ],
             [
              0.1111111111111111,
              "#46039f"
             ],
             [
              0.2222222222222222,
              "#7201a8"
             ],
             [
              0.3333333333333333,
              "#9c179e"
             ],
             [
              0.4444444444444444,
              "#bd3786"
             ],
             [
              0.5555555555555556,
              "#d8576b"
             ],
             [
              0.6666666666666666,
              "#ed7953"
             ],
             [
              0.7777777777777778,
              "#fb9f3a"
             ],
             [
              0.8888888888888888,
              "#fdca26"
             ],
             [
              1,
              "#f0f921"
             ]
            ],
            "type": "heatmapgl"
           }
          ],
          "histogram": [
           {
            "marker": {
             "pattern": {
              "fillmode": "overlay",
              "size": 10,
              "solidity": 0.2
             }
            },
            "type": "histogram"
           }
          ],
          "histogram2d": [
           {
            "colorbar": {
             "outlinewidth": 0,
             "ticks": ""
            },
            "colorscale": [
             [
              0,
              "#0d0887"
             ],
             [
              0.1111111111111111,
              "#46039f"
             ],
             [
              0.2222222222222222,
              "#7201a8"
             ],
             [
              0.3333333333333333,
              "#9c179e"
             ],
             [
              0.4444444444444444,
              "#bd3786"
             ],
             [
              0.5555555555555556,
              "#d8576b"
             ],
             [
              0.6666666666666666,
              "#ed7953"
             ],
             [
              0.7777777777777778,
              "#fb9f3a"
             ],
             [
              0.8888888888888888,
              "#fdca26"
             ],
             [
              1,
              "#f0f921"
             ]
            ],
            "type": "histogram2d"
           }
          ],
          "histogram2dcontour": [
           {
            "colorbar": {
             "outlinewidth": 0,
             "ticks": ""
            },
            "colorscale": [
             [
              0,
              "#0d0887"
             ],
             [
              0.1111111111111111,
              "#46039f"
             ],
             [
              0.2222222222222222,
              "#7201a8"
             ],
             [
              0.3333333333333333,
              "#9c179e"
             ],
             [
              0.4444444444444444,
              "#bd3786"
             ],
             [
              0.5555555555555556,
              "#d8576b"
             ],
             [
              0.6666666666666666,
              "#ed7953"
             ],
             [
              0.7777777777777778,
              "#fb9f3a"
             ],
             [
              0.8888888888888888,
              "#fdca26"
             ],
             [
              1,
              "#f0f921"
             ]
            ],
            "type": "histogram2dcontour"
           }
          ],
          "mesh3d": [
           {
            "colorbar": {
             "outlinewidth": 0,
             "ticks": ""
            },
            "type": "mesh3d"
           }
          ],
          "parcoords": [
           {
            "line": {
             "colorbar": {
              "outlinewidth": 0,
              "ticks": ""
             }
            },
            "type": "parcoords"
           }
          ],
          "pie": [
           {
            "automargin": true,
            "type": "pie"
           }
          ],
          "scatter": [
           {
            "fillpattern": {
             "fillmode": "overlay",
             "size": 10,
             "solidity": 0.2
            },
            "type": "scatter"
           }
          ],
          "scatter3d": [
           {
            "line": {
             "colorbar": {
              "outlinewidth": 0,
              "ticks": ""
             }
            },
            "marker": {
             "colorbar": {
              "outlinewidth": 0,
              "ticks": ""
             }
            },
            "type": "scatter3d"
           }
          ],
          "scattercarpet": [
           {
            "marker": {
             "colorbar": {
              "outlinewidth": 0,
              "ticks": ""
             }
            },
            "type": "scattercarpet"
           }
          ],
          "scattergeo": [
           {
            "marker": {
             "colorbar": {
              "outlinewidth": 0,
              "ticks": ""
             }
            },
            "type": "scattergeo"
           }
          ],
          "scattergl": [
           {
            "marker": {
             "colorbar": {
              "outlinewidth": 0,
              "ticks": ""
             }
            },
            "type": "scattergl"
           }
          ],
          "scattermapbox": [
           {
            "marker": {
             "colorbar": {
              "outlinewidth": 0,
              "ticks": ""
             }
            },
            "type": "scattermapbox"
           }
          ],
          "scatterpolar": [
           {
            "marker": {
             "colorbar": {
              "outlinewidth": 0,
              "ticks": ""
             }
            },
            "type": "scatterpolar"
           }
          ],
          "scatterpolargl": [
           {
            "marker": {
             "colorbar": {
              "outlinewidth": 0,
              "ticks": ""
             }
            },
            "type": "scatterpolargl"
           }
          ],
          "scatterternary": [
           {
            "marker": {
             "colorbar": {
              "outlinewidth": 0,
              "ticks": ""
             }
            },
            "type": "scatterternary"
           }
          ],
          "surface": [
           {
            "colorbar": {
             "outlinewidth": 0,
             "ticks": ""
            },
            "colorscale": [
             [
              0,
              "#0d0887"
             ],
             [
              0.1111111111111111,
              "#46039f"
             ],
             [
              0.2222222222222222,
              "#7201a8"
             ],
             [
              0.3333333333333333,
              "#9c179e"
             ],
             [
              0.4444444444444444,
              "#bd3786"
             ],
             [
              0.5555555555555556,
              "#d8576b"
             ],
             [
              0.6666666666666666,
              "#ed7953"
             ],
             [
              0.7777777777777778,
              "#fb9f3a"
             ],
             [
              0.8888888888888888,
              "#fdca26"
             ],
             [
              1,
              "#f0f921"
             ]
            ],
            "type": "surface"
           }
          ],
          "table": [
           {
            "cells": {
             "fill": {
              "color": "#EBF0F8"
             },
             "line": {
              "color": "white"
             }
            },
            "header": {
             "fill": {
              "color": "#C8D4E3"
             },
             "line": {
              "color": "white"
             }
            },
            "type": "table"
           }
          ]
         },
         "layout": {
          "annotationdefaults": {
           "arrowcolor": "#2a3f5f",
           "arrowhead": 0,
           "arrowwidth": 1
          },
          "autotypenumbers": "strict",
          "coloraxis": {
           "colorbar": {
            "outlinewidth": 0,
            "ticks": ""
           }
          },
          "colorscale": {
           "diverging": [
            [
             0,
             "#8e0152"
            ],
            [
             0.1,
             "#c51b7d"
            ],
            [
             0.2,
             "#de77ae"
            ],
            [
             0.3,
             "#f1b6da"
            ],
            [
             0.4,
             "#fde0ef"
            ],
            [
             0.5,
             "#f7f7f7"
            ],
            [
             0.6,
             "#e6f5d0"
            ],
            [
             0.7,
             "#b8e186"
            ],
            [
             0.8,
             "#7fbc41"
            ],
            [
             0.9,
             "#4d9221"
            ],
            [
             1,
             "#276419"
            ]
           ],
           "sequential": [
            [
             0,
             "#0d0887"
            ],
            [
             0.1111111111111111,
             "#46039f"
            ],
            [
             0.2222222222222222,
             "#7201a8"
            ],
            [
             0.3333333333333333,
             "#9c179e"
            ],
            [
             0.4444444444444444,
             "#bd3786"
            ],
            [
             0.5555555555555556,
             "#d8576b"
            ],
            [
             0.6666666666666666,
             "#ed7953"
            ],
            [
             0.7777777777777778,
             "#fb9f3a"
            ],
            [
             0.8888888888888888,
             "#fdca26"
            ],
            [
             1,
             "#f0f921"
            ]
           ],
           "sequentialminus": [
            [
             0,
             "#0d0887"
            ],
            [
             0.1111111111111111,
             "#46039f"
            ],
            [
             0.2222222222222222,
             "#7201a8"
            ],
            [
             0.3333333333333333,
             "#9c179e"
            ],
            [
             0.4444444444444444,
             "#bd3786"
            ],
            [
             0.5555555555555556,
             "#d8576b"
            ],
            [
             0.6666666666666666,
             "#ed7953"
            ],
            [
             0.7777777777777778,
             "#fb9f3a"
            ],
            [
             0.8888888888888888,
             "#fdca26"
            ],
            [
             1,
             "#f0f921"
            ]
           ]
          },
          "colorway": [
           "#636efa",
           "#EF553B",
           "#00cc96",
           "#ab63fa",
           "#FFA15A",
           "#19d3f3",
           "#FF6692",
           "#B6E880",
           "#FF97FF",
           "#FECB52"
          ],
          "font": {
           "color": "#2a3f5f"
          },
          "geo": {
           "bgcolor": "white",
           "lakecolor": "white",
           "landcolor": "#E5ECF6",
           "showlakes": true,
           "showland": true,
           "subunitcolor": "white"
          },
          "hoverlabel": {
           "align": "left"
          },
          "hovermode": "closest",
          "mapbox": {
           "style": "light"
          },
          "paper_bgcolor": "white",
          "plot_bgcolor": "#E5ECF6",
          "polar": {
           "angularaxis": {
            "gridcolor": "white",
            "linecolor": "white",
            "ticks": ""
           },
           "bgcolor": "#E5ECF6",
           "radialaxis": {
            "gridcolor": "white",
            "linecolor": "white",
            "ticks": ""
           }
          },
          "scene": {
           "xaxis": {
            "backgroundcolor": "#E5ECF6",
            "gridcolor": "white",
            "gridwidth": 2,
            "linecolor": "white",
            "showbackground": true,
            "ticks": "",
            "zerolinecolor": "white"
           },
           "yaxis": {
            "backgroundcolor": "#E5ECF6",
            "gridcolor": "white",
            "gridwidth": 2,
            "linecolor": "white",
            "showbackground": true,
            "ticks": "",
            "zerolinecolor": "white"
           },
           "zaxis": {
            "backgroundcolor": "#E5ECF6",
            "gridcolor": "white",
            "gridwidth": 2,
            "linecolor": "white",
            "showbackground": true,
            "ticks": "",
            "zerolinecolor": "white"
           }
          },
          "shapedefaults": {
           "line": {
            "color": "#2a3f5f"
           }
          },
          "ternary": {
           "aaxis": {
            "gridcolor": "white",
            "linecolor": "white",
            "ticks": ""
           },
           "baxis": {
            "gridcolor": "white",
            "linecolor": "white",
            "ticks": ""
           },
           "bgcolor": "#E5ECF6",
           "caxis": {
            "gridcolor": "white",
            "linecolor": "white",
            "ticks": ""
           }
          },
          "title": {
           "x": 0.05
          },
          "xaxis": {
           "automargin": true,
           "gridcolor": "white",
           "linecolor": "white",
           "ticks": "",
           "title": {
            "standoff": 15
           },
           "zerolinecolor": "white",
           "zerolinewidth": 2
          },
          "yaxis": {
           "automargin": true,
           "gridcolor": "white",
           "linecolor": "white",
           "ticks": "",
           "title": {
            "standoff": 15
           },
           "zerolinecolor": "white",
           "zerolinewidth": 2
          }
         }
        },
        "title": {
         "text": "Optimization History Plot"
        },
        "xaxis": {
         "autorange": true,
         "range": [
          -1.8760964912280702,
          30.87609649122807
         ],
         "title": {
          "text": "Trial"
         },
         "type": "linear"
        },
        "yaxis": {
         "autorange": true,
         "range": [
          -0.06493687115750307,
          0.8518189569484227
         ],
         "title": {
          "text": "Objective Value"
         },
         "type": "linear"
        }
       }
      },
      "image/png": "[encoded data removed]",
      "text/html": [
       "<div>                            <div id=\"781fa2d1-9044-4384-903a-472d38c77d42\" class=\"plotly-graph-div\" style=\"height:525px; width:100%;\"></div>            <script type=\"text/javascript\">                require([\"plotly\"], function(Plotly) {                    window.PLOTLYENV=window.PLOTLYENV || {};                                    if (document.getElementById(\"781fa2d1-9044-4384-903a-472d38c77d42\")) {                    Plotly.newPlot(                        \"781fa2d1-9044-4384-903a-472d38c77d42\",                        [{\"mode\":\"markers\",\"name\":\"Objective Value\",\"x\":[0,1,2,3,4,5,6,7,8,9,10,11,12,13,14,15,16,17,18,19,20,21,22,23,24,25,26,27,28,29],\"y\":[0.0,0.0,0.0,0.0,0.0,0.0,0.5106567150981924,0.0,0.0,0.0,0.0,0.5944655467681905,0.36527776249608274,0.469055413865261,0.40168724320617993,0.0,0.0,0.5525052132919629,0.707394623225894,0.0,0.0,0.43217480439067263,0.5958544073061428,0.0,0.7868820857909196,0.0,0.0,0.0,0.0,0.7376920901063914],\"type\":\"scatter\"},{\"name\":\"Best Value\",\"x\":[0,1,2,3,4,5,6,7,8,9,10,11,12,13,14,15,16,17,18,19,20,21,22,23,24,25,26,27,28,29],\"y\":[0.0,0.0,0.0,0.0,0.0,0.0,0.5106567150981924,0.5106567150981924,0.5106567150981924,0.5106567150981924,0.5106567150981924,0.5944655467681905,0.5944655467681905,0.5944655467681905,0.5944655467681905,0.5944655467681905,0.5944655467681905,0.5944655467681905,0.707394623225894,0.707394623225894,0.707394623225894,0.707394623225894,0.707394623225894,0.707394623225894,0.7868820857909196,0.7868820857909196,0.7868820857909196,0.7868820857909196,0.7868820857909196,0.7868820857909196],\"type\":\"scatter\"}],                        {\"title\":{\"text\":\"Optimization History Plot\"},\"xaxis\":{\"title\":{\"text\":\"Trial\"}},\"yaxis\":{\"title\":{\"text\":\"Objective Value\"}},\"template\":{\"data\":{\"histogram2dcontour\":[{\"type\":\"histogram2dcontour\",\"colorbar\":{\"outlinewidth\":0,\"ticks\":\"\"},\"colorscale\":[[0.0,\"#0d0887\"],[0.1111111111111111,\"#46039f\"],[0.2222222222222222,\"#7201a8\"],[0.3333333333333333,\"#9c179e\"],[0.4444444444444444,\"#bd3786\"],[0.5555555555555556,\"#d8576b\"],[0.6666666666666666,\"#ed7953\"],[0.7777777777777778,\"#fb9f3a\"],[0.8888888888888888,\"#fdca26\"],[1.0,\"#f0f921\"]]}],\"choropleth\":[{\"type\":\"choropleth\",\"colorbar\":{\"outlinewidth\":0,\"ticks\":\"\"}}],\"histogram2d\":[{\"type\":\"histogram2d\",\"colorbar\":{\"outlinewidth\":0,\"ticks\":\"\"},\"colorscale\":[[0.0,\"#0d0887\"],[0.1111111111111111,\"#46039f\"],[0.2222222222222222,\"#7201a8\"],[0.3333333333333333,\"#9c179e\"],[0.4444444444444444,\"#bd3786\"],[0.5555555555555556,\"#d8576b\"],[0.6666666666666666,\"#ed7953\"],[0.7777777777777778,\"#fb9f3a\"],[0.8888888888888888,\"#fdca26\"],[1.0,\"#f0f921\"]]}],\"heatmap\":[{\"type\":\"heatmap\",\"colorbar\":{\"outlinewidth\":0,\"ticks\":\"\"},\"colorscale\":[[0.0,\"#0d0887\"],[0.1111111111111111,\"#46039f\"],[0.2222222222222222,\"#7201a8\"],[0.3333333333333333,\"#9c179e\"],[0.4444444444444444,\"#bd3786\"],[0.5555555555555556,\"#d8576b\"],[0.6666666666666666,\"#ed7953\"],[0.7777777777777778,\"#fb9f3a\"],[0.8888888888888888,\"#fdca26\"],[1.0,\"#f0f921\"]]}],\"heatmapgl\":[{\"type\":\"heatmapgl\",\"colorbar\":{\"outlinewidth\":0,\"ticks\":\"\"},\"colorscale\":[[0.0,\"#0d0887\"],[0.1111111111111111,\"#46039f\"],[0.2222222222222222,\"#7201a8\"],[0.3333333333333333,\"#9c179e\"],[0.4444444444444444,\"#bd3786\"],[0.5555555555555556,\"#d8576b\"],[0.6666666666666666,\"#ed7953\"],[0.7777777777777778,\"#fb9f3a\"],[0.8888888888888888,\"#fdca26\"],[1.0,\"#f0f921\"]]}],\"contourcarpet\":[{\"type\":\"contourcarpet\",\"colorbar\":{\"outlinewidth\":0,\"ticks\":\"\"}}],\"contour\":[{\"type\":\"contour\",\"colorbar\":{\"outlinewidth\":0,\"ticks\":\"\"},\"colorscale\":[[0.0,\"#0d0887\"],[0.1111111111111111,\"#46039f\"],[0.2222222222222222,\"#7201a8\"],[0.3333333333333333,\"#9c179e\"],[0.4444444444444444,\"#bd3786\"],[0.5555555555555556,\"#d8576b\"],[0.6666666666666666,\"#ed7953\"],[0.7777777777777778,\"#fb9f3a\"],[0.8888888888888888,\"#fdca26\"],[1.0,\"#f0f921\"]]}],\"surface\":[{\"type\":\"surface\",\"colorbar\":{\"outlinewidth\":0,\"ticks\":\"\"},\"colorscale\":[[0.0,\"#0d0887\"],[0.1111111111111111,\"#46039f\"],[0.2222222222222222,\"#7201a8\"],[0.3333333333333333,\"#9c179e\"],[0.4444444444444444,\"#bd3786\"],[0.5555555555555556,\"#d8576b\"],[0.6666666666666666,\"#ed7953\"],[0.7777777777777778,\"#fb9f3a\"],[0.8888888888888888,\"#fdca26\"],[1.0,\"#f0f921\"]]}],\"mesh3d\":[{\"type\":\"mesh3d\",\"colorbar\":{\"outlinewidth\":0,\"ticks\":\"\"}}],\"scatter\":[{\"fillpattern\":{\"fillmode\":\"overlay\",\"size\":10,\"solidity\":0.2},\"type\":\"scatter\"}],\"parcoords\":[{\"type\":\"parcoords\",\"line\":{\"colorbar\":{\"outlinewidth\":0,\"ticks\":\"\"}}}],\"scatterpolargl\":[{\"type\":\"scatterpolargl\",\"marker\":{\"colorbar\":{\"outlinewidth\":0,\"ticks\":\"\"}}}],\"bar\":[{\"error_x\":{\"color\":\"#2a3f5f\"},\"error_y\":{\"color\":\"#2a3f5f\"},\"marker\":{\"line\":{\"color\":\"#E5ECF6\",\"width\":0.5},\"pattern\":{\"fillmode\":\"overlay\",\"size\":10,\"solidity\":0.2}},\"type\":\"bar\"}],\"scattergeo\":[{\"type\":\"scattergeo\",\"marker\":{\"colorbar\":{\"outlinewidth\":0,\"ticks\":\"\"}}}],\"scatterpolar\":[{\"type\":\"scatterpolar\",\"marker\":{\"colorbar\":{\"outlinewidth\":0,\"ticks\":\"\"}}}],\"histogram\":[{\"marker\":{\"pattern\":{\"fillmode\":\"overlay\",\"size\":10,\"solidity\":0.2}},\"type\":\"histogram\"}],\"scattergl\":[{\"type\":\"scattergl\",\"marker\":{\"colorbar\":{\"outlinewidth\":0,\"ticks\":\"\"}}}],\"scatter3d\":[{\"type\":\"scatter3d\",\"line\":{\"colorbar\":{\"outlinewidth\":0,\"ticks\":\"\"}},\"marker\":{\"colorbar\":{\"outlinewidth\":0,\"ticks\":\"\"}}}],\"scattermapbox\":[{\"type\":\"scattermapbox\",\"marker\":{\"colorbar\":{\"outlinewidth\":0,\"ticks\":\"\"}}}],\"scatterternary\":[{\"type\":\"scatterternary\",\"marker\":{\"colorbar\":{\"outlinewidth\":0,\"ticks\":\"\"}}}],\"scattercarpet\":[{\"type\":\"scattercarpet\",\"marker\":{\"colorbar\":{\"outlinewidth\":0,\"ticks\":\"\"}}}],\"carpet\":[{\"aaxis\":{\"endlinecolor\":\"#2a3f5f\",\"gridcolor\":\"white\",\"linecolor\":\"white\",\"minorgridcolor\":\"white\",\"startlinecolor\":\"#2a3f5f\"},\"baxis\":{\"endlinecolor\":\"#2a3f5f\",\"gridcolor\":\"white\",\"linecolor\":\"white\",\"minorgridcolor\":\"white\",\"startlinecolor\":\"#2a3f5f\"},\"type\":\"carpet\"}],\"table\":[{\"cells\":{\"fill\":{\"color\":\"#EBF0F8\"},\"line\":{\"color\":\"white\"}},\"header\":{\"fill\":{\"color\":\"#C8D4E3\"},\"line\":{\"color\":\"white\"}},\"type\":\"table\"}],\"barpolar\":[{\"marker\":{\"line\":{\"color\":\"#E5ECF6\",\"width\":0.5},\"pattern\":{\"fillmode\":\"overlay\",\"size\":10,\"solidity\":0.2}},\"type\":\"barpolar\"}],\"pie\":[{\"automargin\":true,\"type\":\"pie\"}]},\"layout\":{\"autotypenumbers\":\"strict\",\"colorway\":[\"#636efa\",\"#EF553B\",\"#00cc96\",\"#ab63fa\",\"#FFA15A\",\"#19d3f3\",\"#FF6692\",\"#B6E880\",\"#FF97FF\",\"#FECB52\"],\"font\":{\"color\":\"#2a3f5f\"},\"hovermode\":\"closest\",\"hoverlabel\":{\"align\":\"left\"},\"paper_bgcolor\":\"white\",\"plot_bgcolor\":\"#E5ECF6\",\"polar\":{\"bgcolor\":\"#E5ECF6\",\"angularaxis\":{\"gridcolor\":\"white\",\"linecolor\":\"white\",\"ticks\":\"\"},\"radialaxis\":{\"gridcolor\":\"white\",\"linecolor\":\"white\",\"ticks\":\"\"}},\"ternary\":{\"bgcolor\":\"#E5ECF6\",\"aaxis\":{\"gridcolor\":\"white\",\"linecolor\":\"white\",\"ticks\":\"\"},\"baxis\":{\"gridcolor\":\"white\",\"linecolor\":\"white\",\"ticks\":\"\"},\"caxis\":{\"gridcolor\":\"white\",\"linecolor\":\"white\",\"ticks\":\"\"}},\"coloraxis\":{\"colorbar\":{\"outlinewidth\":0,\"ticks\":\"\"}},\"colorscale\":{\"sequential\":[[0.0,\"#0d0887\"],[0.1111111111111111,\"#46039f\"],[0.2222222222222222,\"#7201a8\"],[0.3333333333333333,\"#9c179e\"],[0.4444444444444444,\"#bd3786\"],[0.5555555555555556,\"#d8576b\"],[0.6666666666666666,\"#ed7953\"],[0.7777777777777778,\"#fb9f3a\"],[0.8888888888888888,\"#fdca26\"],[1.0,\"#f0f921\"]],\"sequentialminus\":[[0.0,\"#0d0887\"],[0.1111111111111111,\"#46039f\"],[0.2222222222222222,\"#7201a8\"],[0.3333333333333333,\"#9c179e\"],[0.4444444444444444,\"#bd3786\"],[0.5555555555555556,\"#d8576b\"],[0.6666666666666666,\"#ed7953\"],[0.7777777777777778,\"#fb9f3a\"],[0.8888888888888888,\"#fdca26\"],[1.0,\"#f0f921\"]],\"diverging\":[[0,\"#8e0152\"],[0.1,\"#c51b7d\"],[0.2,\"#de77ae\"],[0.3,\"#f1b6da\"],[0.4,\"#fde0ef\"],[0.5,\"#f7f7f7\"],[0.6,\"#e6f5d0\"],[0.7,\"#b8e186\"],[0.8,\"#7fbc41\"],[0.9,\"#4d9221\"],[1,\"#276419\"]]},\"xaxis\":{\"gridcolor\":\"white\",\"linecolor\":\"white\",\"ticks\":\"\",\"title\":{\"standoff\":15},\"zerolinecolor\":\"white\",\"automargin\":true,\"zerolinewidth\":2},\"yaxis\":{\"gridcolor\":\"white\",\"linecolor\":\"white\",\"ticks\":\"\",\"title\":{\"standoff\":15},\"zerolinecolor\":\"white\",\"automargin\":true,\"zerolinewidth\":2},\"scene\":{\"xaxis\":{\"backgroundcolor\":\"#E5ECF6\",\"gridcolor\":\"white\",\"linecolor\":\"white\",\"showbackground\":true,\"ticks\":\"\",\"zerolinecolor\":\"white\",\"gridwidth\":2},\"yaxis\":{\"backgroundcolor\":\"#E5ECF6\",\"gridcolor\":\"white\",\"linecolor\":\"white\",\"showbackground\":true,\"ticks\":\"\",\"zerolinecolor\":\"white\",\"gridwidth\":2},\"zaxis\":{\"backgroundcolor\":\"#E5ECF6\",\"gridcolor\":\"white\",\"linecolor\":\"white\",\"showbackground\":true,\"ticks\":\"\",\"zerolinecolor\":\"white\",\"gridwidth\":2}},\"shapedefaults\":{\"line\":{\"color\":\"#2a3f5f\"}},\"annotationdefaults\":{\"arrowcolor\":\"#2a3f5f\",\"arrowhead\":0,\"arrowwidth\":1},\"geo\":{\"bgcolor\":\"white\",\"landcolor\":\"#E5ECF6\",\"subunitcolor\":\"white\",\"showland\":true,\"showlakes\":true,\"lakecolor\":\"white\"},\"title\":{\"x\":0.05},\"mapbox\":{\"style\":\"light\"}}}},                        {\"responsive\": true}                    ).then(function(){\n",
       "                            \n",
       "var gd = document.getElementById('781fa2d1-9044-4384-903a-472d38c77d42');\n",
       "var x = new MutationObserver(function (mutations, observer) {{\n",
       "        var display = window.getComputedStyle(gd).display;\n",
       "        if (!display || display === 'none') {{\n",
       "            console.log([gd, 'removed!']);\n",
       "            Plotly.purge(gd);\n",
       "            observer.disconnect();\n",
       "        }}\n",
       "}});\n",
       "\n",
       "// Listen for the removal of the full notebook cells\n",
       "var notebookContainer = gd.closest('#notebook-container');\n",
       "if (notebookContainer) {{\n",
       "    x.observe(notebookContainer, {childList: true});\n",
       "}}\n",
       "\n",
       "// Listen for the clearing of the current output cell\n",
       "var outputEl = gd.closest('.output');\n",
       "if (outputEl) {{\n",
       "    x.observe(outputEl, {childList: true});\n",
       "}}\n",
       "\n",
       "                        })                };                });            </script>        </div>"
      ]
     },
     "metadata": {},
     "output_type": "display_data"
    }
   ],
   "source": [
    "from optuna.visualization import plot_optimization_history\n",
    "fig = plot_optimization_history(study)\n",
    "#\"./\"+config.RESULTS_DIR+\n",
    "#fig.write_image(\"./\"+config.RESULTS_DIR+\"/opt_hist.png\")\n",
    "fig.show()"
   ]
  },
  {
   "cell_type": "code",
   "execution_count": 225,
   "metadata": {},
   "outputs": [],
   "source": [
    "from optuna.visualization import plot_contour\n",
    "from optuna.visualization import plot_edf\n",
    "from optuna.visualization import plot_intermediate_values\n",
    "from optuna.visualization import plot_optimization_history\n",
    "from optuna.visualization import plot_parallel_coordinate\n",
    "from optuna.visualization import plot_param_importances\n",
    "from optuna.visualization import plot_slice\n"
   ]
  },
  {
   "cell_type": "code",
   "execution_count": 226,
   "metadata": {},
   "outputs": [
    {
     "data": {
      "application/vnd.plotly.v1+json": {
       "config": {
        "plotlyServerURL": "https://plot.ly"
       },
       "data": [
        {
         "cliponaxis": false,
         "hovertemplate": [
          "max_grad_norm (FloatDistribution): 0.0010249830175548182<extra></extra>",
          "exponent_n_steps (IntDistribution): 0.03273962230871176<extra></extra>",
          "gamma (FloatDistribution): 0.09719817581006959<extra></extra>",
          "ent_coef (FloatDistribution): 0.12030889199797169<extra></extra>",
          "gae_lambda (FloatDistribution): 0.16566876666965186<extra></extra>",
          "lr (FloatDistribution): 0.5830595601960403<extra></extra>"
         ],
         "marker": {
          "color": "rgb(66,146,198)"
         },
         "orientation": "h",
         "text": [
          "<0.01",
          "0.03",
          "0.10",
          "0.12",
          "0.17",
          "0.58"
         ],
         "textposition": "outside",
         "type": "bar",
         "x": [
          0.0010249830175548182,
          0.03273962230871176,
          0.09719817581006959,
          0.12030889199797169,
          0.16566876666965186,
          0.5830595601960403
         ],
         "y": [
          "max_grad_norm",
          "exponent_n_steps",
          "gamma",
          "ent_coef",
          "gae_lambda",
          "lr"
         ]
        }
       ],
       "layout": {
        "autosize": true,
        "showlegend": false,
        "template": {
         "data": {
          "bar": [
           {
            "error_x": {
             "color": "#2a3f5f"
            },
            "error_y": {
             "color": "#2a3f5f"
            },
            "marker": {
             "line": {
              "color": "#E5ECF6",
              "width": 0.5
             },
             "pattern": {
              "fillmode": "overlay",
              "size": 10,
              "solidity": 0.2
             }
            },
            "type": "bar"
           }
          ],
          "barpolar": [
           {
            "marker": {
             "line": {
              "color": "#E5ECF6",
              "width": 0.5
             },
             "pattern": {
              "fillmode": "overlay",
              "size": 10,
              "solidity": 0.2
             }
            },
            "type": "barpolar"
           }
          ],
          "carpet": [
           {
            "aaxis": {
             "endlinecolor": "#2a3f5f",
             "gridcolor": "white",
             "linecolor": "white",
             "minorgridcolor": "white",
             "startlinecolor": "#2a3f5f"
            },
            "baxis": {
             "endlinecolor": "#2a3f5f",
             "gridcolor": "white",
             "linecolor": "white",
             "minorgridcolor": "white",
             "startlinecolor": "#2a3f5f"
            },
            "type": "carpet"
           }
          ],
          "choropleth": [
           {
            "colorbar": {
             "outlinewidth": 0,
             "ticks": ""
            },
            "type": "choropleth"
           }
          ],
          "contour": [
           {
            "colorbar": {
             "outlinewidth": 0,
             "ticks": ""
            },
            "colorscale": [
             [
              0,
              "#0d0887"
             ],
             [
              0.1111111111111111,
              "#46039f"
             ],
             [
              0.2222222222222222,
              "#7201a8"
             ],
             [
              0.3333333333333333,
              "#9c179e"
             ],
             [
              0.4444444444444444,
              "#bd3786"
             ],
             [
              0.5555555555555556,
              "#d8576b"
             ],
             [
              0.6666666666666666,
              "#ed7953"
             ],
             [
              0.7777777777777778,
              "#fb9f3a"
             ],
             [
              0.8888888888888888,
              "#fdca26"
             ],
             [
              1,
              "#f0f921"
             ]
            ],
            "type": "contour"
           }
          ],
          "contourcarpet": [
           {
            "colorbar": {
             "outlinewidth": 0,
             "ticks": ""
            },
            "type": "contourcarpet"
           }
          ],
          "heatmap": [
           {
            "colorbar": {
             "outlinewidth": 0,
             "ticks": ""
            },
            "colorscale": [
             [
              0,
              "#0d0887"
             ],
             [
              0.1111111111111111,
              "#46039f"
             ],
             [
              0.2222222222222222,
              "#7201a8"
             ],
             [
              0.3333333333333333,
              "#9c179e"
             ],
             [
              0.4444444444444444,
              "#bd3786"
             ],
             [
              0.5555555555555556,
              "#d8576b"
             ],
             [
              0.6666666666666666,
              "#ed7953"
             ],
             [
              0.7777777777777778,
              "#fb9f3a"
             ],
             [
              0.8888888888888888,
              "#fdca26"
             ],
             [
              1,
              "#f0f921"
             ]
            ],
            "type": "heatmap"
           }
          ],
          "heatmapgl": [
           {
            "colorbar": {
             "outlinewidth": 0,
             "ticks": ""
            },
            "colorscale": [
             [
              0,
              "#0d0887"
             ],
             [
              0.1111111111111111,
              "#46039f"
             ],
             [
              0.2222222222222222,
              "#7201a8"
             ],
             [
              0.3333333333333333,
              "#9c179e"
             ],
             [
              0.4444444444444444,
              "#bd3786"
             ],
             [
              0.5555555555555556,
              "#d8576b"
             ],
             [
              0.6666666666666666,
              "#ed7953"
             ],
             [
              0.7777777777777778,
              "#fb9f3a"
             ],
             [
              0.8888888888888888,
              "#fdca26"
             ],
             [
              1,
              "#f0f921"
             ]
            ],
            "type": "heatmapgl"
           }
          ],
          "histogram": [
           {
            "marker": {
             "pattern": {
              "fillmode": "overlay",
              "size": 10,
              "solidity": 0.2
             }
            },
            "type": "histogram"
           }
          ],
          "histogram2d": [
           {
            "colorbar": {
             "outlinewidth": 0,
             "ticks": ""
            },
            "colorscale": [
             [
              0,
              "#0d0887"
             ],
             [
              0.1111111111111111,
              "#46039f"
             ],
             [
              0.2222222222222222,
              "#7201a8"
             ],
             [
              0.3333333333333333,
              "#9c179e"
             ],
             [
              0.4444444444444444,
              "#bd3786"
             ],
             [
              0.5555555555555556,
              "#d8576b"
             ],
             [
              0.6666666666666666,
              "#ed7953"
             ],
             [
              0.7777777777777778,
              "#fb9f3a"
             ],
             [
              0.8888888888888888,
              "#fdca26"
             ],
             [
              1,
              "#f0f921"
             ]
            ],
            "type": "histogram2d"
           }
          ],
          "histogram2dcontour": [
           {
            "colorbar": {
             "outlinewidth": 0,
             "ticks": ""
            },
            "colorscale": [
             [
              0,
              "#0d0887"
             ],
             [
              0.1111111111111111,
              "#46039f"
             ],
             [
              0.2222222222222222,
              "#7201a8"
             ],
             [
              0.3333333333333333,
              "#9c179e"
             ],
             [
              0.4444444444444444,
              "#bd3786"
             ],
             [
              0.5555555555555556,
              "#d8576b"
             ],
             [
              0.6666666666666666,
              "#ed7953"
             ],
             [
              0.7777777777777778,
              "#fb9f3a"
             ],
             [
              0.8888888888888888,
              "#fdca26"
             ],
             [
              1,
              "#f0f921"
             ]
            ],
            "type": "histogram2dcontour"
           }
          ],
          "mesh3d": [
           {
            "colorbar": {
             "outlinewidth": 0,
             "ticks": ""
            },
            "type": "mesh3d"
           }
          ],
          "parcoords": [
           {
            "line": {
             "colorbar": {
              "outlinewidth": 0,
              "ticks": ""
             }
            },
            "type": "parcoords"
           }
          ],
          "pie": [
           {
            "automargin": true,
            "type": "pie"
           }
          ],
          "scatter": [
           {
            "fillpattern": {
             "fillmode": "overlay",
             "size": 10,
             "solidity": 0.2
            },
            "type": "scatter"
           }
          ],
          "scatter3d": [
           {
            "line": {
             "colorbar": {
              "outlinewidth": 0,
              "ticks": ""
             }
            },
            "marker": {
             "colorbar": {
              "outlinewidth": 0,
              "ticks": ""
             }
            },
            "type": "scatter3d"
           }
          ],
          "scattercarpet": [
           {
            "marker": {
             "colorbar": {
              "outlinewidth": 0,
              "ticks": ""
             }
            },
            "type": "scattercarpet"
           }
          ],
          "scattergeo": [
           {
            "marker": {
             "colorbar": {
              "outlinewidth": 0,
              "ticks": ""
             }
            },
            "type": "scattergeo"
           }
          ],
          "scattergl": [
           {
            "marker": {
             "colorbar": {
              "outlinewidth": 0,
              "ticks": ""
             }
            },
            "type": "scattergl"
           }
          ],
          "scattermapbox": [
           {
            "marker": {
             "colorbar": {
              "outlinewidth": 0,
              "ticks": ""
             }
            },
            "type": "scattermapbox"
           }
          ],
          "scatterpolar": [
           {
            "marker": {
             "colorbar": {
              "outlinewidth": 0,
              "ticks": ""
             }
            },
            "type": "scatterpolar"
           }
          ],
          "scatterpolargl": [
           {
            "marker": {
             "colorbar": {
              "outlinewidth": 0,
              "ticks": ""
             }
            },
            "type": "scatterpolargl"
           }
          ],
          "scatterternary": [
           {
            "marker": {
             "colorbar": {
              "outlinewidth": 0,
              "ticks": ""
             }
            },
            "type": "scatterternary"
           }
          ],
          "surface": [
           {
            "colorbar": {
             "outlinewidth": 0,
             "ticks": ""
            },
            "colorscale": [
             [
              0,
              "#0d0887"
             ],
             [
              0.1111111111111111,
              "#46039f"
             ],
             [
              0.2222222222222222,
              "#7201a8"
             ],
             [
              0.3333333333333333,
              "#9c179e"
             ],
             [
              0.4444444444444444,
              "#bd3786"
             ],
             [
              0.5555555555555556,
              "#d8576b"
             ],
             [
              0.6666666666666666,
              "#ed7953"
             ],
             [
              0.7777777777777778,
              "#fb9f3a"
             ],
             [
              0.8888888888888888,
              "#fdca26"
             ],
             [
              1,
              "#f0f921"
             ]
            ],
            "type": "surface"
           }
          ],
          "table": [
           {
            "cells": {
             "fill": {
              "color": "#EBF0F8"
             },
             "line": {
              "color": "white"
             }
            },
            "header": {
             "fill": {
              "color": "#C8D4E3"
             },
             "line": {
              "color": "white"
             }
            },
            "type": "table"
           }
          ]
         },
         "layout": {
          "annotationdefaults": {
           "arrowcolor": "#2a3f5f",
           "arrowhead": 0,
           "arrowwidth": 1
          },
          "autotypenumbers": "strict",
          "coloraxis": {
           "colorbar": {
            "outlinewidth": 0,
            "ticks": ""
           }
          },
          "colorscale": {
           "diverging": [
            [
             0,
             "#8e0152"
            ],
            [
             0.1,
             "#c51b7d"
            ],
            [
             0.2,
             "#de77ae"
            ],
            [
             0.3,
             "#f1b6da"
            ],
            [
             0.4,
             "#fde0ef"
            ],
            [
             0.5,
             "#f7f7f7"
            ],
            [
             0.6,
             "#e6f5d0"
            ],
            [
             0.7,
             "#b8e186"
            ],
            [
             0.8,
             "#7fbc41"
            ],
            [
             0.9,
             "#4d9221"
            ],
            [
             1,
             "#276419"
            ]
           ],
           "sequential": [
            [
             0,
             "#0d0887"
            ],
            [
             0.1111111111111111,
             "#46039f"
            ],
            [
             0.2222222222222222,
             "#7201a8"
            ],
            [
             0.3333333333333333,
             "#9c179e"
            ],
            [
             0.4444444444444444,
             "#bd3786"
            ],
            [
             0.5555555555555556,
             "#d8576b"
            ],
            [
             0.6666666666666666,
             "#ed7953"
            ],
            [
             0.7777777777777778,
             "#fb9f3a"
            ],
            [
             0.8888888888888888,
             "#fdca26"
            ],
            [
             1,
             "#f0f921"
            ]
           ],
           "sequentialminus": [
            [
             0,
             "#0d0887"
            ],
            [
             0.1111111111111111,
             "#46039f"
            ],
            [
             0.2222222222222222,
             "#7201a8"
            ],
            [
             0.3333333333333333,
             "#9c179e"
            ],
            [
             0.4444444444444444,
             "#bd3786"
            ],
            [
             0.5555555555555556,
             "#d8576b"
            ],
            [
             0.6666666666666666,
             "#ed7953"
            ],
            [
             0.7777777777777778,
             "#fb9f3a"
            ],
            [
             0.8888888888888888,
             "#fdca26"
            ],
            [
             1,
             "#f0f921"
            ]
           ]
          },
          "colorway": [
           "#636efa",
           "#EF553B",
           "#00cc96",
           "#ab63fa",
           "#FFA15A",
           "#19d3f3",
           "#FF6692",
           "#B6E880",
           "#FF97FF",
           "#FECB52"
          ],
          "font": {
           "color": "#2a3f5f"
          },
          "geo": {
           "bgcolor": "white",
           "lakecolor": "white",
           "landcolor": "#E5ECF6",
           "showlakes": true,
           "showland": true,
           "subunitcolor": "white"
          },
          "hoverlabel": {
           "align": "left"
          },
          "hovermode": "closest",
          "mapbox": {
           "style": "light"
          },
          "paper_bgcolor": "white",
          "plot_bgcolor": "#E5ECF6",
          "polar": {
           "angularaxis": {
            "gridcolor": "white",
            "linecolor": "white",
            "ticks": ""
           },
           "bgcolor": "#E5ECF6",
           "radialaxis": {
            "gridcolor": "white",
            "linecolor": "white",
            "ticks": ""
           }
          },
          "scene": {
           "xaxis": {
            "backgroundcolor": "#E5ECF6",
            "gridcolor": "white",
            "gridwidth": 2,
            "linecolor": "white",
            "showbackground": true,
            "ticks": "",
            "zerolinecolor": "white"
           },
           "yaxis": {
            "backgroundcolor": "#E5ECF6",
            "gridcolor": "white",
            "gridwidth": 2,
            "linecolor": "white",
            "showbackground": true,
            "ticks": "",
            "zerolinecolor": "white"
           },
           "zaxis": {
            "backgroundcolor": "#E5ECF6",
            "gridcolor": "white",
            "gridwidth": 2,
            "linecolor": "white",
            "showbackground": true,
            "ticks": "",
            "zerolinecolor": "white"
           }
          },
          "shapedefaults": {
           "line": {
            "color": "#2a3f5f"
           }
          },
          "ternary": {
           "aaxis": {
            "gridcolor": "white",
            "linecolor": "white",
            "ticks": ""
           },
           "baxis": {
            "gridcolor": "white",
            "linecolor": "white",
            "ticks": ""
           },
           "bgcolor": "#E5ECF6",
           "caxis": {
            "gridcolor": "white",
            "linecolor": "white",
            "ticks": ""
           }
          },
          "title": {
           "x": 0.05
          },
          "xaxis": {
           "automargin": true,
           "gridcolor": "white",
           "linecolor": "white",
           "ticks": "",
           "title": {
            "standoff": 15
           },
           "zerolinecolor": "white",
           "zerolinewidth": 2
          },
          "yaxis": {
           "automargin": true,
           "gridcolor": "white",
           "linecolor": "white",
           "ticks": "",
           "title": {
            "standoff": 15
           },
           "zerolinecolor": "white",
           "zerolinewidth": 2
          }
         }
        },
        "title": {
         "text": "Hyperparameter Importances"
        },
        "xaxis": {
         "autorange": true,
         "range": [
          0,
          0.6137469054695162
         ],
         "title": {
          "text": "Importance for Objective Value"
         },
         "type": "linear"
        },
        "yaxis": {
         "autorange": true,
         "range": [
          -0.5,
          5.5
         ],
         "title": {
          "text": "Hyperparameter"
         },
         "type": "category"
        }
       }
      },
      "image/png": "[encoded data removed]",
      "text/html": [
       "<div>                            <div id=\"d4ea9465-0202-4232-809e-b4bad9d3a032\" class=\"plotly-graph-div\" style=\"height:525px; width:100%;\"></div>            <script type=\"text/javascript\">                require([\"plotly\"], function(Plotly) {                    window.PLOTLYENV=window.PLOTLYENV || {};                                    if (document.getElementById(\"d4ea9465-0202-4232-809e-b4bad9d3a032\")) {                    Plotly.newPlot(                        \"d4ea9465-0202-4232-809e-b4bad9d3a032\",                        [{\"cliponaxis\":false,\"hovertemplate\":[\"max_grad_norm (FloatDistribution): 0.0010249830175548182<extra></extra>\",\"exponent_n_steps (IntDistribution): 0.03273962230871176<extra></extra>\",\"gamma (FloatDistribution): 0.09719817581006959<extra></extra>\",\"ent_coef (FloatDistribution): 0.12030889199797169<extra></extra>\",\"gae_lambda (FloatDistribution): 0.16566876666965186<extra></extra>\",\"lr (FloatDistribution): 0.5830595601960403<extra></extra>\"],\"marker\":{\"color\":\"rgb(66,146,198)\"},\"orientation\":\"h\",\"text\":[\"<0.01\",\"0.03\",\"0.10\",\"0.12\",\"0.17\",\"0.58\"],\"textposition\":\"outside\",\"x\":[0.0010249830175548182,0.03273962230871176,0.09719817581006959,0.12030889199797169,0.16566876666965186,0.5830595601960403],\"y\":[\"max_grad_norm\",\"exponent_n_steps\",\"gamma\",\"ent_coef\",\"gae_lambda\",\"lr\"],\"type\":\"bar\"}],                        {\"showlegend\":false,\"title\":{\"text\":\"Hyperparameter Importances\"},\"xaxis\":{\"title\":{\"text\":\"Importance for Objective Value\"}},\"yaxis\":{\"title\":{\"text\":\"Hyperparameter\"}},\"template\":{\"data\":{\"histogram2dcontour\":[{\"type\":\"histogram2dcontour\",\"colorbar\":{\"outlinewidth\":0,\"ticks\":\"\"},\"colorscale\":[[0.0,\"#0d0887\"],[0.1111111111111111,\"#46039f\"],[0.2222222222222222,\"#7201a8\"],[0.3333333333333333,\"#9c179e\"],[0.4444444444444444,\"#bd3786\"],[0.5555555555555556,\"#d8576b\"],[0.6666666666666666,\"#ed7953\"],[0.7777777777777778,\"#fb9f3a\"],[0.8888888888888888,\"#fdca26\"],[1.0,\"#f0f921\"]]}],\"choropleth\":[{\"type\":\"choropleth\",\"colorbar\":{\"outlinewidth\":0,\"ticks\":\"\"}}],\"histogram2d\":[{\"type\":\"histogram2d\",\"colorbar\":{\"outlinewidth\":0,\"ticks\":\"\"},\"colorscale\":[[0.0,\"#0d0887\"],[0.1111111111111111,\"#46039f\"],[0.2222222222222222,\"#7201a8\"],[0.3333333333333333,\"#9c179e\"],[0.4444444444444444,\"#bd3786\"],[0.5555555555555556,\"#d8576b\"],[0.6666666666666666,\"#ed7953\"],[0.7777777777777778,\"#fb9f3a\"],[0.8888888888888888,\"#fdca26\"],[1.0,\"#f0f921\"]]}],\"heatmap\":[{\"type\":\"heatmap\",\"colorbar\":{\"outlinewidth\":0,\"ticks\":\"\"},\"colorscale\":[[0.0,\"#0d0887\"],[0.1111111111111111,\"#46039f\"],[0.2222222222222222,\"#7201a8\"],[0.3333333333333333,\"#9c179e\"],[0.4444444444444444,\"#bd3786\"],[0.5555555555555556,\"#d8576b\"],[0.6666666666666666,\"#ed7953\"],[0.7777777777777778,\"#fb9f3a\"],[0.8888888888888888,\"#fdca26\"],[1.0,\"#f0f921\"]]}],\"heatmapgl\":[{\"type\":\"heatmapgl\",\"colorbar\":{\"outlinewidth\":0,\"ticks\":\"\"},\"colorscale\":[[0.0,\"#0d0887\"],[0.1111111111111111,\"#46039f\"],[0.2222222222222222,\"#7201a8\"],[0.3333333333333333,\"#9c179e\"],[0.4444444444444444,\"#bd3786\"],[0.5555555555555556,\"#d8576b\"],[0.6666666666666666,\"#ed7953\"],[0.7777777777777778,\"#fb9f3a\"],[0.8888888888888888,\"#fdca26\"],[1.0,\"#f0f921\"]]}],\"contourcarpet\":[{\"type\":\"contourcarpet\",\"colorbar\":{\"outlinewidth\":0,\"ticks\":\"\"}}],\"contour\":[{\"type\":\"contour\",\"colorbar\":{\"outlinewidth\":0,\"ticks\":\"\"},\"colorscale\":[[0.0,\"#0d0887\"],[0.1111111111111111,\"#46039f\"],[0.2222222222222222,\"#7201a8\"],[0.3333333333333333,\"#9c179e\"],[0.4444444444444444,\"#bd3786\"],[0.5555555555555556,\"#d8576b\"],[0.6666666666666666,\"#ed7953\"],[0.7777777777777778,\"#fb9f3a\"],[0.8888888888888888,\"#fdca26\"],[1.0,\"#f0f921\"]]}],\"surface\":[{\"type\":\"surface\",\"colorbar\":{\"outlinewidth\":0,\"ticks\":\"\"},\"colorscale\":[[0.0,\"#0d0887\"],[0.1111111111111111,\"#46039f\"],[0.2222222222222222,\"#7201a8\"],[0.3333333333333333,\"#9c179e\"],[0.4444444444444444,\"#bd3786\"],[0.5555555555555556,\"#d8576b\"],[0.6666666666666666,\"#ed7953\"],[0.7777777777777778,\"#fb9f3a\"],[0.8888888888888888,\"#fdca26\"],[1.0,\"#f0f921\"]]}],\"mesh3d\":[{\"type\":\"mesh3d\",\"colorbar\":{\"outlinewidth\":0,\"ticks\":\"\"}}],\"scatter\":[{\"fillpattern\":{\"fillmode\":\"overlay\",\"size\":10,\"solidity\":0.2},\"type\":\"scatter\"}],\"parcoords\":[{\"type\":\"parcoords\",\"line\":{\"colorbar\":{\"outlinewidth\":0,\"ticks\":\"\"}}}],\"scatterpolargl\":[{\"type\":\"scatterpolargl\",\"marker\":{\"colorbar\":{\"outlinewidth\":0,\"ticks\":\"\"}}}],\"bar\":[{\"error_x\":{\"color\":\"#2a3f5f\"},\"error_y\":{\"color\":\"#2a3f5f\"},\"marker\":{\"line\":{\"color\":\"#E5ECF6\",\"width\":0.5},\"pattern\":{\"fillmode\":\"overlay\",\"size\":10,\"solidity\":0.2}},\"type\":\"bar\"}],\"scattergeo\":[{\"type\":\"scattergeo\",\"marker\":{\"colorbar\":{\"outlinewidth\":0,\"ticks\":\"\"}}}],\"scatterpolar\":[{\"type\":\"scatterpolar\",\"marker\":{\"colorbar\":{\"outlinewidth\":0,\"ticks\":\"\"}}}],\"histogram\":[{\"marker\":{\"pattern\":{\"fillmode\":\"overlay\",\"size\":10,\"solidity\":0.2}},\"type\":\"histogram\"}],\"scattergl\":[{\"type\":\"scattergl\",\"marker\":{\"colorbar\":{\"outlinewidth\":0,\"ticks\":\"\"}}}],\"scatter3d\":[{\"type\":\"scatter3d\",\"line\":{\"colorbar\":{\"outlinewidth\":0,\"ticks\":\"\"}},\"marker\":{\"colorbar\":{\"outlinewidth\":0,\"ticks\":\"\"}}}],\"scattermapbox\":[{\"type\":\"scattermapbox\",\"marker\":{\"colorbar\":{\"outlinewidth\":0,\"ticks\":\"\"}}}],\"scatterternary\":[{\"type\":\"scatterternary\",\"marker\":{\"colorbar\":{\"outlinewidth\":0,\"ticks\":\"\"}}}],\"scattercarpet\":[{\"type\":\"scattercarpet\",\"marker\":{\"colorbar\":{\"outlinewidth\":0,\"ticks\":\"\"}}}],\"carpet\":[{\"aaxis\":{\"endlinecolor\":\"#2a3f5f\",\"gridcolor\":\"white\",\"linecolor\":\"white\",\"minorgridcolor\":\"white\",\"startlinecolor\":\"#2a3f5f\"},\"baxis\":{\"endlinecolor\":\"#2a3f5f\",\"gridcolor\":\"white\",\"linecolor\":\"white\",\"minorgridcolor\":\"white\",\"startlinecolor\":\"#2a3f5f\"},\"type\":\"carpet\"}],\"table\":[{\"cells\":{\"fill\":{\"color\":\"#EBF0F8\"},\"line\":{\"color\":\"white\"}},\"header\":{\"fill\":{\"color\":\"#C8D4E3\"},\"line\":{\"color\":\"white\"}},\"type\":\"table\"}],\"barpolar\":[{\"marker\":{\"line\":{\"color\":\"#E5ECF6\",\"width\":0.5},\"pattern\":{\"fillmode\":\"overlay\",\"size\":10,\"solidity\":0.2}},\"type\":\"barpolar\"}],\"pie\":[{\"automargin\":true,\"type\":\"pie\"}]},\"layout\":{\"autotypenumbers\":\"strict\",\"colorway\":[\"#636efa\",\"#EF553B\",\"#00cc96\",\"#ab63fa\",\"#FFA15A\",\"#19d3f3\",\"#FF6692\",\"#B6E880\",\"#FF97FF\",\"#FECB52\"],\"font\":{\"color\":\"#2a3f5f\"},\"hovermode\":\"closest\",\"hoverlabel\":{\"align\":\"left\"},\"paper_bgcolor\":\"white\",\"plot_bgcolor\":\"#E5ECF6\",\"polar\":{\"bgcolor\":\"#E5ECF6\",\"angularaxis\":{\"gridcolor\":\"white\",\"linecolor\":\"white\",\"ticks\":\"\"},\"radialaxis\":{\"gridcolor\":\"white\",\"linecolor\":\"white\",\"ticks\":\"\"}},\"ternary\":{\"bgcolor\":\"#E5ECF6\",\"aaxis\":{\"gridcolor\":\"white\",\"linecolor\":\"white\",\"ticks\":\"\"},\"baxis\":{\"gridcolor\":\"white\",\"linecolor\":\"white\",\"ticks\":\"\"},\"caxis\":{\"gridcolor\":\"white\",\"linecolor\":\"white\",\"ticks\":\"\"}},\"coloraxis\":{\"colorbar\":{\"outlinewidth\":0,\"ticks\":\"\"}},\"colorscale\":{\"sequential\":[[0.0,\"#0d0887\"],[0.1111111111111111,\"#46039f\"],[0.2222222222222222,\"#7201a8\"],[0.3333333333333333,\"#9c179e\"],[0.4444444444444444,\"#bd3786\"],[0.5555555555555556,\"#d8576b\"],[0.6666666666666666,\"#ed7953\"],[0.7777777777777778,\"#fb9f3a\"],[0.8888888888888888,\"#fdca26\"],[1.0,\"#f0f921\"]],\"sequentialminus\":[[0.0,\"#0d0887\"],[0.1111111111111111,\"#46039f\"],[0.2222222222222222,\"#7201a8\"],[0.3333333333333333,\"#9c179e\"],[0.4444444444444444,\"#bd3786\"],[0.5555555555555556,\"#d8576b\"],[0.6666666666666666,\"#ed7953\"],[0.7777777777777778,\"#fb9f3a\"],[0.8888888888888888,\"#fdca26\"],[1.0,\"#f0f921\"]],\"diverging\":[[0,\"#8e0152\"],[0.1,\"#c51b7d\"],[0.2,\"#de77ae\"],[0.3,\"#f1b6da\"],[0.4,\"#fde0ef\"],[0.5,\"#f7f7f7\"],[0.6,\"#e6f5d0\"],[0.7,\"#b8e186\"],[0.8,\"#7fbc41\"],[0.9,\"#4d9221\"],[1,\"#276419\"]]},\"xaxis\":{\"gridcolor\":\"white\",\"linecolor\":\"white\",\"ticks\":\"\",\"title\":{\"standoff\":15},\"zerolinecolor\":\"white\",\"automargin\":true,\"zerolinewidth\":2},\"yaxis\":{\"gridcolor\":\"white\",\"linecolor\":\"white\",\"ticks\":\"\",\"title\":{\"standoff\":15},\"zerolinecolor\":\"white\",\"automargin\":true,\"zerolinewidth\":2},\"scene\":{\"xaxis\":{\"backgroundcolor\":\"#E5ECF6\",\"gridcolor\":\"white\",\"linecolor\":\"white\",\"showbackground\":true,\"ticks\":\"\",\"zerolinecolor\":\"white\",\"gridwidth\":2},\"yaxis\":{\"backgroundcolor\":\"#E5ECF6\",\"gridcolor\":\"white\",\"linecolor\":\"white\",\"showbackground\":true,\"ticks\":\"\",\"zerolinecolor\":\"white\",\"gridwidth\":2},\"zaxis\":{\"backgroundcolor\":\"#E5ECF6\",\"gridcolor\":\"white\",\"linecolor\":\"white\",\"showbackground\":true,\"ticks\":\"\",\"zerolinecolor\":\"white\",\"gridwidth\":2}},\"shapedefaults\":{\"line\":{\"color\":\"#2a3f5f\"}},\"annotationdefaults\":{\"arrowcolor\":\"#2a3f5f\",\"arrowhead\":0,\"arrowwidth\":1},\"geo\":{\"bgcolor\":\"white\",\"landcolor\":\"#E5ECF6\",\"subunitcolor\":\"white\",\"showland\":true,\"showlakes\":true,\"lakecolor\":\"white\"},\"title\":{\"x\":0.05},\"mapbox\":{\"style\":\"light\"}}}},                        {\"responsive\": true}                    ).then(function(){\n",
       "                            \n",
       "var gd = document.getElementById('d4ea9465-0202-4232-809e-b4bad9d3a032');\n",
       "var x = new MutationObserver(function (mutations, observer) {{\n",
       "        var display = window.getComputedStyle(gd).display;\n",
       "        if (!display || display === 'none') {{\n",
       "            console.log([gd, 'removed!']);\n",
       "            Plotly.purge(gd);\n",
       "            observer.disconnect();\n",
       "        }}\n",
       "}});\n",
       "\n",
       "// Listen for the removal of the full notebook cells\n",
       "var notebookContainer = gd.closest('#notebook-container');\n",
       "if (notebookContainer) {{\n",
       "    x.observe(notebookContainer, {childList: true});\n",
       "}}\n",
       "\n",
       "// Listen for the clearing of the current output cell\n",
       "var outputEl = gd.closest('.output');\n",
       "if (outputEl) {{\n",
       "    x.observe(outputEl, {childList: true});\n",
       "}}\n",
       "\n",
       "                        })                };                });            </script>        </div>"
      ]
     },
     "metadata": {},
     "output_type": "display_data"
    }
   ],
   "source": [
    "#Hyperparamters importance\n",
    "\n",
    "try:\n",
    "    fig = plot_param_importances(study)\n",
    "#    fig.write_image(\"./\"+config.RESULTS_DIR+\"/params_importances.png\")\n",
    "    fig.show()\n",
    "except:\n",
    "    print('Cannot calculate hyperparameter importances: no variation')"
   ]
  },
  {
   "cell_type": "code",
   "execution_count": 227,
   "metadata": {},
   "outputs": [
    {
     "data": {
      "application/vnd.plotly.v1+json": {
       "config": {
        "plotlyServerURL": "https://plot.ly"
       },
       "data": [
        {
         "mode": "lines",
         "name": "a2c_study",
         "type": "scatter",
         "x": [
          0,
          0.007948303896877975,
          0.01589660779375595,
          0.023844911690633925,
          0.0317932155875119,
          0.03974151948438988,
          0.04768982338126785,
          0.05563812727814582,
          0.0635864311750238,
          0.07153473507190178,
          0.07948303896877976,
          0.08743134286565772,
          0.0953796467625357,
          0.10332795065941368,
          0.11127625455629164,
          0.11922455845316962,
          0.1271728623500476,
          0.13512116624692558,
          0.14306947014380356,
          0.15101777404068153,
          0.1589660779375595,
          0.16691438183443746,
          0.17486268573131544,
          0.18281098962819342,
          0.1907592935250714,
          0.19870759742194938,
          0.20665590131882736,
          0.21460420521570533,
          0.22255250911258329,
          0.23050081300946126,
          0.23844911690633924,
          0.24639742080321722,
          0.2543457247000952,
          0.26229402859697315,
          0.27024233249385116,
          0.2781906363907291,
          0.2861389402876071,
          0.29408724418448506,
          0.30203554808136307,
          0.309983851978241,
          0.317932155875119,
          0.325880459771997,
          0.33382876366887493,
          0.34177706756575293,
          0.3497253714626309,
          0.3576736753595089,
          0.36562197925638684,
          0.37357028315326485,
          0.3815185870501428,
          0.38946689094702075,
          0.39741519484389876,
          0.4053634987407767,
          0.4133118026376547,
          0.42126010653453266,
          0.42920841043141067,
          0.4371567143282886,
          0.44510501822516657,
          0.4530533221220446,
          0.46100162601892253,
          0.46894992991580053,
          0.4768982338126785,
          0.4848465377095565,
          0.49279484160643444,
          0.5007431455033124,
          0.5086914494001904,
          0.5166397532970683,
          0.5245880571939463,
          0.5325363610908244,
          0.5404846649877023,
          0.5484329688845803,
          0.5563812727814582,
          0.5643295766783363,
          0.5722778805752142,
          0.5802261844720922,
          0.5881744883689701,
          0.5961227922658481,
          0.6040710961627261,
          0.6120194000596041,
          0.619967703956482,
          0.62791600785336,
          0.635864311750238,
          0.643812615647116,
          0.651760919543994,
          0.6597092234408719,
          0.6676575273377499,
          0.6756058312346279,
          0.6835541351315059,
          0.6915024390283838,
          0.6994507429252618,
          0.7073990468221397,
          0.7153473507190178,
          0.7232956546158957,
          0.7312439585127737,
          0.7391922624096516,
          0.7471405663065297,
          0.7550888702034076,
          0.7630371741002856,
          0.7709854779971635,
          0.7789337818940415,
          0.7868820857909196
         ],
         "y": [
          0.6333333333333333,
          0.6333333333333333,
          0.6333333333333333,
          0.6333333333333333,
          0.6333333333333333,
          0.6333333333333333,
          0.6333333333333333,
          0.6333333333333333,
          0.6333333333333333,
          0.6333333333333333,
          0.6333333333333333,
          0.6333333333333333,
          0.6333333333333333,
          0.6333333333333333,
          0.6333333333333333,
          0.6333333333333333,
          0.6333333333333333,
          0.6333333333333333,
          0.6333333333333333,
          0.6333333333333333,
          0.6333333333333333,
          0.6333333333333333,
          0.6333333333333333,
          0.6333333333333333,
          0.6333333333333333,
          0.6333333333333333,
          0.6333333333333333,
          0.6333333333333333,
          0.6333333333333333,
          0.6333333333333333,
          0.6333333333333333,
          0.6333333333333333,
          0.6333333333333333,
          0.6333333333333333,
          0.6333333333333333,
          0.6333333333333333,
          0.6333333333333333,
          0.6333333333333333,
          0.6333333333333333,
          0.6333333333333333,
          0.6333333333333333,
          0.6333333333333333,
          0.6333333333333333,
          0.6333333333333333,
          0.6333333333333333,
          0.6333333333333333,
          0.6666666666666666,
          0.6666666666666666,
          0.6666666666666666,
          0.6666666666666666,
          0.6666666666666666,
          0.7,
          0.7,
          0.7,
          0.7,
          0.7333333333333333,
          0.7333333333333333,
          0.7333333333333333,
          0.7333333333333333,
          0.7333333333333333,
          0.7666666666666667,
          0.7666666666666667,
          0.7666666666666667,
          0.7666666666666667,
          0.7666666666666667,
          0.8,
          0.8,
          0.8,
          0.8,
          0.8,
          0.8333333333333334,
          0.8333333333333334,
          0.8333333333333334,
          0.8333333333333334,
          0.8333333333333334,
          0.9,
          0.9,
          0.9,
          0.9,
          0.9,
          0.9,
          0.9,
          0.9,
          0.9,
          0.9,
          0.9,
          0.9,
          0.9,
          0.9,
          0.9333333333333333,
          0.9333333333333333,
          0.9333333333333333,
          0.9333333333333333,
          0.9666666666666667,
          0.9666666666666667,
          0.9666666666666667,
          0.9666666666666667,
          0.9666666666666667,
          0.9666666666666667,
          1
         ]
        }
       ],
       "layout": {
        "autosize": true,
        "template": {
         "data": {
          "bar": [
           {
            "error_x": {
             "color": "#2a3f5f"
            },
            "error_y": {
             "color": "#2a3f5f"
            },
            "marker": {
             "line": {
              "color": "#E5ECF6",
              "width": 0.5
             },
             "pattern": {
              "fillmode": "overlay",
              "size": 10,
              "solidity": 0.2
             }
            },
            "type": "bar"
           }
          ],
          "barpolar": [
           {
            "marker": {
             "line": {
              "color": "#E5ECF6",
              "width": 0.5
             },
             "pattern": {
              "fillmode": "overlay",
              "size": 10,
              "solidity": 0.2
             }
            },
            "type": "barpolar"
           }
          ],
          "carpet": [
           {
            "aaxis": {
             "endlinecolor": "#2a3f5f",
             "gridcolor": "white",
             "linecolor": "white",
             "minorgridcolor": "white",
             "startlinecolor": "#2a3f5f"
            },
            "baxis": {
             "endlinecolor": "#2a3f5f",
             "gridcolor": "white",
             "linecolor": "white",
             "minorgridcolor": "white",
             "startlinecolor": "#2a3f5f"
            },
            "type": "carpet"
           }
          ],
          "choropleth": [
           {
            "colorbar": {
             "outlinewidth": 0,
             "ticks": ""
            },
            "type": "choropleth"
           }
          ],
          "contour": [
           {
            "colorbar": {
             "outlinewidth": 0,
             "ticks": ""
            },
            "colorscale": [
             [
              0,
              "#0d0887"
             ],
             [
              0.1111111111111111,
              "#46039f"
             ],
             [
              0.2222222222222222,
              "#7201a8"
             ],
             [
              0.3333333333333333,
              "#9c179e"
             ],
             [
              0.4444444444444444,
              "#bd3786"
             ],
             [
              0.5555555555555556,
              "#d8576b"
             ],
             [
              0.6666666666666666,
              "#ed7953"
             ],
             [
              0.7777777777777778,
              "#fb9f3a"
             ],
             [
              0.8888888888888888,
              "#fdca26"
             ],
             [
              1,
              "#f0f921"
             ]
            ],
            "type": "contour"
           }
          ],
          "contourcarpet": [
           {
            "colorbar": {
             "outlinewidth": 0,
             "ticks": ""
            },
            "type": "contourcarpet"
           }
          ],
          "heatmap": [
           {
            "colorbar": {
             "outlinewidth": 0,
             "ticks": ""
            },
            "colorscale": [
             [
              0,
              "#0d0887"
             ],
             [
              0.1111111111111111,
              "#46039f"
             ],
             [
              0.2222222222222222,
              "#7201a8"
             ],
             [
              0.3333333333333333,
              "#9c179e"
             ],
             [
              0.4444444444444444,
              "#bd3786"
             ],
             [
              0.5555555555555556,
              "#d8576b"
             ],
             [
              0.6666666666666666,
              "#ed7953"
             ],
             [
              0.7777777777777778,
              "#fb9f3a"
             ],
             [
              0.8888888888888888,
              "#fdca26"
             ],
             [
              1,
              "#f0f921"
             ]
            ],
            "type": "heatmap"
           }
          ],
          "heatmapgl": [
           {
            "colorbar": {
             "outlinewidth": 0,
             "ticks": ""
            },
            "colorscale": [
             [
              0,
              "#0d0887"
             ],
             [
              0.1111111111111111,
              "#46039f"
             ],
             [
              0.2222222222222222,
              "#7201a8"
             ],
             [
              0.3333333333333333,
              "#9c179e"
             ],
             [
              0.4444444444444444,
              "#bd3786"
             ],
             [
              0.5555555555555556,
              "#d8576b"
             ],
             [
              0.6666666666666666,
              "#ed7953"
             ],
             [
              0.7777777777777778,
              "#fb9f3a"
             ],
             [
              0.8888888888888888,
              "#fdca26"
             ],
             [
              1,
              "#f0f921"
             ]
            ],
            "type": "heatmapgl"
           }
          ],
          "histogram": [
           {
            "marker": {
             "pattern": {
              "fillmode": "overlay",
              "size": 10,
              "solidity": 0.2
             }
            },
            "type": "histogram"
           }
          ],
          "histogram2d": [
           {
            "colorbar": {
             "outlinewidth": 0,
             "ticks": ""
            },
            "colorscale": [
             [
              0,
              "#0d0887"
             ],
             [
              0.1111111111111111,
              "#46039f"
             ],
             [
              0.2222222222222222,
              "#7201a8"
             ],
             [
              0.3333333333333333,
              "#9c179e"
             ],
             [
              0.4444444444444444,
              "#bd3786"
             ],
             [
              0.5555555555555556,
              "#d8576b"
             ],
             [
              0.6666666666666666,
              "#ed7953"
             ],
             [
              0.7777777777777778,
              "#fb9f3a"
             ],
             [
              0.8888888888888888,
              "#fdca26"
             ],
             [
              1,
              "#f0f921"
             ]
            ],
            "type": "histogram2d"
           }
          ],
          "histogram2dcontour": [
           {
            "colorbar": {
             "outlinewidth": 0,
             "ticks": ""
            },
            "colorscale": [
             [
              0,
              "#0d0887"
             ],
             [
              0.1111111111111111,
              "#46039f"
             ],
             [
              0.2222222222222222,
              "#7201a8"
             ],
             [
              0.3333333333333333,
              "#9c179e"
             ],
             [
              0.4444444444444444,
              "#bd3786"
             ],
             [
              0.5555555555555556,
              "#d8576b"
             ],
             [
              0.6666666666666666,
              "#ed7953"
             ],
             [
              0.7777777777777778,
              "#fb9f3a"
             ],
             [
              0.8888888888888888,
              "#fdca26"
             ],
             [
              1,
              "#f0f921"
             ]
            ],
            "type": "histogram2dcontour"
           }
          ],
          "mesh3d": [
           {
            "colorbar": {
             "outlinewidth": 0,
             "ticks": ""
            },
            "type": "mesh3d"
           }
          ],
          "parcoords": [
           {
            "line": {
             "colorbar": {
              "outlinewidth": 0,
              "ticks": ""
             }
            },
            "type": "parcoords"
           }
          ],
          "pie": [
           {
            "automargin": true,
            "type": "pie"
           }
          ],
          "scatter": [
           {
            "fillpattern": {
             "fillmode": "overlay",
             "size": 10,
             "solidity": 0.2
            },
            "type": "scatter"
           }
          ],
          "scatter3d": [
           {
            "line": {
             "colorbar": {
              "outlinewidth": 0,
              "ticks": ""
             }
            },
            "marker": {
             "colorbar": {
              "outlinewidth": 0,
              "ticks": ""
             }
            },
            "type": "scatter3d"
           }
          ],
          "scattercarpet": [
           {
            "marker": {
             "colorbar": {
              "outlinewidth": 0,
              "ticks": ""
             }
            },
            "type": "scattercarpet"
           }
          ],
          "scattergeo": [
           {
            "marker": {
             "colorbar": {
              "outlinewidth": 0,
              "ticks": ""
             }
            },
            "type": "scattergeo"
           }
          ],
          "scattergl": [
           {
            "marker": {
             "colorbar": {
              "outlinewidth": 0,
              "ticks": ""
             }
            },
            "type": "scattergl"
           }
          ],
          "scattermapbox": [
           {
            "marker": {
             "colorbar": {
              "outlinewidth": 0,
              "ticks": ""
             }
            },
            "type": "scattermapbox"
           }
          ],
          "scatterpolar": [
           {
            "marker": {
             "colorbar": {
              "outlinewidth": 0,
              "ticks": ""
             }
            },
            "type": "scatterpolar"
           }
          ],
          "scatterpolargl": [
           {
            "marker": {
             "colorbar": {
              "outlinewidth": 0,
              "ticks": ""
             }
            },
            "type": "scatterpolargl"
           }
          ],
          "scatterternary": [
           {
            "marker": {
             "colorbar": {
              "outlinewidth": 0,
              "ticks": ""
             }
            },
            "type": "scatterternary"
           }
          ],
          "surface": [
           {
            "colorbar": {
             "outlinewidth": 0,
             "ticks": ""
            },
            "colorscale": [
             [
              0,
              "#0d0887"
             ],
             [
              0.1111111111111111,
              "#46039f"
             ],
             [
              0.2222222222222222,
              "#7201a8"
             ],
             [
              0.3333333333333333,
              "#9c179e"
             ],
             [
              0.4444444444444444,
              "#bd3786"
             ],
             [
              0.5555555555555556,
              "#d8576b"
             ],
             [
              0.6666666666666666,
              "#ed7953"
             ],
             [
              0.7777777777777778,
              "#fb9f3a"
             ],
             [
              0.8888888888888888,
              "#fdca26"
             ],
             [
              1,
              "#f0f921"
             ]
            ],
            "type": "surface"
           }
          ],
          "table": [
           {
            "cells": {
             "fill": {
              "color": "#EBF0F8"
             },
             "line": {
              "color": "white"
             }
            },
            "header": {
             "fill": {
              "color": "#C8D4E3"
             },
             "line": {
              "color": "white"
             }
            },
            "type": "table"
           }
          ]
         },
         "layout": {
          "annotationdefaults": {
           "arrowcolor": "#2a3f5f",
           "arrowhead": 0,
           "arrowwidth": 1
          },
          "autotypenumbers": "strict",
          "coloraxis": {
           "colorbar": {
            "outlinewidth": 0,
            "ticks": ""
           }
          },
          "colorscale": {
           "diverging": [
            [
             0,
             "#8e0152"
            ],
            [
             0.1,
             "#c51b7d"
            ],
            [
             0.2,
             "#de77ae"
            ],
            [
             0.3,
             "#f1b6da"
            ],
            [
             0.4,
             "#fde0ef"
            ],
            [
             0.5,
             "#f7f7f7"
            ],
            [
             0.6,
             "#e6f5d0"
            ],
            [
             0.7,
             "#b8e186"
            ],
            [
             0.8,
             "#7fbc41"
            ],
            [
             0.9,
             "#4d9221"
            ],
            [
             1,
             "#276419"
            ]
           ],
           "sequential": [
            [
             0,
             "#0d0887"
            ],
            [
             0.1111111111111111,
             "#46039f"
            ],
            [
             0.2222222222222222,
             "#7201a8"
            ],
            [
             0.3333333333333333,
             "#9c179e"
            ],
            [
             0.4444444444444444,
             "#bd3786"
            ],
            [
             0.5555555555555556,
             "#d8576b"
            ],
            [
             0.6666666666666666,
             "#ed7953"
            ],
            [
             0.7777777777777778,
             "#fb9f3a"
            ],
            [
             0.8888888888888888,
             "#fdca26"
            ],
            [
             1,
             "#f0f921"
            ]
           ],
           "sequentialminus": [
            [
             0,
             "#0d0887"
            ],
            [
             0.1111111111111111,
             "#46039f"
            ],
            [
             0.2222222222222222,
             "#7201a8"
            ],
            [
             0.3333333333333333,
             "#9c179e"
            ],
            [
             0.4444444444444444,
             "#bd3786"
            ],
            [
             0.5555555555555556,
             "#d8576b"
            ],
            [
             0.6666666666666666,
             "#ed7953"
            ],
            [
             0.7777777777777778,
             "#fb9f3a"
            ],
            [
             0.8888888888888888,
             "#fdca26"
            ],
            [
             1,
             "#f0f921"
            ]
           ]
          },
          "colorway": [
           "#636efa",
           "#EF553B",
           "#00cc96",
           "#ab63fa",
           "#FFA15A",
           "#19d3f3",
           "#FF6692",
           "#B6E880",
           "#FF97FF",
           "#FECB52"
          ],
          "font": {
           "color": "#2a3f5f"
          },
          "geo": {
           "bgcolor": "white",
           "lakecolor": "white",
           "landcolor": "#E5ECF6",
           "showlakes": true,
           "showland": true,
           "subunitcolor": "white"
          },
          "hoverlabel": {
           "align": "left"
          },
          "hovermode": "closest",
          "mapbox": {
           "style": "light"
          },
          "paper_bgcolor": "white",
          "plot_bgcolor": "#E5ECF6",
          "polar": {
           "angularaxis": {
            "gridcolor": "white",
            "linecolor": "white",
            "ticks": ""
           },
           "bgcolor": "#E5ECF6",
           "radialaxis": {
            "gridcolor": "white",
            "linecolor": "white",
            "ticks": ""
           }
          },
          "scene": {
           "xaxis": {
            "backgroundcolor": "#E5ECF6",
            "gridcolor": "white",
            "gridwidth": 2,
            "linecolor": "white",
            "showbackground": true,
            "ticks": "",
            "zerolinecolor": "white"
           },
           "yaxis": {
            "backgroundcolor": "#E5ECF6",
            "gridcolor": "white",
            "gridwidth": 2,
            "linecolor": "white",
            "showbackground": true,
            "ticks": "",
            "zerolinecolor": "white"
           },
           "zaxis": {
            "backgroundcolor": "#E5ECF6",
            "gridcolor": "white",
            "gridwidth": 2,
            "linecolor": "white",
            "showbackground": true,
            "ticks": "",
            "zerolinecolor": "white"
           }
          },
          "shapedefaults": {
           "line": {
            "color": "#2a3f5f"
           }
          },
          "ternary": {
           "aaxis": {
            "gridcolor": "white",
            "linecolor": "white",
            "ticks": ""
           },
           "baxis": {
            "gridcolor": "white",
            "linecolor": "white",
            "ticks": ""
           },
           "bgcolor": "#E5ECF6",
           "caxis": {
            "gridcolor": "white",
            "linecolor": "white",
            "ticks": ""
           }
          },
          "title": {
           "x": 0.05
          },
          "xaxis": {
           "automargin": true,
           "gridcolor": "white",
           "linecolor": "white",
           "ticks": "",
           "title": {
            "standoff": 15
           },
           "zerolinecolor": "white",
           "zerolinewidth": 2
          },
          "yaxis": {
           "automargin": true,
           "gridcolor": "white",
           "linecolor": "white",
           "ticks": "",
           "title": {
            "standoff": 15
           },
           "zerolinecolor": "white",
           "zerolinewidth": 2
          }
         }
        },
        "title": {
         "text": "Empirical Distribution Function Plot"
        },
        "xaxis": {
         "autorange": true,
         "range": [
          0,
          0.7868820857909196
         ],
         "title": {
          "text": "Objective Value"
         },
         "type": "linear"
        },
        "yaxis": {
         "range": [
          0,
          1
         ],
         "title": {
          "text": "Cumulative Probability"
         },
         "type": "linear"
        }
       }
      },
      "image/png": "[encoded data removed]",
      "text/html": [
       "<div>                            <div id=\"f05dbd7b-4e43-4d35-a791-ecedb2c267ee\" class=\"plotly-graph-div\" style=\"height:525px; width:100%;\"></div>            <script type=\"text/javascript\">                require([\"plotly\"], function(Plotly) {                    window.PLOTLYENV=window.PLOTLYENV || {};                                    if (document.getElementById(\"f05dbd7b-4e43-4d35-a791-ecedb2c267ee\")) {                    Plotly.newPlot(                        \"f05dbd7b-4e43-4d35-a791-ecedb2c267ee\",                        [{\"mode\":\"lines\",\"name\":\"a2c_study\",\"x\":[0.0,0.007948303896877975,0.01589660779375595,0.023844911690633925,0.0317932155875119,0.03974151948438988,0.04768982338126785,0.05563812727814582,0.0635864311750238,0.07153473507190178,0.07948303896877976,0.08743134286565772,0.0953796467625357,0.10332795065941368,0.11127625455629164,0.11922455845316962,0.1271728623500476,0.13512116624692558,0.14306947014380356,0.15101777404068153,0.1589660779375595,0.16691438183443746,0.17486268573131544,0.18281098962819342,0.1907592935250714,0.19870759742194938,0.20665590131882736,0.21460420521570533,0.22255250911258329,0.23050081300946126,0.23844911690633924,0.24639742080321722,0.2543457247000952,0.26229402859697315,0.27024233249385116,0.2781906363907291,0.2861389402876071,0.29408724418448506,0.30203554808136307,0.309983851978241,0.317932155875119,0.325880459771997,0.33382876366887493,0.34177706756575293,0.3497253714626309,0.3576736753595089,0.36562197925638684,0.37357028315326485,0.3815185870501428,0.38946689094702075,0.39741519484389876,0.4053634987407767,0.4133118026376547,0.42126010653453266,0.42920841043141067,0.4371567143282886,0.44510501822516657,0.4530533221220446,0.46100162601892253,0.46894992991580053,0.4768982338126785,0.4848465377095565,0.49279484160643444,0.5007431455033124,0.5086914494001904,0.5166397532970683,0.5245880571939463,0.5325363610908244,0.5404846649877023,0.5484329688845803,0.5563812727814582,0.5643295766783363,0.5722778805752142,0.5802261844720922,0.5881744883689701,0.5961227922658481,0.6040710961627261,0.6120194000596041,0.619967703956482,0.62791600785336,0.635864311750238,0.643812615647116,0.651760919543994,0.6597092234408719,0.6676575273377499,0.6756058312346279,0.6835541351315059,0.6915024390283838,0.6994507429252618,0.7073990468221397,0.7153473507190178,0.7232956546158957,0.7312439585127737,0.7391922624096516,0.7471405663065297,0.7550888702034076,0.7630371741002856,0.7709854779971635,0.7789337818940415,0.7868820857909196],\"y\":[0.6333333333333333,0.6333333333333333,0.6333333333333333,0.6333333333333333,0.6333333333333333,0.6333333333333333,0.6333333333333333,0.6333333333333333,0.6333333333333333,0.6333333333333333,0.6333333333333333,0.6333333333333333,0.6333333333333333,0.6333333333333333,0.6333333333333333,0.6333333333333333,0.6333333333333333,0.6333333333333333,0.6333333333333333,0.6333333333333333,0.6333333333333333,0.6333333333333333,0.6333333333333333,0.6333333333333333,0.6333333333333333,0.6333333333333333,0.6333333333333333,0.6333333333333333,0.6333333333333333,0.6333333333333333,0.6333333333333333,0.6333333333333333,0.6333333333333333,0.6333333333333333,0.6333333333333333,0.6333333333333333,0.6333333333333333,0.6333333333333333,0.6333333333333333,0.6333333333333333,0.6333333333333333,0.6333333333333333,0.6333333333333333,0.6333333333333333,0.6333333333333333,0.6333333333333333,0.6666666666666666,0.6666666666666666,0.6666666666666666,0.6666666666666666,0.6666666666666666,0.7,0.7,0.7,0.7,0.7333333333333333,0.7333333333333333,0.7333333333333333,0.7333333333333333,0.7333333333333333,0.7666666666666667,0.7666666666666667,0.7666666666666667,0.7666666666666667,0.7666666666666667,0.8,0.8,0.8,0.8,0.8,0.8333333333333334,0.8333333333333334,0.8333333333333334,0.8333333333333334,0.8333333333333334,0.9,0.9,0.9,0.9,0.9,0.9,0.9,0.9,0.9,0.9,0.9,0.9,0.9,0.9,0.9333333333333333,0.9333333333333333,0.9333333333333333,0.9333333333333333,0.9666666666666667,0.9666666666666667,0.9666666666666667,0.9666666666666667,0.9666666666666667,0.9666666666666667,1.0],\"type\":\"scatter\"}],                        {\"title\":{\"text\":\"Empirical Distribution Function Plot\"},\"xaxis\":{\"title\":{\"text\":\"Objective Value\"}},\"yaxis\":{\"title\":{\"text\":\"Cumulative Probability\"},\"range\":[0,1]},\"template\":{\"data\":{\"histogram2dcontour\":[{\"type\":\"histogram2dcontour\",\"colorbar\":{\"outlinewidth\":0,\"ticks\":\"\"},\"colorscale\":[[0.0,\"#0d0887\"],[0.1111111111111111,\"#46039f\"],[0.2222222222222222,\"#7201a8\"],[0.3333333333333333,\"#9c179e\"],[0.4444444444444444,\"#bd3786\"],[0.5555555555555556,\"#d8576b\"],[0.6666666666666666,\"#ed7953\"],[0.7777777777777778,\"#fb9f3a\"],[0.8888888888888888,\"#fdca26\"],[1.0,\"#f0f921\"]]}],\"choropleth\":[{\"type\":\"choropleth\",\"colorbar\":{\"outlinewidth\":0,\"ticks\":\"\"}}],\"histogram2d\":[{\"type\":\"histogram2d\",\"colorbar\":{\"outlinewidth\":0,\"ticks\":\"\"},\"colorscale\":[[0.0,\"#0d0887\"],[0.1111111111111111,\"#46039f\"],[0.2222222222222222,\"#7201a8\"],[0.3333333333333333,\"#9c179e\"],[0.4444444444444444,\"#bd3786\"],[0.5555555555555556,\"#d8576b\"],[0.6666666666666666,\"#ed7953\"],[0.7777777777777778,\"#fb9f3a\"],[0.8888888888888888,\"#fdca26\"],[1.0,\"#f0f921\"]]}],\"heatmap\":[{\"type\":\"heatmap\",\"colorbar\":{\"outlinewidth\":0,\"ticks\":\"\"},\"colorscale\":[[0.0,\"#0d0887\"],[0.1111111111111111,\"#46039f\"],[0.2222222222222222,\"#7201a8\"],[0.3333333333333333,\"#9c179e\"],[0.4444444444444444,\"#bd3786\"],[0.5555555555555556,\"#d8576b\"],[0.6666666666666666,\"#ed7953\"],[0.7777777777777778,\"#fb9f3a\"],[0.8888888888888888,\"#fdca26\"],[1.0,\"#f0f921\"]]}],\"heatmapgl\":[{\"type\":\"heatmapgl\",\"colorbar\":{\"outlinewidth\":0,\"ticks\":\"\"},\"colorscale\":[[0.0,\"#0d0887\"],[0.1111111111111111,\"#46039f\"],[0.2222222222222222,\"#7201a8\"],[0.3333333333333333,\"#9c179e\"],[0.4444444444444444,\"#bd3786\"],[0.5555555555555556,\"#d8576b\"],[0.6666666666666666,\"#ed7953\"],[0.7777777777777778,\"#fb9f3a\"],[0.8888888888888888,\"#fdca26\"],[1.0,\"#f0f921\"]]}],\"contourcarpet\":[{\"type\":\"contourcarpet\",\"colorbar\":{\"outlinewidth\":0,\"ticks\":\"\"}}],\"contour\":[{\"type\":\"contour\",\"colorbar\":{\"outlinewidth\":0,\"ticks\":\"\"},\"colorscale\":[[0.0,\"#0d0887\"],[0.1111111111111111,\"#46039f\"],[0.2222222222222222,\"#7201a8\"],[0.3333333333333333,\"#9c179e\"],[0.4444444444444444,\"#bd3786\"],[0.5555555555555556,\"#d8576b\"],[0.6666666666666666,\"#ed7953\"],[0.7777777777777778,\"#fb9f3a\"],[0.8888888888888888,\"#fdca26\"],[1.0,\"#f0f921\"]]}],\"surface\":[{\"type\":\"surface\",\"colorbar\":{\"outlinewidth\":0,\"ticks\":\"\"},\"colorscale\":[[0.0,\"#0d0887\"],[0.1111111111111111,\"#46039f\"],[0.2222222222222222,\"#7201a8\"],[0.3333333333333333,\"#9c179e\"],[0.4444444444444444,\"#bd3786\"],[0.5555555555555556,\"#d8576b\"],[0.6666666666666666,\"#ed7953\"],[0.7777777777777778,\"#fb9f3a\"],[0.8888888888888888,\"#fdca26\"],[1.0,\"#f0f921\"]]}],\"mesh3d\":[{\"type\":\"mesh3d\",\"colorbar\":{\"outlinewidth\":0,\"ticks\":\"\"}}],\"scatter\":[{\"fillpattern\":{\"fillmode\":\"overlay\",\"size\":10,\"solidity\":0.2},\"type\":\"scatter\"}],\"parcoords\":[{\"type\":\"parcoords\",\"line\":{\"colorbar\":{\"outlinewidth\":0,\"ticks\":\"\"}}}],\"scatterpolargl\":[{\"type\":\"scatterpolargl\",\"marker\":{\"colorbar\":{\"outlinewidth\":0,\"ticks\":\"\"}}}],\"bar\":[{\"error_x\":{\"color\":\"#2a3f5f\"},\"error_y\":{\"color\":\"#2a3f5f\"},\"marker\":{\"line\":{\"color\":\"#E5ECF6\",\"width\":0.5},\"pattern\":{\"fillmode\":\"overlay\",\"size\":10,\"solidity\":0.2}},\"type\":\"bar\"}],\"scattergeo\":[{\"type\":\"scattergeo\",\"marker\":{\"colorbar\":{\"outlinewidth\":0,\"ticks\":\"\"}}}],\"scatterpolar\":[{\"type\":\"scatterpolar\",\"marker\":{\"colorbar\":{\"outlinewidth\":0,\"ticks\":\"\"}}}],\"histogram\":[{\"marker\":{\"pattern\":{\"fillmode\":\"overlay\",\"size\":10,\"solidity\":0.2}},\"type\":\"histogram\"}],\"scattergl\":[{\"type\":\"scattergl\",\"marker\":{\"colorbar\":{\"outlinewidth\":0,\"ticks\":\"\"}}}],\"scatter3d\":[{\"type\":\"scatter3d\",\"line\":{\"colorbar\":{\"outlinewidth\":0,\"ticks\":\"\"}},\"marker\":{\"colorbar\":{\"outlinewidth\":0,\"ticks\":\"\"}}}],\"scattermapbox\":[{\"type\":\"scattermapbox\",\"marker\":{\"colorbar\":{\"outlinewidth\":0,\"ticks\":\"\"}}}],\"scatterternary\":[{\"type\":\"scatterternary\",\"marker\":{\"colorbar\":{\"outlinewidth\":0,\"ticks\":\"\"}}}],\"scattercarpet\":[{\"type\":\"scattercarpet\",\"marker\":{\"colorbar\":{\"outlinewidth\":0,\"ticks\":\"\"}}}],\"carpet\":[{\"aaxis\":{\"endlinecolor\":\"#2a3f5f\",\"gridcolor\":\"white\",\"linecolor\":\"white\",\"minorgridcolor\":\"white\",\"startlinecolor\":\"#2a3f5f\"},\"baxis\":{\"endlinecolor\":\"#2a3f5f\",\"gridcolor\":\"white\",\"linecolor\":\"white\",\"minorgridcolor\":\"white\",\"startlinecolor\":\"#2a3f5f\"},\"type\":\"carpet\"}],\"table\":[{\"cells\":{\"fill\":{\"color\":\"#EBF0F8\"},\"line\":{\"color\":\"white\"}},\"header\":{\"fill\":{\"color\":\"#C8D4E3\"},\"line\":{\"color\":\"white\"}},\"type\":\"table\"}],\"barpolar\":[{\"marker\":{\"line\":{\"color\":\"#E5ECF6\",\"width\":0.5},\"pattern\":{\"fillmode\":\"overlay\",\"size\":10,\"solidity\":0.2}},\"type\":\"barpolar\"}],\"pie\":[{\"automargin\":true,\"type\":\"pie\"}]},\"layout\":{\"autotypenumbers\":\"strict\",\"colorway\":[\"#636efa\",\"#EF553B\",\"#00cc96\",\"#ab63fa\",\"#FFA15A\",\"#19d3f3\",\"#FF6692\",\"#B6E880\",\"#FF97FF\",\"#FECB52\"],\"font\":{\"color\":\"#2a3f5f\"},\"hovermode\":\"closest\",\"hoverlabel\":{\"align\":\"left\"},\"paper_bgcolor\":\"white\",\"plot_bgcolor\":\"#E5ECF6\",\"polar\":{\"bgcolor\":\"#E5ECF6\",\"angularaxis\":{\"gridcolor\":\"white\",\"linecolor\":\"white\",\"ticks\":\"\"},\"radialaxis\":{\"gridcolor\":\"white\",\"linecolor\":\"white\",\"ticks\":\"\"}},\"ternary\":{\"bgcolor\":\"#E5ECF6\",\"aaxis\":{\"gridcolor\":\"white\",\"linecolor\":\"white\",\"ticks\":\"\"},\"baxis\":{\"gridcolor\":\"white\",\"linecolor\":\"white\",\"ticks\":\"\"},\"caxis\":{\"gridcolor\":\"white\",\"linecolor\":\"white\",\"ticks\":\"\"}},\"coloraxis\":{\"colorbar\":{\"outlinewidth\":0,\"ticks\":\"\"}},\"colorscale\":{\"sequential\":[[0.0,\"#0d0887\"],[0.1111111111111111,\"#46039f\"],[0.2222222222222222,\"#7201a8\"],[0.3333333333333333,\"#9c179e\"],[0.4444444444444444,\"#bd3786\"],[0.5555555555555556,\"#d8576b\"],[0.6666666666666666,\"#ed7953\"],[0.7777777777777778,\"#fb9f3a\"],[0.8888888888888888,\"#fdca26\"],[1.0,\"#f0f921\"]],\"sequentialminus\":[[0.0,\"#0d0887\"],[0.1111111111111111,\"#46039f\"],[0.2222222222222222,\"#7201a8\"],[0.3333333333333333,\"#9c179e\"],[0.4444444444444444,\"#bd3786\"],[0.5555555555555556,\"#d8576b\"],[0.6666666666666666,\"#ed7953\"],[0.7777777777777778,\"#fb9f3a\"],[0.8888888888888888,\"#fdca26\"],[1.0,\"#f0f921\"]],\"diverging\":[[0,\"#8e0152\"],[0.1,\"#c51b7d\"],[0.2,\"#de77ae\"],[0.3,\"#f1b6da\"],[0.4,\"#fde0ef\"],[0.5,\"#f7f7f7\"],[0.6,\"#e6f5d0\"],[0.7,\"#b8e186\"],[0.8,\"#7fbc41\"],[0.9,\"#4d9221\"],[1,\"#276419\"]]},\"xaxis\":{\"gridcolor\":\"white\",\"linecolor\":\"white\",\"ticks\":\"\",\"title\":{\"standoff\":15},\"zerolinecolor\":\"white\",\"automargin\":true,\"zerolinewidth\":2},\"yaxis\":{\"gridcolor\":\"white\",\"linecolor\":\"white\",\"ticks\":\"\",\"title\":{\"standoff\":15},\"zerolinecolor\":\"white\",\"automargin\":true,\"zerolinewidth\":2},\"scene\":{\"xaxis\":{\"backgroundcolor\":\"#E5ECF6\",\"gridcolor\":\"white\",\"linecolor\":\"white\",\"showbackground\":true,\"ticks\":\"\",\"zerolinecolor\":\"white\",\"gridwidth\":2},\"yaxis\":{\"backgroundcolor\":\"#E5ECF6\",\"gridcolor\":\"white\",\"linecolor\":\"white\",\"showbackground\":true,\"ticks\":\"\",\"zerolinecolor\":\"white\",\"gridwidth\":2},\"zaxis\":{\"backgroundcolor\":\"#E5ECF6\",\"gridcolor\":\"white\",\"linecolor\":\"white\",\"showbackground\":true,\"ticks\":\"\",\"zerolinecolor\":\"white\",\"gridwidth\":2}},\"shapedefaults\":{\"line\":{\"color\":\"#2a3f5f\"}},\"annotationdefaults\":{\"arrowcolor\":\"#2a3f5f\",\"arrowhead\":0,\"arrowwidth\":1},\"geo\":{\"bgcolor\":\"white\",\"landcolor\":\"#E5ECF6\",\"subunitcolor\":\"white\",\"showland\":true,\"showlakes\":true,\"lakecolor\":\"white\"},\"title\":{\"x\":0.05},\"mapbox\":{\"style\":\"light\"}}}},                        {\"responsive\": true}                    ).then(function(){\n",
       "                            \n",
       "var gd = document.getElementById('f05dbd7b-4e43-4d35-a791-ecedb2c267ee');\n",
       "var x = new MutationObserver(function (mutations, observer) {{\n",
       "        var display = window.getComputedStyle(gd).display;\n",
       "        if (!display || display === 'none') {{\n",
       "            console.log([gd, 'removed!']);\n",
       "            Plotly.purge(gd);\n",
       "            observer.disconnect();\n",
       "        }}\n",
       "}});\n",
       "\n",
       "// Listen for the removal of the full notebook cells\n",
       "var notebookContainer = gd.closest('#notebook-container');\n",
       "if (notebookContainer) {{\n",
       "    x.observe(notebookContainer, {childList: true});\n",
       "}}\n",
       "\n",
       "// Listen for the clearing of the current output cell\n",
       "var outputEl = gd.closest('.output');\n",
       "if (outputEl) {{\n",
       "    x.observe(outputEl, {childList: true});\n",
       "}}\n",
       "\n",
       "                        })                };                });            </script>        </div>"
      ]
     },
     "metadata": {},
     "output_type": "display_data"
    }
   ],
   "source": [
    "fig = plot_edf(study)\n",
    "#fig.write_image(\"./\"+config.RESULTS_DIR+\"/emp_dist_func.png\")\n",
    "fig.show()"
   ]
  },
  {
   "cell_type": "code",
   "execution_count": null,
   "metadata": {},
   "outputs": [],
   "source": []
  }
 ],
 "metadata": {
  "colab": {
   "collapsed_sections": [
    "_gDkU-j-fCmZ",
    "3Zpv4S0-fDBv"
   ],
   "name": "Stock_NeurIPS2018.ipynb",
   "provenance": []
  },
  "kernelspec": {
   "display_name": "Python 3 (ipykernel)",
   "language": "python",
   "name": "python3"
  },
  "language_info": {
   "codemirror_mode": {
    "name": "ipython",
    "version": 3
   },
   "file_extension": ".py",
   "mimetype": "text/x-python",
   "name": "python",
   "nbconvert_exporter": "python",
   "pygments_lexer": "ipython3",
   "version": "3.9.13"
  }
 },
 "nbformat": 4,
 "nbformat_minor": 4
}
